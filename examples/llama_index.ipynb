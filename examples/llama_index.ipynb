{
  "cells": [
    {
      "cell_type": "markdown",
      "metadata": {
        "id": "wiDf8GlbuoZW"
      },
      "source": [
        "# LastMile Instrumentor for LlamaIndex\n",
        "\n",
        "In this notebook, we showcase how to use the **LastMile Tracing SDK** to auto-instrument tracing for your LlamaIndex applications. With tracing automatically setup, you can easily debug your RAG application using LastMile's RAG Debugger.\n",
        "\n",
        "## Notebook Outline\n",
        "* [Step 1: Setup](#setup)\n",
        "* [Step 2: Configure the LastMile Instrumentor](#step2)\n",
        "* [Step 3: Load and Process Docs with LlamaIndex](#step3)\n",
        "* [Step 4: Create an Index and Query Engine with LlamaIndex](#step4)\n",
        "* [Step 5: Query the Index with LlamaIndex](#step5)\n",
        "* [Step 6: View Trace Data in RAG Debugger](#step6)\n"
      ]
    },
    {
      "cell_type": "markdown",
      "metadata": {
        "id": "DXgSkeN_ve0V"
      },
      "source": [
        "<a name=\"setup\"></a>\n",
        "# Step 1: Setup\n",
        "\n",
        "To begin, we need to install a few packages including llamaindex and lastmile-eval.\n"
      ]
    },
    {
      "cell_type": "code",
      "execution_count": null,
      "metadata": {
        "colab": {
          "base_uri": "https://localhost:8080/"
        },
        "collapsed": true,
        "id": "5iiYIwq4uoZY",
        "outputId": "327f60b2-db55-4fb6-9330-419afadad6af"
      },
      "outputs": [],
      "source": [
        "!pip install llama-index-embeddings-openai --upgrade\n",
        "%pip install -q html2text llama-index pandas pyarrow tqdm\n",
        "%pip install -q llama-index-readers-web\n",
        "%pip install -q llama-index-callbacks-openinference\n",
        "!pip install openai --upgrade\n",
        "!pip install \"tracing-auto-instrumentation[llama-index]\" --upgrade"
      ]
    },
    {
      "cell_type": "markdown",
      "metadata": {
        "id": "RYiIRNxcuoZY"
      },
      "source": [
        "\n",
        "Import the necessary libraries for this example"
      ]
    },
    {
      "cell_type": "code",
      "execution_count": null,
      "metadata": {
        "id": "P1PEB6VLuoZZ"
      },
      "outputs": [],
      "source": [
        "import llama_index.core\n",
        "\n",
        "from tracing_auto_instrumentation.llama_index import LlamaIndexCallbackHandler\n",
        "import textwrap"
      ]
    },
    {
      "cell_type": "markdown",
      "metadata": {
        "id": "5g5AkKI5v_BW"
      },
      "source": [
        "Before we start this tutorial, we need the following tokens/keys:\n",
        "\n",
        "* LastMile AI API Token: Go to the [LastMile Settings page](https://lastmileai.dev/settings?page=tokens). You will need to first create a LastMile AI account.\n",
        "* OpenAI API Key: Go to [OpenAI API Keys page](https://platform.openai.com/account/api-keys) to create and access your OpenAI API Key.\n",
        "\n",
        "You can either set these explicitly (uncomment the lines below), or save them in a `.env` file within this project directory."
      ]
    },
    {
      "cell_type": "code",
      "execution_count": null,
      "metadata": {
        "id": "yWHxmB2NwD5a"
      },
      "outputs": [],
      "source": [
        "\n",
        "import dotenv\n",
        "dotenv.load_dotenv()\n",
        "\n",
        "# import os\n",
        "# os.environ['OPENAI_API_KEY'] =  os.getenv('OPENAI_API_KEY')\n",
        "# os.environ['LASTMILE_API_TOKEN'] =  os.getenv('LASTMILE_API_TOKEN')"
      ]
    },
    {
      "cell_type": "markdown",
      "metadata": {
        "id": "fnUyfuInuoZZ"
      },
      "source": [
        "<a name=\"step2\"></a>\n",
        "\n",
        "## Step 2: Configure the LastMile Instrumentor\n",
        "\n",
        "Next, we need to configure the LastMile Instrumentor by setting the global handler for LlamaIndex."
      ]
    },
    {
      "cell_type": "code",
      "execution_count": 2,
      "metadata": {
        "id": "LgVwMgCPuoZZ"
      },
      "outputs": [
        {
          "name": "stderr",
          "output_type": "stream",
          "text": [
            "[WARNING] 2024-06-10 17:07:01,485 __init__.py:518: Overriding of current TracerProvider is not allowed\n",
            "[DEBUG] 2024-06-10 17:07:01,487 connectionpool.py:1052: Starting new HTTPS connection (1): lastmileai.dev:443\n",
            "[DEBUG] 2024-06-10 17:07:02,024 connectionpool.py:546: https://lastmileai.dev:443 \"GET /api/evaluation_projects/list?name=LlamaIndex+with+Paul+Graham HTTP/1.1\" 200 362\n"
          ]
        },
        {
          "name": "stdout",
          "output_type": "stream",
          "text": [
            "clx9n70lh00e7qj0qk5njyotx\n"
          ]
        }
      ],
      "source": [
        "import llama_index.core\n",
        "\n",
        "from tracing_auto_instrumentation.llama_index import LlamaIndexCallbackHandler\n",
        "\n",
        "# llama_index.core.global_handler = LlamaIndexCallbackHandler(\n",
        "#     project_name=\"LlamaIndex with Paul Graham\",\n",
        "# )\n",
        "\n",
        "print(LlamaIndexCallbackHandler(\n",
        "    project_name=\"LlamaIndex with Paul Graham\",\n",
        ")._tracer.project_id)\n"
      ]
    },
    {
      "cell_type": "markdown",
      "metadata": {
        "id": "7RbeQj7fuoZZ"
      },
      "source": [
        "<a name=\"step3\"></a>\n",
        "\n",
        "# Step 3: Load and Process Documents\n"
      ]
    },
    {
      "cell_type": "code",
      "execution_count": 3,
      "metadata": {},
      "outputs": [
        {
          "name": "stdout",
          "output_type": "stream",
          "text": [
            "/Users/ankush/anaconda3/envs/empty/lib/python3.12/site-packages/pydantic/_internal/_fields.py:160: UserWarning: Field \"model_parsers\" has conflict with protected namespace \"model_\".\n",
            "\n",
            "You may be able to resolve this warning by setting `model_config['protected_namespaces'] = ()`.\n",
            "  warnings.warn(\n",
            "/Users/ankush/anaconda3/envs/empty/lib/python3.12/site-packages/pydantic/_internal/_fields.py:160: UserWarning: Field \"model_name\" has conflict with protected namespace \"model_\".\n",
            "\n",
            "You may be able to resolve this warning by setting `model_config['protected_namespaces'] = ()`.\n",
            "  warnings.warn(\n",
            "[INFO] 2024-06-10 17:07:24,066 cli.py:45: Running subcommand\n",
            "\u001b[32mINFO\u001b[0m:     Started server process [\u001b[36m66932\u001b[0m]\n",
            "\u001b[32mINFO\u001b[0m:     Waiting for application startup.\n",
            "\u001b[32mINFO\u001b[0m:     Application startup complete.\n",
            "\u001b[32mINFO\u001b[0m:     Uvicorn running on \u001b[1mhttp://127.0.0.1:8000\u001b[0m (Press CTRL+C to quit)\n",
            "\u001b[32mINFO\u001b[0m:     127.0.0.1:55725 - \"\u001b[1mGET / HTTP/1.1\u001b[0m\" \u001b[32m200 OK\u001b[0m\n",
            "\u001b[32mINFO\u001b[0m:     127.0.0.1:55729 - \"\u001b[1mGET /manifest.json HTTP/1.1\u001b[0m\" \u001b[32m200 OK\u001b[0m\n",
            "\u001b[32mINFO\u001b[0m:     127.0.0.1:55730 - \"\u001b[1mGET /favicon.ico HTTP/1.1\u001b[0m\" \u001b[32m200 OK\u001b[0m\n",
            "\u001b[32mINFO\u001b[0m:     127.0.0.1:55725 - \"\u001b[1mGET /api/evaluation_projects/list HTTP/1.1\u001b[0m\" \u001b[32m200 OK\u001b[0m\n",
            "\u001b[32mINFO\u001b[0m:     127.0.0.1:55726 - \"\u001b[1mGET /api/evaluation_sets/list?search=&pageSize=10&cursor=&projectId=default HTTP/1.1\u001b[0m\" \u001b[32m200 OK\u001b[0m\n",
            "\u001b[32mINFO\u001b[0m:     127.0.0.1:55730 - \"\u001b[1mGET /favicon.ico HTTP/1.1\u001b[0m\" \u001b[32m200 OK\u001b[0m\n",
            "\u001b[32mINFO\u001b[0m:     127.0.0.1:55726 - \"\u001b[1mGET /api/rag_query_traces/list?search=&pageSize=5&cursor=&projectId=default HTTP/1.1\u001b[0m\" \u001b[32m200 OK\u001b[0m\n",
            "\u001b[32mINFO\u001b[0m:     127.0.0.1:55725 - \"\u001b[1mGET /api/rag_query_traces/list?search=&pageSize=25&cursor=&projectId=default HTTP/1.1\u001b[0m\" \u001b[32m200 OK\u001b[0m\n",
            "\u001b[32mINFO\u001b[0m:     127.0.0.1:55725 - \"\u001b[1mGET /api/evaluation_projects/read?id=clx9n70lh00e7qj0qk5njyotx HTTP/1.1\u001b[0m\" \u001b[32m200 OK\u001b[0m\n",
            "\u001b[32mINFO\u001b[0m:     127.0.0.1:55726 - \"\u001b[1mGET /favicon.ico HTTP/1.1\u001b[0m\" \u001b[32m200 OK\u001b[0m\n",
            "\u001b[32mINFO\u001b[0m:     127.0.0.1:55725 - \"\u001b[1mGET /api/rag_query_traces/list?search=&pageSize=25&cursor=&projectId=clx9n70lh00e7qj0qk5njyotx HTTP/1.1\u001b[0m\" \u001b[32m200 OK\u001b[0m\n",
            "\u001b[32mINFO\u001b[0m:     127.0.0.1:55725 - \"\u001b[1mGET /api/evaluation_projects/read?id=clwqs1yrd009zpb6nxmvqtkyw HTTP/1.1\u001b[0m\" \u001b[32m200 OK\u001b[0m\n",
            "\u001b[32mINFO\u001b[0m:     127.0.0.1:55737 - \"\u001b[1mGET /favicon.ico HTTP/1.1\u001b[0m\" \u001b[32m200 OK\u001b[0m\n",
            "\u001b[32mINFO\u001b[0m:     127.0.0.1:55725 - \"\u001b[1mGET /api/rag_query_traces/list?search=&pageSize=25&cursor=&projectId=clwqs1yrd009zpb6nxmvqtkyw HTTP/1.1\u001b[0m\" \u001b[32m200 OK\u001b[0m\n",
            "\u001b[32mINFO\u001b[0m:     127.0.0.1:55725 - \"\u001b[1mGET /api/evaluation_projects/read?id=clx9n70lh00e7qj0qk5njyotx HTTP/1.1\u001b[0m\" \u001b[32m200 OK\u001b[0m\n",
            "\u001b[32mINFO\u001b[0m:     127.0.0.1:55737 - \"\u001b[1mGET /favicon.ico HTTP/1.1\u001b[0m\" \u001b[32m200 OK\u001b[0m\n",
            "\u001b[32mINFO\u001b[0m:     127.0.0.1:55725 - \"\u001b[1mGET /api/rag_query_traces/list?search=&pageSize=25&cursor=&projectId=clx9n70lh00e7qj0qk5njyotx HTTP/1.1\u001b[0m\" \u001b[32m200 OK\u001b[0m\n",
            "\u001b[32mINFO\u001b[0m:     127.0.0.1:55743 - \"\u001b[1mGET /api/rag_query_traces/list?search=&pageSize=25&cursor=&projectId=clx9n70lh00e7qj0qk5njyotx HTTP/1.1\u001b[0m\" \u001b[32m200 OK\u001b[0m\n",
            "\u001b[32mINFO\u001b[0m:     127.0.0.1:55742 - \"\u001b[1mGET /api/evaluation_projects/list HTTP/1.1\u001b[0m\" \u001b[32m200 OK\u001b[0m\n"
          ]
        }
      ],
      "source": [
        "!rag-debug launch\n"
      ]
    },
    {
      "cell_type": "code",
      "execution_count": null,
      "metadata": {
        "id": "4xMpbA53uoZa"
      },
      "outputs": [],
      "source": [
        "from llama_index.core import VectorStoreIndex\n",
        "from llama_index.core.node_parser import SentenceSplitter\n",
        "from llama_index.readers.web import SimpleWebPageReader\n",
        "\n",
        "documents = SimpleWebPageReader().load_data(\n",
        "    [\n",
        "        \"https://raw.githubusercontent.com/run-llama/llama_index/main/docs/docs/examples/data/paul_graham/paul_graham_essay.txt\"\n",
        "    ]\n",
        ")\n",
        "\n",
        "parser = SentenceSplitter()\n",
        "nodes = parser.get_nodes_from_documents(documents)"
      ]
    },
    {
      "cell_type": "markdown",
      "metadata": {
        "id": "djIkqfvzuoZa"
      },
      "source": [
        "<a name=\"step4\"></a>\n",
        "\n",
        "# Step 4: Create an Index and Query Engine"
      ]
    },
    {
      "cell_type": "code",
      "execution_count": null,
      "metadata": {
        "id": "b6rq4hy4uoZa"
      },
      "outputs": [],
      "source": [
        "from llama_index.embeddings.openai.base import OpenAIEmbedding\n",
        "\n",
        "index = VectorStoreIndex.from_documents(documents)\n",
        "query_engine = index.as_query_engine()\n"
      ]
    },
    {
      "cell_type": "markdown",
      "metadata": {
        "id": "tnxfNvGJuoZa"
      },
      "source": [
        "<a name=\"step5\"></a>\n",
        "\n",
        "# Step 5: Query the Index"
      ]
    },
    {
      "cell_type": "code",
      "execution_count": null,
      "metadata": {
        "colab": {
          "base_uri": "https://localhost:8080/"
        },
        "id": "P9cbuwX6uoZa",
        "outputId": "1bfb65fa-f841-407a-b794-fa3ceb8d7d71"
      },
      "outputs": [],
      "source": [
        "max_characters_per_line = 80\n",
        "queries = [\n",
        "    \"What did Paul Graham do growing up?\",\n",
        "    \"When and how did Paul Graham's mother die?\",\n",
        "    \"What, in Paul Graham's opinion, is the most distinctive thing about YC?\"\n",
        "]\n",
        "for query in queries:\n",
        "    response = query_engine.query(query)\n",
        "    print(\"Query\")\n",
        "    print(\"=====\")\n",
        "    print(textwrap.fill(query, max_characters_per_line))\n",
        "    print()\n",
        "    print(\"Response\")\n",
        "    print(\"========\")\n",
        "    print(textwrap.fill(str(response), max_characters_per_line))\n",
        "    print()"
      ]
    },
    {
      "cell_type": "markdown",
      "metadata": {
        "id": "bIK5QD9pwcit"
      },
      "source": [
        "<a name=\"step6\"></a>\n",
        "\n",
        "# Step 6: View Trace Data in RAG Debugger\n",
        "Now we can view the trace data of our LlamaIndex application in a UI!\n",
        "#### From your terminal:\n",
        "\n",
        "Export your LASTMILE_API_TOKEN\n",
        "\n",
        "```bash\n",
        "export LASTMILE_API_TOKEN=\"<your-api-token>\"\n",
        "```\n",
        "\n",
        "Run this CLI command to access the UI\n",
        "\n",
        "```bash\n",
        "rag-debug launch\n",
        "```\n",
        "Navigate to the 'Traces' Page where you see all the Traces listed under this Project \"LlamaIndex with Paul Graham\" (top-right corner to choose Project).\n",
        "\n",
        "<img width=\"973\" alt=\"Screenshot 2024-05-28 at 11 37 26 AM\" src=\"https://github.com/lastmile-ai/aiconfig/assets/81494782/9568199a-5404-4254-aaf5-f87ac5a2f562\"/>\n",
        "\n",
        "Let's click into the Trace.\n",
        "\n",
        "<img width=\"973\" alt=\"Screenshot 2024-05-28 at 11 38 05 AM\" src=\"https://github.com/lastmile-ai/aiconfig/assets/81494782/cc1e451c-472f-4b56-9bfc-5508326d12d9\"/>\n",
        "\n",
        "Here we can see all the spans auto-generated for us. This can help us debug and pinpoint issues in our application, especially if we add additional logging on top of the auto-instrumentor."
      ]
    }
  ],
  "metadata": {
    "colab": {
      "provenance": []
    },
    "kernelspec": {
      "display_name": "Python 3",
      "language": "python",
      "name": "python3"
    },
    "language_info": {
      "codemirror_mode": {
        "name": "ipython",
        "version": 3
      },
      "file_extension": ".py",
      "mimetype": "text/x-python",
      "name": "python",
      "nbconvert_exporter": "python",
      "pygments_lexer": "ipython3",
      "version": "3.12.3"
    }
  },
  "nbformat": 4,
  "nbformat_minor": 0
}
