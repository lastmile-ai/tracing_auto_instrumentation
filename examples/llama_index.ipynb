{
  "cells": [
    {
      "cell_type": "markdown",
      "metadata": {
        "id": "wiDf8GlbuoZW"
      },
      "source": [
        "# LastMile Instrumentor for LlamaIndex\n",
        "\n",
        "In this notebook, we showcase how to use the **LastMile Tracing SDK** to auto-instrument tracing for your LlamaIndex applications. With tracing automatically setup, you can easily debug your RAG application using LastMile's RAG Debugger.\n",
        "\n",
        "## Notebook Outline\n",
        "* [Step 1: Setup](#setup)\n",
        "* [Step 2: Configure the LastMile Instrumentor](#step2)\n",
        "* [Step 3: Load and Process Docs with LlamaIndex](#step3)\n",
        "* [Step 4: Create an Index and Query Engine with LlamaIndex](#step4)\n",
        "* [Step 5: Query the Index with LlamaIndex](#step5)\n",
        "* [Step 6: View Trace Data in RAG Debugger](#step6)\n"
      ]
    },
    {
      "cell_type": "markdown",
      "source": [
        "<a name=\"setup\"></a>\n",
        "# Step 1: Setup\n",
        "\n",
        "To begin, we need to install a few packages including llamaindex and lastmile-eval.\n"
      ],
      "metadata": {
        "id": "DXgSkeN_ve0V"
      }
    },
    {
      "cell_type": "code",
      "execution_count": 1,
      "metadata": {
        "colab": {
          "base_uri": "https://localhost:8080/"
        },
        "collapsed": true,
        "id": "5iiYIwq4uoZY",
        "outputId": "327f60b2-db55-4fb6-9330-419afadad6af"
      },
      "outputs": [
        {
          "output_type": "stream",
          "name": "stdout",
          "text": [
            "Requirement already satisfied: llama-index-embeddings-openai in /usr/local/lib/python3.10/dist-packages (0.1.10)\n",
            "Requirement already satisfied: llama-index-core<0.11.0,>=0.10.1 in /usr/local/lib/python3.10/dist-packages (from llama-index-embeddings-openai) (0.10.39.post1)\n",
            "Requirement already satisfied: PyYAML>=6.0.1 in /usr/local/lib/python3.10/dist-packages (from llama-index-core<0.11.0,>=0.10.1->llama-index-embeddings-openai) (6.0.1)\n",
            "Requirement already satisfied: SQLAlchemy[asyncio]>=1.4.49 in /usr/local/lib/python3.10/dist-packages (from llama-index-core<0.11.0,>=0.10.1->llama-index-embeddings-openai) (2.0.30)\n",
            "Requirement already satisfied: aiohttp<4.0.0,>=3.8.6 in /usr/local/lib/python3.10/dist-packages (from llama-index-core<0.11.0,>=0.10.1->llama-index-embeddings-openai) (3.9.5)\n",
            "Requirement already satisfied: dataclasses-json in /usr/local/lib/python3.10/dist-packages (from llama-index-core<0.11.0,>=0.10.1->llama-index-embeddings-openai) (0.6.6)\n",
            "Requirement already satisfied: deprecated>=1.2.9.3 in /usr/local/lib/python3.10/dist-packages (from llama-index-core<0.11.0,>=0.10.1->llama-index-embeddings-openai) (1.2.14)\n",
            "Requirement already satisfied: dirtyjson<2.0.0,>=1.0.8 in /usr/local/lib/python3.10/dist-packages (from llama-index-core<0.11.0,>=0.10.1->llama-index-embeddings-openai) (1.0.8)\n",
            "Requirement already satisfied: fsspec>=2023.5.0 in /usr/local/lib/python3.10/dist-packages (from llama-index-core<0.11.0,>=0.10.1->llama-index-embeddings-openai) (2023.6.0)\n",
            "Requirement already satisfied: httpx in /usr/local/lib/python3.10/dist-packages (from llama-index-core<0.11.0,>=0.10.1->llama-index-embeddings-openai) (0.27.0)\n",
            "Requirement already satisfied: llamaindex-py-client<0.2.0,>=0.1.18 in /usr/local/lib/python3.10/dist-packages (from llama-index-core<0.11.0,>=0.10.1->llama-index-embeddings-openai) (0.1.19)\n",
            "Requirement already satisfied: nest-asyncio<2.0.0,>=1.5.8 in /usr/local/lib/python3.10/dist-packages (from llama-index-core<0.11.0,>=0.10.1->llama-index-embeddings-openai) (1.6.0)\n",
            "Requirement already satisfied: networkx>=3.0 in /usr/local/lib/python3.10/dist-packages (from llama-index-core<0.11.0,>=0.10.1->llama-index-embeddings-openai) (3.3)\n",
            "Requirement already satisfied: nltk<4.0.0,>=3.8.1 in /usr/local/lib/python3.10/dist-packages (from llama-index-core<0.11.0,>=0.10.1->llama-index-embeddings-openai) (3.8.1)\n",
            "Requirement already satisfied: numpy in /usr/local/lib/python3.10/dist-packages (from llama-index-core<0.11.0,>=0.10.1->llama-index-embeddings-openai) (1.25.2)\n",
            "Requirement already satisfied: openai>=1.1.0 in /usr/local/lib/python3.10/dist-packages (from llama-index-core<0.11.0,>=0.10.1->llama-index-embeddings-openai) (1.30.3)\n",
            "Requirement already satisfied: pandas in /usr/local/lib/python3.10/dist-packages (from llama-index-core<0.11.0,>=0.10.1->llama-index-embeddings-openai) (2.1.2)\n",
            "Requirement already satisfied: pillow>=9.0.0 in /usr/local/lib/python3.10/dist-packages (from llama-index-core<0.11.0,>=0.10.1->llama-index-embeddings-openai) (9.4.0)\n",
            "Requirement already satisfied: requests>=2.31.0 in /usr/local/lib/python3.10/dist-packages (from llama-index-core<0.11.0,>=0.10.1->llama-index-embeddings-openai) (2.31.0)\n",
            "Requirement already satisfied: tenacity<9.0.0,>=8.2.0 in /usr/local/lib/python3.10/dist-packages (from llama-index-core<0.11.0,>=0.10.1->llama-index-embeddings-openai) (8.3.0)\n",
            "Requirement already satisfied: tiktoken>=0.3.3 in /usr/local/lib/python3.10/dist-packages (from llama-index-core<0.11.0,>=0.10.1->llama-index-embeddings-openai) (0.7.0)\n",
            "Requirement already satisfied: tqdm<5.0.0,>=4.66.1 in /usr/local/lib/python3.10/dist-packages (from llama-index-core<0.11.0,>=0.10.1->llama-index-embeddings-openai) (4.66.4)\n",
            "Requirement already satisfied: typing-extensions>=4.5.0 in /usr/local/lib/python3.10/dist-packages (from llama-index-core<0.11.0,>=0.10.1->llama-index-embeddings-openai) (4.11.0)\n",
            "Requirement already satisfied: typing-inspect>=0.8.0 in /usr/local/lib/python3.10/dist-packages (from llama-index-core<0.11.0,>=0.10.1->llama-index-embeddings-openai) (0.9.0)\n",
            "Requirement already satisfied: wrapt in /usr/local/lib/python3.10/dist-packages (from llama-index-core<0.11.0,>=0.10.1->llama-index-embeddings-openai) (1.14.1)\n",
            "Requirement already satisfied: aiosignal>=1.1.2 in /usr/local/lib/python3.10/dist-packages (from aiohttp<4.0.0,>=3.8.6->llama-index-core<0.11.0,>=0.10.1->llama-index-embeddings-openai) (1.3.1)\n",
            "Requirement already satisfied: attrs>=17.3.0 in /usr/local/lib/python3.10/dist-packages (from aiohttp<4.0.0,>=3.8.6->llama-index-core<0.11.0,>=0.10.1->llama-index-embeddings-openai) (23.2.0)\n",
            "Requirement already satisfied: frozenlist>=1.1.1 in /usr/local/lib/python3.10/dist-packages (from aiohttp<4.0.0,>=3.8.6->llama-index-core<0.11.0,>=0.10.1->llama-index-embeddings-openai) (1.4.1)\n",
            "Requirement already satisfied: multidict<7.0,>=4.5 in /usr/local/lib/python3.10/dist-packages (from aiohttp<4.0.0,>=3.8.6->llama-index-core<0.11.0,>=0.10.1->llama-index-embeddings-openai) (6.0.5)\n",
            "Requirement already satisfied: yarl<2.0,>=1.0 in /usr/local/lib/python3.10/dist-packages (from aiohttp<4.0.0,>=3.8.6->llama-index-core<0.11.0,>=0.10.1->llama-index-embeddings-openai) (1.9.4)\n",
            "Requirement already satisfied: async-timeout<5.0,>=4.0 in /usr/local/lib/python3.10/dist-packages (from aiohttp<4.0.0,>=3.8.6->llama-index-core<0.11.0,>=0.10.1->llama-index-embeddings-openai) (4.0.3)\n",
            "Requirement already satisfied: pydantic>=1.10 in /usr/local/lib/python3.10/dist-packages (from llamaindex-py-client<0.2.0,>=0.1.18->llama-index-core<0.11.0,>=0.10.1->llama-index-embeddings-openai) (2.7.1)\n",
            "Requirement already satisfied: anyio in /usr/local/lib/python3.10/dist-packages (from httpx->llama-index-core<0.11.0,>=0.10.1->llama-index-embeddings-openai) (3.7.1)\n",
            "Requirement already satisfied: certifi in /usr/local/lib/python3.10/dist-packages (from httpx->llama-index-core<0.11.0,>=0.10.1->llama-index-embeddings-openai) (2024.2.2)\n",
            "Requirement already satisfied: httpcore==1.* in /usr/local/lib/python3.10/dist-packages (from httpx->llama-index-core<0.11.0,>=0.10.1->llama-index-embeddings-openai) (1.0.5)\n",
            "Requirement already satisfied: idna in /usr/local/lib/python3.10/dist-packages (from httpx->llama-index-core<0.11.0,>=0.10.1->llama-index-embeddings-openai) (3.7)\n",
            "Requirement already satisfied: sniffio in /usr/local/lib/python3.10/dist-packages (from httpx->llama-index-core<0.11.0,>=0.10.1->llama-index-embeddings-openai) (1.3.1)\n",
            "Requirement already satisfied: h11<0.15,>=0.13 in /usr/local/lib/python3.10/dist-packages (from httpcore==1.*->httpx->llama-index-core<0.11.0,>=0.10.1->llama-index-embeddings-openai) (0.14.0)\n",
            "Requirement already satisfied: click in /usr/local/lib/python3.10/dist-packages (from nltk<4.0.0,>=3.8.1->llama-index-core<0.11.0,>=0.10.1->llama-index-embeddings-openai) (8.1.7)\n",
            "Requirement already satisfied: joblib in /usr/local/lib/python3.10/dist-packages (from nltk<4.0.0,>=3.8.1->llama-index-core<0.11.0,>=0.10.1->llama-index-embeddings-openai) (1.4.2)\n",
            "Requirement already satisfied: regex>=2021.8.3 in /usr/local/lib/python3.10/dist-packages (from nltk<4.0.0,>=3.8.1->llama-index-core<0.11.0,>=0.10.1->llama-index-embeddings-openai) (2023.12.25)\n",
            "Requirement already satisfied: distro<2,>=1.7.0 in /usr/lib/python3/dist-packages (from openai>=1.1.0->llama-index-core<0.11.0,>=0.10.1->llama-index-embeddings-openai) (1.7.0)\n",
            "Requirement already satisfied: charset-normalizer<4,>=2 in /usr/local/lib/python3.10/dist-packages (from requests>=2.31.0->llama-index-core<0.11.0,>=0.10.1->llama-index-embeddings-openai) (3.3.2)\n",
            "Requirement already satisfied: urllib3<3,>=1.21.1 in /usr/local/lib/python3.10/dist-packages (from requests>=2.31.0->llama-index-core<0.11.0,>=0.10.1->llama-index-embeddings-openai) (2.0.7)\n",
            "Requirement already satisfied: greenlet!=0.4.17 in /usr/local/lib/python3.10/dist-packages (from SQLAlchemy[asyncio]>=1.4.49->llama-index-core<0.11.0,>=0.10.1->llama-index-embeddings-openai) (3.0.3)\n",
            "Requirement already satisfied: mypy-extensions>=0.3.0 in /usr/local/lib/python3.10/dist-packages (from typing-inspect>=0.8.0->llama-index-core<0.11.0,>=0.10.1->llama-index-embeddings-openai) (1.0.0)\n",
            "Requirement already satisfied: marshmallow<4.0.0,>=3.18.0 in /usr/local/lib/python3.10/dist-packages (from dataclasses-json->llama-index-core<0.11.0,>=0.10.1->llama-index-embeddings-openai) (3.21.2)\n",
            "Requirement already satisfied: python-dateutil>=2.8.2 in /usr/local/lib/python3.10/dist-packages (from pandas->llama-index-core<0.11.0,>=0.10.1->llama-index-embeddings-openai) (2.8.2)\n",
            "Requirement already satisfied: pytz>=2020.1 in /usr/local/lib/python3.10/dist-packages (from pandas->llama-index-core<0.11.0,>=0.10.1->llama-index-embeddings-openai) (2023.4)\n",
            "Requirement already satisfied: tzdata>=2022.1 in /usr/local/lib/python3.10/dist-packages (from pandas->llama-index-core<0.11.0,>=0.10.1->llama-index-embeddings-openai) (2024.1)\n",
            "Requirement already satisfied: exceptiongroup in /usr/local/lib/python3.10/dist-packages (from anyio->httpx->llama-index-core<0.11.0,>=0.10.1->llama-index-embeddings-openai) (1.2.1)\n",
            "Requirement already satisfied: packaging>=17.0 in /usr/local/lib/python3.10/dist-packages (from marshmallow<4.0.0,>=3.18.0->dataclasses-json->llama-index-core<0.11.0,>=0.10.1->llama-index-embeddings-openai) (24.0)\n",
            "Requirement already satisfied: annotated-types>=0.4.0 in /usr/local/lib/python3.10/dist-packages (from pydantic>=1.10->llamaindex-py-client<0.2.0,>=0.1.18->llama-index-core<0.11.0,>=0.10.1->llama-index-embeddings-openai) (0.7.0)\n",
            "Requirement already satisfied: pydantic-core==2.18.2 in /usr/local/lib/python3.10/dist-packages (from pydantic>=1.10->llamaindex-py-client<0.2.0,>=0.1.18->llama-index-core<0.11.0,>=0.10.1->llama-index-embeddings-openai) (2.18.2)\n",
            "Requirement already satisfied: six>=1.5 in /usr/local/lib/python3.10/dist-packages (from python-dateutil>=2.8.2->pandas->llama-index-core<0.11.0,>=0.10.1->llama-index-embeddings-openai) (1.16.0)\n",
            "Requirement already satisfied: llama-index-embeddings-openai in /usr/local/lib/python3.10/dist-packages (0.1.10)\n",
            "Requirement already satisfied: llama-index-core<0.11.0,>=0.10.1 in /usr/local/lib/python3.10/dist-packages (from llama-index-embeddings-openai) (0.10.39.post1)\n",
            "Requirement already satisfied: PyYAML>=6.0.1 in /usr/local/lib/python3.10/dist-packages (from llama-index-core<0.11.0,>=0.10.1->llama-index-embeddings-openai) (6.0.1)\n",
            "Requirement already satisfied: SQLAlchemy[asyncio]>=1.4.49 in /usr/local/lib/python3.10/dist-packages (from llama-index-core<0.11.0,>=0.10.1->llama-index-embeddings-openai) (2.0.30)\n",
            "Requirement already satisfied: aiohttp<4.0.0,>=3.8.6 in /usr/local/lib/python3.10/dist-packages (from llama-index-core<0.11.0,>=0.10.1->llama-index-embeddings-openai) (3.9.5)\n",
            "Requirement already satisfied: dataclasses-json in /usr/local/lib/python3.10/dist-packages (from llama-index-core<0.11.0,>=0.10.1->llama-index-embeddings-openai) (0.6.6)\n",
            "Requirement already satisfied: deprecated>=1.2.9.3 in /usr/local/lib/python3.10/dist-packages (from llama-index-core<0.11.0,>=0.10.1->llama-index-embeddings-openai) (1.2.14)\n",
            "Requirement already satisfied: dirtyjson<2.0.0,>=1.0.8 in /usr/local/lib/python3.10/dist-packages (from llama-index-core<0.11.0,>=0.10.1->llama-index-embeddings-openai) (1.0.8)\n",
            "Requirement already satisfied: fsspec>=2023.5.0 in /usr/local/lib/python3.10/dist-packages (from llama-index-core<0.11.0,>=0.10.1->llama-index-embeddings-openai) (2023.6.0)\n",
            "Requirement already satisfied: httpx in /usr/local/lib/python3.10/dist-packages (from llama-index-core<0.11.0,>=0.10.1->llama-index-embeddings-openai) (0.27.0)\n",
            "Requirement already satisfied: llamaindex-py-client<0.2.0,>=0.1.18 in /usr/local/lib/python3.10/dist-packages (from llama-index-core<0.11.0,>=0.10.1->llama-index-embeddings-openai) (0.1.19)\n",
            "Requirement already satisfied: nest-asyncio<2.0.0,>=1.5.8 in /usr/local/lib/python3.10/dist-packages (from llama-index-core<0.11.0,>=0.10.1->llama-index-embeddings-openai) (1.6.0)\n",
            "Requirement already satisfied: networkx>=3.0 in /usr/local/lib/python3.10/dist-packages (from llama-index-core<0.11.0,>=0.10.1->llama-index-embeddings-openai) (3.3)\n",
            "Requirement already satisfied: nltk<4.0.0,>=3.8.1 in /usr/local/lib/python3.10/dist-packages (from llama-index-core<0.11.0,>=0.10.1->llama-index-embeddings-openai) (3.8.1)\n",
            "Requirement already satisfied: numpy in /usr/local/lib/python3.10/dist-packages (from llama-index-core<0.11.0,>=0.10.1->llama-index-embeddings-openai) (1.25.2)\n",
            "Requirement already satisfied: openai>=1.1.0 in /usr/local/lib/python3.10/dist-packages (from llama-index-core<0.11.0,>=0.10.1->llama-index-embeddings-openai) (1.30.3)\n",
            "Requirement already satisfied: pandas in /usr/local/lib/python3.10/dist-packages (from llama-index-core<0.11.0,>=0.10.1->llama-index-embeddings-openai) (2.1.2)\n",
            "Requirement already satisfied: pillow>=9.0.0 in /usr/local/lib/python3.10/dist-packages (from llama-index-core<0.11.0,>=0.10.1->llama-index-embeddings-openai) (9.4.0)\n",
            "Requirement already satisfied: requests>=2.31.0 in /usr/local/lib/python3.10/dist-packages (from llama-index-core<0.11.0,>=0.10.1->llama-index-embeddings-openai) (2.31.0)\n",
            "Requirement already satisfied: tenacity<9.0.0,>=8.2.0 in /usr/local/lib/python3.10/dist-packages (from llama-index-core<0.11.0,>=0.10.1->llama-index-embeddings-openai) (8.3.0)\n",
            "Requirement already satisfied: tiktoken>=0.3.3 in /usr/local/lib/python3.10/dist-packages (from llama-index-core<0.11.0,>=0.10.1->llama-index-embeddings-openai) (0.7.0)\n",
            "Requirement already satisfied: tqdm<5.0.0,>=4.66.1 in /usr/local/lib/python3.10/dist-packages (from llama-index-core<0.11.0,>=0.10.1->llama-index-embeddings-openai) (4.66.4)\n",
            "Requirement already satisfied: typing-extensions>=4.5.0 in /usr/local/lib/python3.10/dist-packages (from llama-index-core<0.11.0,>=0.10.1->llama-index-embeddings-openai) (4.11.0)\n",
            "Requirement already satisfied: typing-inspect>=0.8.0 in /usr/local/lib/python3.10/dist-packages (from llama-index-core<0.11.0,>=0.10.1->llama-index-embeddings-openai) (0.9.0)\n",
            "Requirement already satisfied: wrapt in /usr/local/lib/python3.10/dist-packages (from llama-index-core<0.11.0,>=0.10.1->llama-index-embeddings-openai) (1.14.1)\n",
            "Requirement already satisfied: aiosignal>=1.1.2 in /usr/local/lib/python3.10/dist-packages (from aiohttp<4.0.0,>=3.8.6->llama-index-core<0.11.0,>=0.10.1->llama-index-embeddings-openai) (1.3.1)\n",
            "Requirement already satisfied: attrs>=17.3.0 in /usr/local/lib/python3.10/dist-packages (from aiohttp<4.0.0,>=3.8.6->llama-index-core<0.11.0,>=0.10.1->llama-index-embeddings-openai) (23.2.0)\n",
            "Requirement already satisfied: frozenlist>=1.1.1 in /usr/local/lib/python3.10/dist-packages (from aiohttp<4.0.0,>=3.8.6->llama-index-core<0.11.0,>=0.10.1->llama-index-embeddings-openai) (1.4.1)\n",
            "Requirement already satisfied: multidict<7.0,>=4.5 in /usr/local/lib/python3.10/dist-packages (from aiohttp<4.0.0,>=3.8.6->llama-index-core<0.11.0,>=0.10.1->llama-index-embeddings-openai) (6.0.5)\n",
            "Requirement already satisfied: yarl<2.0,>=1.0 in /usr/local/lib/python3.10/dist-packages (from aiohttp<4.0.0,>=3.8.6->llama-index-core<0.11.0,>=0.10.1->llama-index-embeddings-openai) (1.9.4)\n",
            "Requirement already satisfied: async-timeout<5.0,>=4.0 in /usr/local/lib/python3.10/dist-packages (from aiohttp<4.0.0,>=3.8.6->llama-index-core<0.11.0,>=0.10.1->llama-index-embeddings-openai) (4.0.3)\n",
            "Requirement already satisfied: pydantic>=1.10 in /usr/local/lib/python3.10/dist-packages (from llamaindex-py-client<0.2.0,>=0.1.18->llama-index-core<0.11.0,>=0.10.1->llama-index-embeddings-openai) (2.7.1)\n",
            "Requirement already satisfied: anyio in /usr/local/lib/python3.10/dist-packages (from httpx->llama-index-core<0.11.0,>=0.10.1->llama-index-embeddings-openai) (3.7.1)\n",
            "Requirement already satisfied: certifi in /usr/local/lib/python3.10/dist-packages (from httpx->llama-index-core<0.11.0,>=0.10.1->llama-index-embeddings-openai) (2024.2.2)\n",
            "Requirement already satisfied: httpcore==1.* in /usr/local/lib/python3.10/dist-packages (from httpx->llama-index-core<0.11.0,>=0.10.1->llama-index-embeddings-openai) (1.0.5)\n",
            "Requirement already satisfied: idna in /usr/local/lib/python3.10/dist-packages (from httpx->llama-index-core<0.11.0,>=0.10.1->llama-index-embeddings-openai) (3.7)\n",
            "Requirement already satisfied: sniffio in /usr/local/lib/python3.10/dist-packages (from httpx->llama-index-core<0.11.0,>=0.10.1->llama-index-embeddings-openai) (1.3.1)\n",
            "Requirement already satisfied: h11<0.15,>=0.13 in /usr/local/lib/python3.10/dist-packages (from httpcore==1.*->httpx->llama-index-core<0.11.0,>=0.10.1->llama-index-embeddings-openai) (0.14.0)\n",
            "Requirement already satisfied: click in /usr/local/lib/python3.10/dist-packages (from nltk<4.0.0,>=3.8.1->llama-index-core<0.11.0,>=0.10.1->llama-index-embeddings-openai) (8.1.7)\n",
            "Requirement already satisfied: joblib in /usr/local/lib/python3.10/dist-packages (from nltk<4.0.0,>=3.8.1->llama-index-core<0.11.0,>=0.10.1->llama-index-embeddings-openai) (1.4.2)\n",
            "Requirement already satisfied: regex>=2021.8.3 in /usr/local/lib/python3.10/dist-packages (from nltk<4.0.0,>=3.8.1->llama-index-core<0.11.0,>=0.10.1->llama-index-embeddings-openai) (2023.12.25)\n",
            "Requirement already satisfied: distro<2,>=1.7.0 in /usr/lib/python3/dist-packages (from openai>=1.1.0->llama-index-core<0.11.0,>=0.10.1->llama-index-embeddings-openai) (1.7.0)\n",
            "Requirement already satisfied: charset-normalizer<4,>=2 in /usr/local/lib/python3.10/dist-packages (from requests>=2.31.0->llama-index-core<0.11.0,>=0.10.1->llama-index-embeddings-openai) (3.3.2)\n",
            "Requirement already satisfied: urllib3<3,>=1.21.1 in /usr/local/lib/python3.10/dist-packages (from requests>=2.31.0->llama-index-core<0.11.0,>=0.10.1->llama-index-embeddings-openai) (2.0.7)\n",
            "Requirement already satisfied: greenlet!=0.4.17 in /usr/local/lib/python3.10/dist-packages (from SQLAlchemy[asyncio]>=1.4.49->llama-index-core<0.11.0,>=0.10.1->llama-index-embeddings-openai) (3.0.3)\n",
            "Requirement already satisfied: mypy-extensions>=0.3.0 in /usr/local/lib/python3.10/dist-packages (from typing-inspect>=0.8.0->llama-index-core<0.11.0,>=0.10.1->llama-index-embeddings-openai) (1.0.0)\n",
            "Requirement already satisfied: marshmallow<4.0.0,>=3.18.0 in /usr/local/lib/python3.10/dist-packages (from dataclasses-json->llama-index-core<0.11.0,>=0.10.1->llama-index-embeddings-openai) (3.21.2)\n",
            "Requirement already satisfied: python-dateutil>=2.8.2 in /usr/local/lib/python3.10/dist-packages (from pandas->llama-index-core<0.11.0,>=0.10.1->llama-index-embeddings-openai) (2.8.2)\n",
            "Requirement already satisfied: pytz>=2020.1 in /usr/local/lib/python3.10/dist-packages (from pandas->llama-index-core<0.11.0,>=0.10.1->llama-index-embeddings-openai) (2023.4)\n",
            "Requirement already satisfied: tzdata>=2022.1 in /usr/local/lib/python3.10/dist-packages (from pandas->llama-index-core<0.11.0,>=0.10.1->llama-index-embeddings-openai) (2024.1)\n",
            "Requirement already satisfied: exceptiongroup in /usr/local/lib/python3.10/dist-packages (from anyio->httpx->llama-index-core<0.11.0,>=0.10.1->llama-index-embeddings-openai) (1.2.1)\n",
            "Requirement already satisfied: packaging>=17.0 in /usr/local/lib/python3.10/dist-packages (from marshmallow<4.0.0,>=3.18.0->dataclasses-json->llama-index-core<0.11.0,>=0.10.1->llama-index-embeddings-openai) (24.0)\n",
            "Requirement already satisfied: annotated-types>=0.4.0 in /usr/local/lib/python3.10/dist-packages (from pydantic>=1.10->llamaindex-py-client<0.2.0,>=0.1.18->llama-index-core<0.11.0,>=0.10.1->llama-index-embeddings-openai) (0.7.0)\n",
            "Requirement already satisfied: pydantic-core==2.18.2 in /usr/local/lib/python3.10/dist-packages (from pydantic>=1.10->llamaindex-py-client<0.2.0,>=0.1.18->llama-index-core<0.11.0,>=0.10.1->llama-index-embeddings-openai) (2.18.2)\n",
            "Requirement already satisfied: six>=1.5 in /usr/local/lib/python3.10/dist-packages (from python-dateutil>=2.8.2->pandas->llama-index-core<0.11.0,>=0.10.1->llama-index-embeddings-openai) (1.16.0)\n",
            "Requirement already satisfied: openai in /usr/local/lib/python3.10/dist-packages (1.30.3)\n",
            "Requirement already satisfied: anyio<5,>=3.5.0 in /usr/local/lib/python3.10/dist-packages (from openai) (3.7.1)\n",
            "Requirement already satisfied: distro<2,>=1.7.0 in /usr/lib/python3/dist-packages (from openai) (1.7.0)\n",
            "Requirement already satisfied: httpx<1,>=0.23.0 in /usr/local/lib/python3.10/dist-packages (from openai) (0.27.0)\n",
            "Requirement already satisfied: pydantic<3,>=1.9.0 in /usr/local/lib/python3.10/dist-packages (from openai) (2.7.1)\n",
            "Requirement already satisfied: sniffio in /usr/local/lib/python3.10/dist-packages (from openai) (1.3.1)\n",
            "Requirement already satisfied: tqdm>4 in /usr/local/lib/python3.10/dist-packages (from openai) (4.66.4)\n",
            "Requirement already satisfied: typing-extensions<5,>=4.7 in /usr/local/lib/python3.10/dist-packages (from openai) (4.11.0)\n",
            "Requirement already satisfied: idna>=2.8 in /usr/local/lib/python3.10/dist-packages (from anyio<5,>=3.5.0->openai) (3.7)\n",
            "Requirement already satisfied: exceptiongroup in /usr/local/lib/python3.10/dist-packages (from anyio<5,>=3.5.0->openai) (1.2.1)\n",
            "Requirement already satisfied: certifi in /usr/local/lib/python3.10/dist-packages (from httpx<1,>=0.23.0->openai) (2024.2.2)\n",
            "Requirement already satisfied: httpcore==1.* in /usr/local/lib/python3.10/dist-packages (from httpx<1,>=0.23.0->openai) (1.0.5)\n",
            "Requirement already satisfied: h11<0.15,>=0.13 in /usr/local/lib/python3.10/dist-packages (from httpcore==1.*->httpx<1,>=0.23.0->openai) (0.14.0)\n",
            "Requirement already satisfied: annotated-types>=0.4.0 in /usr/local/lib/python3.10/dist-packages (from pydantic<3,>=1.9.0->openai) (0.7.0)\n",
            "Requirement already satisfied: pydantic-core==2.18.2 in /usr/local/lib/python3.10/dist-packages (from pydantic<3,>=1.9.0->openai) (2.18.2)\n",
            "Requirement already satisfied: tracing-auto-instrumentation[llama-index] in /usr/local/lib/python3.10/dist-packages (0.0.4)\n",
            "Requirement already satisfied: lastmile-eval in /usr/local/lib/python3.10/dist-packages (from tracing-auto-instrumentation[llama-index]) (0.0.52)\n",
            "Requirement already satisfied: html2text in /usr/local/lib/python3.10/dist-packages (from tracing-auto-instrumentation[llama-index]) (2020.1.16)\n",
            "Requirement already satisfied: pandas in /usr/local/lib/python3.10/dist-packages (from tracing-auto-instrumentation[llama-index]) (2.1.2)\n",
            "Requirement already satisfied: pyarrow in /usr/local/lib/python3.10/dist-packages (from tracing-auto-instrumentation[llama-index]) (14.0.2)\n",
            "Requirement already satisfied: tqdm in /usr/local/lib/python3.10/dist-packages (from tracing-auto-instrumentation[llama-index]) (4.66.4)\n",
            "Requirement already satisfied: llama-index in /usr/local/lib/python3.10/dist-packages (from tracing-auto-instrumentation[llama-index]) (0.10.39)\n",
            "Requirement already satisfied: llama-index-embeddings-openai in /usr/local/lib/python3.10/dist-packages (from tracing-auto-instrumentation[llama-index]) (0.1.10)\n",
            "Requirement already satisfied: llama-index-readers-web in /usr/local/lib/python3.10/dist-packages (from tracing-auto-instrumentation[llama-index]) (0.1.17)\n",
            "Requirement already satisfied: llama-index-callbacks-openinference in /usr/local/lib/python3.10/dist-packages (from tracing-auto-instrumentation[llama-index]) (0.1.4)\n",
            "Requirement already satisfied: openinference-instrumentation-llama-index in /usr/local/lib/python3.10/dist-packages (from tracing-auto-instrumentation[llama-index]) (1.4.1)\n",
            "Requirement already satisfied: requests in /usr/local/lib/python3.10/dist-packages (from lastmile-eval->tracing-auto-instrumentation[llama-index]) (2.31.0)\n",
            "Requirement already satisfied: python-dotenv in /usr/local/lib/python3.10/dist-packages (from lastmile-eval->tracing-auto-instrumentation[llama-index]) (1.0.0)\n",
            "Requirement already satisfied: pydantic>=2.1 in /usr/local/lib/python3.10/dist-packages (from lastmile-eval->tracing-auto-instrumentation[llama-index]) (2.7.1)\n",
            "Requirement already satisfied: result in /usr/local/lib/python3.10/dist-packages (from lastmile-eval->tracing-auto-instrumentation[llama-index]) (0.16.0)\n",
            "Requirement already satisfied: lastmile-utils in /usr/local/lib/python3.10/dist-packages (from lastmile-eval->tracing-auto-instrumentation[llama-index]) (0.0.24)\n",
            "Requirement already satisfied: evaluate==0.4.1 in /usr/local/lib/python3.10/dist-packages (from lastmile-eval->tracing-auto-instrumentation[llama-index]) (0.4.1)\n",
            "Requirement already satisfied: arize-phoenix-evals==0.5.0 in /usr/local/lib/python3.10/dist-packages (from lastmile-eval->tracing-auto-instrumentation[llama-index]) (0.5.0)\n",
            "Requirement already satisfied: instructor in /usr/local/lib/python3.10/dist-packages (from lastmile-eval->tracing-auto-instrumentation[llama-index]) (1.3.2)\n",
            "Requirement already satisfied: openai>=1.0.0 in /usr/local/lib/python3.10/dist-packages (from lastmile-eval->tracing-auto-instrumentation[llama-index]) (1.30.3)\n",
            "Requirement already satisfied: rouge-score in /usr/local/lib/python3.10/dist-packages (from lastmile-eval->tracing-auto-instrumentation[llama-index]) (0.1.2)\n",
            "Requirement already satisfied: opentelemetry-api in /usr/local/lib/python3.10/dist-packages (from lastmile-eval->tracing-auto-instrumentation[llama-index]) (1.24.0)\n",
            "Requirement already satisfied: opentelemetry-sdk in /usr/local/lib/python3.10/dist-packages (from lastmile-eval->tracing-auto-instrumentation[llama-index]) (1.24.0)\n",
            "Requirement already satisfied: opentelemetry-exporter-otlp in /usr/local/lib/python3.10/dist-packages (from lastmile-eval->tracing-auto-instrumentation[llama-index]) (1.24.0)\n",
            "Requirement already satisfied: opentelemetry-semantic-conventions in /usr/local/lib/python3.10/dist-packages (from lastmile-eval->tracing-auto-instrumentation[llama-index]) (0.45b0)\n",
            "Requirement already satisfied: openinference-semantic-conventions in /usr/local/lib/python3.10/dist-packages (from lastmile-eval->tracing-auto-instrumentation[llama-index]) (0.1.6)\n",
            "Requirement already satisfied: numpy<2,>=1.22.4 in /usr/local/lib/python3.10/dist-packages (from pandas->tracing-auto-instrumentation[llama-index]) (1.25.2)\n",
            "Requirement already satisfied: python-dateutil>=2.8.2 in /usr/local/lib/python3.10/dist-packages (from pandas->tracing-auto-instrumentation[llama-index]) (2.8.2)\n",
            "Requirement already satisfied: pytz>=2020.1 in /usr/local/lib/python3.10/dist-packages (from pandas->tracing-auto-instrumentation[llama-index]) (2023.4)\n",
            "Requirement already satisfied: tzdata>=2022.1 in /usr/local/lib/python3.10/dist-packages (from pandas->tracing-auto-instrumentation[llama-index]) (2024.1)\n",
            "Requirement already satisfied: typing-extensions<5,>=4.5 in /usr/local/lib/python3.10/dist-packages (from arize-phoenix-evals==0.5.0->lastmile-eval->tracing-auto-instrumentation[llama-index]) (4.11.0)\n",
            "Requirement already satisfied: datasets>=2.0.0 in /usr/local/lib/python3.10/dist-packages (from evaluate==0.4.1->lastmile-eval->tracing-auto-instrumentation[llama-index]) (2.19.1)\n",
            "Requirement already satisfied: dill in /usr/local/lib/python3.10/dist-packages (from evaluate==0.4.1->lastmile-eval->tracing-auto-instrumentation[llama-index]) (0.3.8)\n",
            "Requirement already satisfied: xxhash in /usr/local/lib/python3.10/dist-packages (from evaluate==0.4.1->lastmile-eval->tracing-auto-instrumentation[llama-index]) (3.4.1)\n",
            "Requirement already satisfied: multiprocess in /usr/local/lib/python3.10/dist-packages (from evaluate==0.4.1->lastmile-eval->tracing-auto-instrumentation[llama-index]) (0.70.16)\n",
            "Requirement already satisfied: fsspec[http]>=2021.05.0 in /usr/local/lib/python3.10/dist-packages (from evaluate==0.4.1->lastmile-eval->tracing-auto-instrumentation[llama-index]) (2023.6.0)\n",
            "Requirement already satisfied: huggingface-hub>=0.7.0 in /usr/local/lib/python3.10/dist-packages (from evaluate==0.4.1->lastmile-eval->tracing-auto-instrumentation[llama-index]) (0.23.1)\n",
            "Requirement already satisfied: packaging in /usr/local/lib/python3.10/dist-packages (from evaluate==0.4.1->lastmile-eval->tracing-auto-instrumentation[llama-index]) (24.0)\n",
            "Requirement already satisfied: responses<0.19 in /usr/local/lib/python3.10/dist-packages (from evaluate==0.4.1->lastmile-eval->tracing-auto-instrumentation[llama-index]) (0.18.0)\n",
            "Requirement already satisfied: llama-index-agent-openai<0.3.0,>=0.1.4 in /usr/local/lib/python3.10/dist-packages (from llama-index->tracing-auto-instrumentation[llama-index]) (0.2.5)\n",
            "Requirement already satisfied: llama-index-cli<0.2.0,>=0.1.2 in /usr/local/lib/python3.10/dist-packages (from llama-index->tracing-auto-instrumentation[llama-index]) (0.1.12)\n",
            "Requirement already satisfied: llama-index-core<0.11.0,>=0.10.39 in /usr/local/lib/python3.10/dist-packages (from llama-index->tracing-auto-instrumentation[llama-index]) (0.10.39.post1)\n",
            "Requirement already satisfied: llama-index-indices-managed-llama-cloud<0.2.0,>=0.1.2 in /usr/local/lib/python3.10/dist-packages (from llama-index->tracing-auto-instrumentation[llama-index]) (0.1.6)\n",
            "Requirement already satisfied: llama-index-legacy<0.10.0,>=0.9.48 in /usr/local/lib/python3.10/dist-packages (from llama-index->tracing-auto-instrumentation[llama-index]) (0.9.48)\n",
            "Requirement already satisfied: llama-index-llms-openai<0.2.0,>=0.1.13 in /usr/local/lib/python3.10/dist-packages (from llama-index->tracing-auto-instrumentation[llama-index]) (0.1.21)\n",
            "Requirement already satisfied: llama-index-multi-modal-llms-openai<0.2.0,>=0.1.3 in /usr/local/lib/python3.10/dist-packages (from llama-index->tracing-auto-instrumentation[llama-index]) (0.1.6)\n",
            "Requirement already satisfied: llama-index-program-openai<0.2.0,>=0.1.3 in /usr/local/lib/python3.10/dist-packages (from llama-index->tracing-auto-instrumentation[llama-index]) (0.1.6)\n",
            "Requirement already satisfied: llama-index-question-gen-openai<0.2.0,>=0.1.2 in /usr/local/lib/python3.10/dist-packages (from llama-index->tracing-auto-instrumentation[llama-index]) (0.1.3)\n",
            "Requirement already satisfied: llama-index-readers-file<0.2.0,>=0.1.4 in /usr/local/lib/python3.10/dist-packages (from llama-index->tracing-auto-instrumentation[llama-index]) (0.1.23)\n",
            "Requirement already satisfied: llama-index-readers-llama-parse<0.2.0,>=0.1.2 in /usr/local/lib/python3.10/dist-packages (from llama-index->tracing-auto-instrumentation[llama-index]) (0.1.4)\n",
            "Requirement already satisfied: aiohttp<4.0.0,>=3.9.1 in /usr/local/lib/python3.10/dist-packages (from llama-index-readers-web->tracing-auto-instrumentation[llama-index]) (3.9.5)\n",
            "Requirement already satisfied: beautifulsoup4<5.0.0,>=4.12.3 in /usr/local/lib/python3.10/dist-packages (from llama-index-readers-web->tracing-auto-instrumentation[llama-index]) (4.12.3)\n",
            "Requirement already satisfied: chromedriver-autoinstaller<0.7.0,>=0.6.3 in /usr/local/lib/python3.10/dist-packages (from llama-index-readers-web->tracing-auto-instrumentation[llama-index]) (0.6.4)\n",
            "Requirement already satisfied: newspaper3k<0.3.0,>=0.2.8 in /usr/local/lib/python3.10/dist-packages (from llama-index-readers-web->tracing-auto-instrumentation[llama-index]) (0.2.8)\n",
            "Requirement already satisfied: playwright<2.0,>=1.30 in /usr/local/lib/python3.10/dist-packages (from llama-index-readers-web->tracing-auto-instrumentation[llama-index]) (1.44.0)\n",
            "Requirement already satisfied: selenium<5.0.0,>=4.17.2 in /usr/local/lib/python3.10/dist-packages (from llama-index-readers-web->tracing-auto-instrumentation[llama-index]) (4.21.0)\n",
            "Requirement already satisfied: spider-client<0.0.12,>=0.0.11 in /usr/local/lib/python3.10/dist-packages (from llama-index-readers-web->tracing-auto-instrumentation[llama-index]) (0.0.11)\n",
            "Requirement already satisfied: urllib3>=1.1.0 in /usr/local/lib/python3.10/dist-packages (from llama-index-readers-web->tracing-auto-instrumentation[llama-index]) (2.0.7)\n",
            "Requirement already satisfied: openinference-instrumentation>=0.1.7 in /usr/local/lib/python3.10/dist-packages (from openinference-instrumentation-llama-index->tracing-auto-instrumentation[llama-index]) (0.1.7)\n",
            "Requirement already satisfied: opentelemetry-instrumentation in /usr/local/lib/python3.10/dist-packages (from openinference-instrumentation-llama-index->tracing-auto-instrumentation[llama-index]) (0.45b0)\n",
            "Requirement already satisfied: wrapt in /usr/local/lib/python3.10/dist-packages (from openinference-instrumentation-llama-index->tracing-auto-instrumentation[llama-index]) (1.14.1)\n",
            "Requirement already satisfied: aiosignal>=1.1.2 in /usr/local/lib/python3.10/dist-packages (from aiohttp<4.0.0,>=3.9.1->llama-index-readers-web->tracing-auto-instrumentation[llama-index]) (1.3.1)\n",
            "Requirement already satisfied: attrs>=17.3.0 in /usr/local/lib/python3.10/dist-packages (from aiohttp<4.0.0,>=3.9.1->llama-index-readers-web->tracing-auto-instrumentation[llama-index]) (23.2.0)\n",
            "Requirement already satisfied: frozenlist>=1.1.1 in /usr/local/lib/python3.10/dist-packages (from aiohttp<4.0.0,>=3.9.1->llama-index-readers-web->tracing-auto-instrumentation[llama-index]) (1.4.1)\n",
            "Requirement already satisfied: multidict<7.0,>=4.5 in /usr/local/lib/python3.10/dist-packages (from aiohttp<4.0.0,>=3.9.1->llama-index-readers-web->tracing-auto-instrumentation[llama-index]) (6.0.5)\n",
            "Requirement already satisfied: yarl<2.0,>=1.0 in /usr/local/lib/python3.10/dist-packages (from aiohttp<4.0.0,>=3.9.1->llama-index-readers-web->tracing-auto-instrumentation[llama-index]) (1.9.4)\n",
            "Requirement already satisfied: async-timeout<5.0,>=4.0 in /usr/local/lib/python3.10/dist-packages (from aiohttp<4.0.0,>=3.9.1->llama-index-readers-web->tracing-auto-instrumentation[llama-index]) (4.0.3)\n",
            "Requirement already satisfied: soupsieve>1.2 in /usr/local/lib/python3.10/dist-packages (from beautifulsoup4<5.0.0,>=4.12.3->llama-index-readers-web->tracing-auto-instrumentation[llama-index]) (2.5)\n",
            "Requirement already satisfied: PyYAML>=6.0.1 in /usr/local/lib/python3.10/dist-packages (from llama-index-core<0.11.0,>=0.10.39->llama-index->tracing-auto-instrumentation[llama-index]) (6.0.1)\n",
            "Requirement already satisfied: SQLAlchemy[asyncio]>=1.4.49 in /usr/local/lib/python3.10/dist-packages (from llama-index-core<0.11.0,>=0.10.39->llama-index->tracing-auto-instrumentation[llama-index]) (2.0.30)\n",
            "Requirement already satisfied: dataclasses-json in /usr/local/lib/python3.10/dist-packages (from llama-index-core<0.11.0,>=0.10.39->llama-index->tracing-auto-instrumentation[llama-index]) (0.6.6)\n",
            "Requirement already satisfied: deprecated>=1.2.9.3 in /usr/local/lib/python3.10/dist-packages (from llama-index-core<0.11.0,>=0.10.39->llama-index->tracing-auto-instrumentation[llama-index]) (1.2.14)\n",
            "Requirement already satisfied: dirtyjson<2.0.0,>=1.0.8 in /usr/local/lib/python3.10/dist-packages (from llama-index-core<0.11.0,>=0.10.39->llama-index->tracing-auto-instrumentation[llama-index]) (1.0.8)\n",
            "Requirement already satisfied: httpx in /usr/local/lib/python3.10/dist-packages (from llama-index-core<0.11.0,>=0.10.39->llama-index->tracing-auto-instrumentation[llama-index]) (0.27.0)\n",
            "Requirement already satisfied: llamaindex-py-client<0.2.0,>=0.1.18 in /usr/local/lib/python3.10/dist-packages (from llama-index-core<0.11.0,>=0.10.39->llama-index->tracing-auto-instrumentation[llama-index]) (0.1.19)\n",
            "Requirement already satisfied: nest-asyncio<2.0.0,>=1.5.8 in /usr/local/lib/python3.10/dist-packages (from llama-index-core<0.11.0,>=0.10.39->llama-index->tracing-auto-instrumentation[llama-index]) (1.6.0)\n",
            "Requirement already satisfied: networkx>=3.0 in /usr/local/lib/python3.10/dist-packages (from llama-index-core<0.11.0,>=0.10.39->llama-index->tracing-auto-instrumentation[llama-index]) (3.3)\n",
            "Requirement already satisfied: nltk<4.0.0,>=3.8.1 in /usr/local/lib/python3.10/dist-packages (from llama-index-core<0.11.0,>=0.10.39->llama-index->tracing-auto-instrumentation[llama-index]) (3.8.1)\n",
            "Requirement already satisfied: pillow>=9.0.0 in /usr/local/lib/python3.10/dist-packages (from llama-index-core<0.11.0,>=0.10.39->llama-index->tracing-auto-instrumentation[llama-index]) (9.4.0)\n",
            "Requirement already satisfied: tenacity<9.0.0,>=8.2.0 in /usr/local/lib/python3.10/dist-packages (from llama-index-core<0.11.0,>=0.10.39->llama-index->tracing-auto-instrumentation[llama-index]) (8.3.0)\n",
            "Requirement already satisfied: tiktoken>=0.3.3 in /usr/local/lib/python3.10/dist-packages (from llama-index-core<0.11.0,>=0.10.39->llama-index->tracing-auto-instrumentation[llama-index]) (0.7.0)\n",
            "Requirement already satisfied: typing-inspect>=0.8.0 in /usr/local/lib/python3.10/dist-packages (from llama-index-core<0.11.0,>=0.10.39->llama-index->tracing-auto-instrumentation[llama-index]) (0.9.0)\n",
            "Requirement already satisfied: pypdf<5.0.0,>=4.0.1 in /usr/local/lib/python3.10/dist-packages (from llama-index-readers-file<0.2.0,>=0.1.4->llama-index->tracing-auto-instrumentation[llama-index]) (4.2.0)\n",
            "Requirement already satisfied: striprtf<0.0.27,>=0.0.26 in /usr/local/lib/python3.10/dist-packages (from llama-index-readers-file<0.2.0,>=0.1.4->llama-index->tracing-auto-instrumentation[llama-index]) (0.0.26)\n",
            "Requirement already satisfied: llama-parse<0.5.0,>=0.4.0 in /usr/local/lib/python3.10/dist-packages (from llama-index-readers-llama-parse<0.2.0,>=0.1.2->llama-index->tracing-auto-instrumentation[llama-index]) (0.4.3)\n",
            "Requirement already satisfied: cssselect>=0.9.2 in /usr/local/lib/python3.10/dist-packages (from newspaper3k<0.3.0,>=0.2.8->llama-index-readers-web->tracing-auto-instrumentation[llama-index]) (1.2.0)\n",
            "Requirement already satisfied: lxml>=3.6.0 in /usr/local/lib/python3.10/dist-packages (from newspaper3k<0.3.0,>=0.2.8->llama-index-readers-web->tracing-auto-instrumentation[llama-index]) (4.9.4)\n",
            "Requirement already satisfied: feedparser>=5.2.1 in /usr/local/lib/python3.10/dist-packages (from newspaper3k<0.3.0,>=0.2.8->llama-index-readers-web->tracing-auto-instrumentation[llama-index]) (6.0.11)\n",
            "Requirement already satisfied: tldextract>=2.0.1 in /usr/local/lib/python3.10/dist-packages (from newspaper3k<0.3.0,>=0.2.8->llama-index-readers-web->tracing-auto-instrumentation[llama-index]) (5.1.2)\n",
            "Requirement already satisfied: feedfinder2>=0.0.4 in /usr/local/lib/python3.10/dist-packages (from newspaper3k<0.3.0,>=0.2.8->llama-index-readers-web->tracing-auto-instrumentation[llama-index]) (0.0.4)\n",
            "Requirement already satisfied: jieba3k>=0.35.1 in /usr/local/lib/python3.10/dist-packages (from newspaper3k<0.3.0,>=0.2.8->llama-index-readers-web->tracing-auto-instrumentation[llama-index]) (0.35.1)\n",
            "Requirement already satisfied: tinysegmenter==0.3 in /usr/local/lib/python3.10/dist-packages (from newspaper3k<0.3.0,>=0.2.8->llama-index-readers-web->tracing-auto-instrumentation[llama-index]) (0.3)\n",
            "Requirement already satisfied: anyio<5,>=3.5.0 in /usr/local/lib/python3.10/dist-packages (from openai>=1.0.0->lastmile-eval->tracing-auto-instrumentation[llama-index]) (3.7.1)\n",
            "Requirement already satisfied: distro<2,>=1.7.0 in /usr/lib/python3/dist-packages (from openai>=1.0.0->lastmile-eval->tracing-auto-instrumentation[llama-index]) (1.7.0)\n",
            "Requirement already satisfied: sniffio in /usr/local/lib/python3.10/dist-packages (from openai>=1.0.0->lastmile-eval->tracing-auto-instrumentation[llama-index]) (1.3.1)\n",
            "Requirement already satisfied: greenlet==3.0.3 in /usr/local/lib/python3.10/dist-packages (from playwright<2.0,>=1.30->llama-index-readers-web->tracing-auto-instrumentation[llama-index]) (3.0.3)\n",
            "Requirement already satisfied: pyee==11.1.0 in /usr/local/lib/python3.10/dist-packages (from playwright<2.0,>=1.30->llama-index-readers-web->tracing-auto-instrumentation[llama-index]) (11.1.0)\n",
            "Requirement already satisfied: annotated-types>=0.4.0 in /usr/local/lib/python3.10/dist-packages (from pydantic>=2.1->lastmile-eval->tracing-auto-instrumentation[llama-index]) (0.7.0)\n",
            "Requirement already satisfied: pydantic-core==2.18.2 in /usr/local/lib/python3.10/dist-packages (from pydantic>=2.1->lastmile-eval->tracing-auto-instrumentation[llama-index]) (2.18.2)\n",
            "Requirement already satisfied: six>=1.5 in /usr/local/lib/python3.10/dist-packages (from python-dateutil>=2.8.2->pandas->tracing-auto-instrumentation[llama-index]) (1.16.0)\n",
            "Requirement already satisfied: charset-normalizer<4,>=2 in /usr/local/lib/python3.10/dist-packages (from requests->lastmile-eval->tracing-auto-instrumentation[llama-index]) (3.3.2)\n",
            "Requirement already satisfied: idna<4,>=2.5 in /usr/local/lib/python3.10/dist-packages (from requests->lastmile-eval->tracing-auto-instrumentation[llama-index]) (3.7)\n",
            "Requirement already satisfied: certifi>=2017.4.17 in /usr/local/lib/python3.10/dist-packages (from requests->lastmile-eval->tracing-auto-instrumentation[llama-index]) (2024.2.2)\n",
            "Requirement already satisfied: trio~=0.17 in /usr/local/lib/python3.10/dist-packages (from selenium<5.0.0,>=4.17.2->llama-index-readers-web->tracing-auto-instrumentation[llama-index]) (0.25.1)\n",
            "Requirement already satisfied: trio-websocket~=0.9 in /usr/local/lib/python3.10/dist-packages (from selenium<5.0.0,>=4.17.2->llama-index-readers-web->tracing-auto-instrumentation[llama-index]) (0.11.1)\n",
            "Requirement already satisfied: docstring-parser<0.17,>=0.16 in /usr/local/lib/python3.10/dist-packages (from instructor->lastmile-eval->tracing-auto-instrumentation[llama-index]) (0.16)\n",
            "Requirement already satisfied: rich<14.0.0,>=13.7.0 in /usr/local/lib/python3.10/dist-packages (from instructor->lastmile-eval->tracing-auto-instrumentation[llama-index]) (13.7.1)\n",
            "Requirement already satisfied: typer<1.0.0,>=0.9.0 in /usr/local/lib/python3.10/dist-packages (from instructor->lastmile-eval->tracing-auto-instrumentation[llama-index]) (0.9.4)\n",
            "Requirement already satisfied: black==23.11.0 in /usr/local/lib/python3.10/dist-packages (from lastmile-utils->lastmile-eval->tracing-auto-instrumentation[llama-index]) (23.11.0)\n",
            "Requirement already satisfied: chardet==5.2.0 in /usr/local/lib/python3.10/dist-packages (from lastmile-utils->lastmile-eval->tracing-auto-instrumentation[llama-index]) (5.2.0)\n",
            "Requirement already satisfied: flake8==6.1.0 in /usr/local/lib/python3.10/dist-packages (from lastmile-utils->lastmile-eval->tracing-auto-instrumentation[llama-index]) (6.1.0)\n",
            "Requirement already satisfied: isort==5.12.0 in /usr/local/lib/python3.10/dist-packages (from lastmile-utils->lastmile-eval->tracing-auto-instrumentation[llama-index]) (5.12.0)\n",
            "Requirement already satisfied: pylint==3.0.2 in /usr/local/lib/python3.10/dist-packages (from lastmile-utils->lastmile-eval->tracing-auto-instrumentation[llama-index]) (3.0.2)\n",
            "Requirement already satisfied: pyright==1.1.335 in /usr/local/lib/python3.10/dist-packages (from lastmile-utils->lastmile-eval->tracing-auto-instrumentation[llama-index]) (1.1.335)\n",
            "Requirement already satisfied: pytest==7.4.3 in /usr/local/lib/python3.10/dist-packages (from lastmile-utils->lastmile-eval->tracing-auto-instrumentation[llama-index]) (7.4.3)\n",
            "Requirement already satisfied: autoflake==2.2.1 in /usr/local/lib/python3.10/dist-packages (from lastmile-utils->lastmile-eval->tracing-auto-instrumentation[llama-index]) (2.2.1)\n",
            "Requirement already satisfied: pyflakes>=3.0.0 in /usr/local/lib/python3.10/dist-packages (from autoflake==2.2.1->lastmile-utils->lastmile-eval->tracing-auto-instrumentation[llama-index]) (3.1.0)\n",
            "Requirement already satisfied: tomli>=2.0.1 in /usr/local/lib/python3.10/dist-packages (from autoflake==2.2.1->lastmile-utils->lastmile-eval->tracing-auto-instrumentation[llama-index]) (2.0.1)\n",
            "Requirement already satisfied: click>=8.0.0 in /usr/local/lib/python3.10/dist-packages (from black==23.11.0->lastmile-utils->lastmile-eval->tracing-auto-instrumentation[llama-index]) (8.1.7)\n",
            "Requirement already satisfied: mypy-extensions>=0.4.3 in /usr/local/lib/python3.10/dist-packages (from black==23.11.0->lastmile-utils->lastmile-eval->tracing-auto-instrumentation[llama-index]) (1.0.0)\n",
            "Requirement already satisfied: pathspec>=0.9.0 in /usr/local/lib/python3.10/dist-packages (from black==23.11.0->lastmile-utils->lastmile-eval->tracing-auto-instrumentation[llama-index]) (0.12.1)\n",
            "Requirement already satisfied: platformdirs>=2 in /usr/local/lib/python3.10/dist-packages (from black==23.11.0->lastmile-utils->lastmile-eval->tracing-auto-instrumentation[llama-index]) (4.2.2)\n",
            "Requirement already satisfied: mccabe<0.8.0,>=0.7.0 in /usr/local/lib/python3.10/dist-packages (from flake8==6.1.0->lastmile-utils->lastmile-eval->tracing-auto-instrumentation[llama-index]) (0.7.0)\n",
            "Requirement already satisfied: pycodestyle<2.12.0,>=2.11.0 in /usr/local/lib/python3.10/dist-packages (from flake8==6.1.0->lastmile-utils->lastmile-eval->tracing-auto-instrumentation[llama-index]) (2.11.1)\n",
            "Requirement already satisfied: astroid<=3.1.0-dev0,>=3.0.1 in /usr/local/lib/python3.10/dist-packages (from pylint==3.0.2->lastmile-utils->lastmile-eval->tracing-auto-instrumentation[llama-index]) (3.0.3)\n",
            "Requirement already satisfied: tomlkit>=0.10.1 in /usr/local/lib/python3.10/dist-packages (from pylint==3.0.2->lastmile-utils->lastmile-eval->tracing-auto-instrumentation[llama-index]) (0.12.5)\n",
            "Requirement already satisfied: nodeenv>=1.6.0 in /usr/local/lib/python3.10/dist-packages (from pyright==1.1.335->lastmile-utils->lastmile-eval->tracing-auto-instrumentation[llama-index]) (1.8.0)\n",
            "Requirement already satisfied: iniconfig in /usr/local/lib/python3.10/dist-packages (from pytest==7.4.3->lastmile-utils->lastmile-eval->tracing-auto-instrumentation[llama-index]) (2.0.0)\n",
            "Requirement already satisfied: pluggy<2.0,>=0.12 in /usr/local/lib/python3.10/dist-packages (from pytest==7.4.3->lastmile-utils->lastmile-eval->tracing-auto-instrumentation[llama-index]) (1.5.0)\n",
            "Requirement already satisfied: exceptiongroup>=1.0.0rc8 in /usr/local/lib/python3.10/dist-packages (from pytest==7.4.3->lastmile-utils->lastmile-eval->tracing-auto-instrumentation[llama-index]) (1.2.1)\n",
            "Requirement already satisfied: importlib-metadata<=7.0,>=6.0 in /usr/local/lib/python3.10/dist-packages (from opentelemetry-api->lastmile-eval->tracing-auto-instrumentation[llama-index]) (7.0.0)\n",
            "Requirement already satisfied: opentelemetry-exporter-otlp-proto-grpc==1.24.0 in /usr/local/lib/python3.10/dist-packages (from opentelemetry-exporter-otlp->lastmile-eval->tracing-auto-instrumentation[llama-index]) (1.24.0)\n",
            "Requirement already satisfied: opentelemetry-exporter-otlp-proto-http==1.24.0 in /usr/local/lib/python3.10/dist-packages (from opentelemetry-exporter-otlp->lastmile-eval->tracing-auto-instrumentation[llama-index]) (1.24.0)\n",
            "Requirement already satisfied: googleapis-common-protos~=1.52 in /usr/local/lib/python3.10/dist-packages (from opentelemetry-exporter-otlp-proto-grpc==1.24.0->opentelemetry-exporter-otlp->lastmile-eval->tracing-auto-instrumentation[llama-index]) (1.63.0)\n",
            "Requirement already satisfied: grpcio<2.0.0,>=1.0.0 in /usr/local/lib/python3.10/dist-packages (from opentelemetry-exporter-otlp-proto-grpc==1.24.0->opentelemetry-exporter-otlp->lastmile-eval->tracing-auto-instrumentation[llama-index]) (1.64.0)\n",
            "Requirement already satisfied: opentelemetry-exporter-otlp-proto-common==1.24.0 in /usr/local/lib/python3.10/dist-packages (from opentelemetry-exporter-otlp-proto-grpc==1.24.0->opentelemetry-exporter-otlp->lastmile-eval->tracing-auto-instrumentation[llama-index]) (1.24.0)\n",
            "Requirement already satisfied: opentelemetry-proto==1.24.0 in /usr/local/lib/python3.10/dist-packages (from opentelemetry-exporter-otlp-proto-grpc==1.24.0->opentelemetry-exporter-otlp->lastmile-eval->tracing-auto-instrumentation[llama-index]) (1.24.0)\n",
            "Requirement already satisfied: protobuf<5.0,>=3.19 in /usr/local/lib/python3.10/dist-packages (from opentelemetry-proto==1.24.0->opentelemetry-exporter-otlp-proto-grpc==1.24.0->opentelemetry-exporter-otlp->lastmile-eval->tracing-auto-instrumentation[llama-index]) (3.20.3)\n",
            "Requirement already satisfied: setuptools>=16.0 in /usr/local/lib/python3.10/dist-packages (from opentelemetry-instrumentation->openinference-instrumentation-llama-index->tracing-auto-instrumentation[llama-index]) (67.7.2)\n",
            "Requirement already satisfied: absl-py in /usr/local/lib/python3.10/dist-packages (from rouge-score->lastmile-eval->tracing-auto-instrumentation[llama-index]) (1.4.0)\n",
            "Requirement already satisfied: filelock in /usr/local/lib/python3.10/dist-packages (from datasets>=2.0.0->evaluate==0.4.1->lastmile-eval->tracing-auto-instrumentation[llama-index]) (3.14.0)\n",
            "Requirement already satisfied: pyarrow-hotfix in /usr/local/lib/python3.10/dist-packages (from datasets>=2.0.0->evaluate==0.4.1->lastmile-eval->tracing-auto-instrumentation[llama-index]) (0.6)\n",
            "Requirement already satisfied: sgmllib3k in /usr/local/lib/python3.10/dist-packages (from feedparser>=5.2.1->newspaper3k<0.3.0,>=0.2.8->llama-index-readers-web->tracing-auto-instrumentation[llama-index]) (1.0.0)\n",
            "Requirement already satisfied: httpcore==1.* in /usr/local/lib/python3.10/dist-packages (from httpx->llama-index-core<0.11.0,>=0.10.39->llama-index->tracing-auto-instrumentation[llama-index]) (1.0.5)\n",
            "Requirement already satisfied: h11<0.15,>=0.13 in /usr/local/lib/python3.10/dist-packages (from httpcore==1.*->httpx->llama-index-core<0.11.0,>=0.10.39->llama-index->tracing-auto-instrumentation[llama-index]) (0.14.0)\n",
            "Requirement already satisfied: zipp>=0.5 in /usr/local/lib/python3.10/dist-packages (from importlib-metadata<=7.0,>=6.0->opentelemetry-api->lastmile-eval->tracing-auto-instrumentation[llama-index]) (3.18.2)\n",
            "Requirement already satisfied: joblib in /usr/local/lib/python3.10/dist-packages (from nltk<4.0.0,>=3.8.1->llama-index-core<0.11.0,>=0.10.39->llama-index->tracing-auto-instrumentation[llama-index]) (1.4.2)\n",
            "Requirement already satisfied: regex>=2021.8.3 in /usr/local/lib/python3.10/dist-packages (from nltk<4.0.0,>=3.8.1->llama-index-core<0.11.0,>=0.10.39->llama-index->tracing-auto-instrumentation[llama-index]) (2023.12.25)\n",
            "Requirement already satisfied: markdown-it-py>=2.2.0 in /usr/local/lib/python3.10/dist-packages (from rich<14.0.0,>=13.7.0->instructor->lastmile-eval->tracing-auto-instrumentation[llama-index]) (3.0.0)\n",
            "Requirement already satisfied: pygments<3.0.0,>=2.13.0 in /usr/local/lib/python3.10/dist-packages (from rich<14.0.0,>=13.7.0->instructor->lastmile-eval->tracing-auto-instrumentation[llama-index]) (2.16.1)\n",
            "Requirement already satisfied: requests-file>=1.4 in /usr/local/lib/python3.10/dist-packages (from tldextract>=2.0.1->newspaper3k<0.3.0,>=0.2.8->llama-index-readers-web->tracing-auto-instrumentation[llama-index]) (2.1.0)\n",
            "Requirement already satisfied: sortedcontainers in /usr/local/lib/python3.10/dist-packages (from trio~=0.17->selenium<5.0.0,>=4.17.2->llama-index-readers-web->tracing-auto-instrumentation[llama-index]) (2.4.0)\n",
            "Requirement already satisfied: outcome in /usr/local/lib/python3.10/dist-packages (from trio~=0.17->selenium<5.0.0,>=4.17.2->llama-index-readers-web->tracing-auto-instrumentation[llama-index]) (1.3.0.post0)\n",
            "Requirement already satisfied: wsproto>=0.14 in /usr/local/lib/python3.10/dist-packages (from trio-websocket~=0.9->selenium<5.0.0,>=4.17.2->llama-index-readers-web->tracing-auto-instrumentation[llama-index]) (1.2.0)\n",
            "Requirement already satisfied: pysocks!=1.5.7,<2.0,>=1.5.6 in /usr/local/lib/python3.10/dist-packages (from urllib3>=1.1.0->llama-index-readers-web->tracing-auto-instrumentation[llama-index]) (1.7.1)\n",
            "Requirement already satisfied: marshmallow<4.0.0,>=3.18.0 in /usr/local/lib/python3.10/dist-packages (from dataclasses-json->llama-index-core<0.11.0,>=0.10.39->llama-index->tracing-auto-instrumentation[llama-index]) (3.21.2)\n",
            "Requirement already satisfied: mdurl~=0.1 in /usr/local/lib/python3.10/dist-packages (from markdown-it-py>=2.2.0->rich<14.0.0,>=13.7.0->instructor->lastmile-eval->tracing-auto-instrumentation[llama-index]) (0.1.2)\n"
          ]
        }
      ],
      "source": [
        "!pip install llama-index-embeddings-openai\n",
        "!pip install llama-index-embeddings-openai --upgrade\n",
        "\n",
        "%pip install -q html2text llama-index pandas pyarrow tqdm\n",
        "%pip install -q llama-index-readers-web\n",
        "%pip install -q llama-index-callbacks-openinference\n",
        "!pip install openai --upgrade\n",
        "!pip install \"tracing-auto-instrumentation[llama-index]\" --upgrade"
      ]
    },
    {
      "cell_type": "markdown",
      "metadata": {
        "id": "RYiIRNxcuoZY"
      },
      "source": [
        "\n",
        "Import the necessary libraries for this example"
      ]
    },
    {
      "cell_type": "code",
      "execution_count": 2,
      "metadata": {
        "id": "P1PEB6VLuoZZ"
      },
      "outputs": [],
      "source": [
        "import os\n",
        "from getpass import getpass\n",
        "\n",
        "import dotenv\n",
        "import llama_index.core\n",
        "\n",
        "from tracing_auto_instrumentation.llama_index import LlamaIndexCallbackHandler\n",
        "import textwrap"
      ]
    },
    {
      "cell_type": "markdown",
      "source": [
        "Before we start this tutorial, we need the following tokens/keys:\n",
        "\n",
        "* LastMile AI API Token: Go to the [LastMile Settings page](https://lastmileai.dev/settings?page=tokens). You will need to first create a LastMile AI account.\n",
        "* OpenAI API Key: Go to [OpenAI API Keys page](https://platform.openai.com/account/api-keys) to create and access your OpenAI API Key.\n",
        "\n",
        "We're using Google Colab's Secret Manager to set our tokens in this notebook."
      ],
      "metadata": {
        "id": "5g5AkKI5v_BW"
      }
    },
    {
      "cell_type": "code",
      "source": [
        "from google.colab import userdata\n",
        "\n",
        "os.environ['OPENAI_API_KEY'] =  userdata.get('OPENAI_API_KEY')\n",
        "os.environ['LASTMILE_API_TOKEN'] =  userdata.get('LASTMILE_API_TOKEN')"
      ],
      "metadata": {
        "id": "yWHxmB2NwD5a"
      },
      "execution_count": 3,
      "outputs": []
    },
    {
      "cell_type": "markdown",
      "metadata": {
        "id": "fnUyfuInuoZZ"
      },
      "source": [
        "<a name=\"step2\"></a>\n",
        "\n",
        "## Step 2: Configure the LastMile Instrumentor\n",
        "\n",
        "Next, we need to configure the LastMile Instrumentor by setting the global handler for LlamaIndex."
      ]
    },
    {
      "cell_type": "code",
      "execution_count": 4,
      "metadata": {
        "id": "LgVwMgCPuoZZ"
      },
      "outputs": [],
      "source": [
        "import llama_index.core\n",
        "\n",
        "from tracing_auto_instrumentation.llama_index import LlamaIndexCallbackHandler\n",
        "\n",
        "llama_index.core.global_handler = LlamaIndexCallbackHandler(\n",
        "    project_name=\"LlamaIndex with Paul Graham\",\n",
        ")"
      ]
    },
    {
      "cell_type": "markdown",
      "metadata": {
        "id": "7RbeQj7fuoZZ"
      },
      "source": [
        "<a name=\"step3\"></a>\n",
        "\n",
        "# Step 3: Load and Process Documents\n"
      ]
    },
    {
      "cell_type": "code",
      "execution_count": 5,
      "metadata": {
        "id": "4xMpbA53uoZa"
      },
      "outputs": [],
      "source": [
        "from llama_index.core import VectorStoreIndex\n",
        "from llama_index.core.node_parser import SentenceSplitter\n",
        "from llama_index.readers.web import SimpleWebPageReader\n",
        "\n",
        "documents = SimpleWebPageReader().load_data(\n",
        "    [\n",
        "        \"https://raw.githubusercontent.com/run-llama/llama_index/main/docs/docs/examples/data/paul_graham/paul_graham_essay.txt\"\n",
        "    ]\n",
        ")\n",
        "\n",
        "parser = SentenceSplitter()\n",
        "nodes = parser.get_nodes_from_documents(documents)"
      ]
    },
    {
      "cell_type": "markdown",
      "metadata": {
        "id": "djIkqfvzuoZa"
      },
      "source": [
        "<a name=\"step4\"></a>\n",
        "\n",
        "# Step 4: Create an Index and Query Engine"
      ]
    },
    {
      "cell_type": "code",
      "execution_count": 6,
      "metadata": {
        "id": "b6rq4hy4uoZa"
      },
      "outputs": [],
      "source": [
        "from llama_index.embeddings.openai.base import OpenAIEmbedding\n",
        "\n",
        "index = VectorStoreIndex.from_documents(documents)\n",
        "query_engine = index.as_query_engine()\n"
      ]
    },
    {
      "cell_type": "markdown",
      "metadata": {
        "id": "tnxfNvGJuoZa"
      },
      "source": [
        "<a name=\"step5\"></a>\n",
        "\n",
        "# Step 5: Query the Index"
      ]
    },
    {
      "cell_type": "code",
      "execution_count": 7,
      "metadata": {
        "id": "P9cbuwX6uoZa",
        "colab": {
          "base_uri": "https://localhost:8080/"
        },
        "outputId": "1bfb65fa-f841-407a-b794-fa3ceb8d7d71"
      },
      "outputs": [
        {
          "output_type": "stream",
          "name": "stdout",
          "text": [
            "Query\n",
            "=====\n",
            "What did Paul Graham do growing up?\n",
            "\n",
            "Response\n",
            "========\n",
            "Growing up, Paul Graham worked on writing short stories and programming. He\n",
            "started programming on an IBM 1401 in 9th grade using an early version of\n",
            "Fortran. Later, he got a TRS-80 computer and wrote simple games, a rocket\n",
            "prediction program, and a word processor. Despite his interest in programming,\n",
            "he initially planned to study philosophy in college before eventually switching\n",
            "to AI.\n",
            "\n",
            "Query\n",
            "=====\n",
            "When and how did Paul Graham's mother die?\n",
            "\n",
            "Response\n",
            "========\n",
            "Paul Graham's mother died when he was 18 years old, from a brain tumor.\n",
            "\n",
            "Query\n",
            "=====\n",
            "What, in Paul Graham's opinion, is the most distinctive thing about YC?\n",
            "\n",
            "Response\n",
            "========\n",
            "The most distinctive thing about Y Combinator, according to Paul Graham, is that\n",
            "instead of deciding for himself what to work on, the problems come to him. Every\n",
            "6 months, a new batch of startups brings their problems, which then become the\n",
            "focus of YC. This engagement with a variety of startup problems and the\n",
            "opportunity to learn extensively about startups in a short period of time is\n",
            "what Graham finds most unique about Y Combinator.\n",
            "\n"
          ]
        }
      ],
      "source": [
        "max_characters_per_line = 80\n",
        "queries = [\n",
        "    \"What did Paul Graham do growing up?\",\n",
        "    \"When and how did Paul Graham's mother die?\",\n",
        "    \"What, in Paul Graham's opinion, is the most distinctive thing about YC?\"\n",
        "]\n",
        "for query in queries:\n",
        "    response = query_engine.query(query)\n",
        "    print(\"Query\")\n",
        "    print(\"=====\")\n",
        "    print(textwrap.fill(query, max_characters_per_line))\n",
        "    print()\n",
        "    print(\"Response\")\n",
        "    print(\"========\")\n",
        "    print(textwrap.fill(str(response), max_characters_per_line))\n",
        "    print()"
      ]
    },
    {
      "cell_type": "markdown",
      "source": [
        "<a name=\"step6\"></a>\n",
        "\n",
        "# Step 6: View Trace Data in RAG Debugger\n",
        "Now we can view the trace data of our LlamaIndex application in a UI!\n",
        "#### From your terminal:\n",
        "\n",
        "Export your LASTMILE_API_TOKEN\n",
        "\n",
        "```bash\n",
        "export LASTMILE_API_TOKEN=\"<your-api-token>\"\n",
        "```\n",
        "\n",
        "Run this CLI command to access the UI\n",
        "\n",
        "```bash\n",
        "rag-debug launch\n",
        "```\n",
        "Navigate to the 'Traces' Page where you see all the Traces listed under this Project \"LlamaIndex with Paul Graham\" (top-right corner to choose Project).\n",
        "\n",
        "<img width=\"973\" alt=\"Screenshot 2024-05-28 at 11 37 26 AM\" src=\"https://github.com/lastmile-ai/aiconfig/assets/81494782/9568199a-5404-4254-aaf5-f87ac5a2f562\"/>\n",
        "\n",
        "Let's click into the Trace.\n",
        "\n",
        "<img width=\"973\" alt=\"Screenshot 2024-05-28 at 11 38 05 AM\" src=\"https://github.com/lastmile-ai/aiconfig/assets/81494782/cc1e451c-472f-4b56-9bfc-5508326d12d9\"/>\n",
        "\n",
        "Here we can see all the spans auto-generated for us. This can help us debug and pinpoint issues in our application, especially if we add additional logging on top of the auto-instrumentor."
      ],
      "metadata": {
        "id": "bIK5QD9pwcit"
      }
    },
    {
      "cell_type": "code",
      "source": [],
      "metadata": {
        "id": "M3cCDOA6wk1k"
      },
      "execution_count": null,
      "outputs": []
    }
  ],
  "metadata": {
    "kernelspec": {
      "display_name": "Python 3",
      "language": "python",
      "name": "python3"
    },
    "language_info": {
      "codemirror_mode": {
        "name": "ipython",
        "version": 3
      },
      "file_extension": ".py",
      "mimetype": "text/x-python",
      "name": "python",
      "nbconvert_exporter": "python",
      "pygments_lexer": "ipython3",
      "version": "3.11.9"
    },
    "colab": {
      "provenance": []
    }
  },
  "nbformat": 4,
  "nbformat_minor": 0
}