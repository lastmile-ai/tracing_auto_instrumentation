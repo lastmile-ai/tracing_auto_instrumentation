{
    "cells": [
        {
            "attachments": {},
            "cell_type": "markdown",
            "id": "3e67f200",
            "metadata": {},
            "source": [
                "# OpenAI Streaming - Traced With LastMile\n",
                "\n",
                "Four use cases:\n",
                "\n",
                "1. Text - Non-streaming\n",
                "2. [this one] Text - Streaming\n",
                "3. Tool Calls - Non-streaming\n",
                "4. Tool Calls - Streaming"
            ]
        },
        {
            "cell_type": "code",
            "execution_count": 7,
            "id": "80e71f33",
            "metadata": {
                "pycharm": {
                    "is_executing": true
                }
            },
            "outputs": [],
            "source": [
                "# !pip install scipy --quiet\n",
                "# !pip install tenacity --quiet\n",
                "# !pip install tiktoken --quiet\n",
                "# !pip install termcolor --quiet\n",
                "# !pip install openai --quiet\n",
                "# !pip install \"tracing-auto-instrumentation[openai]\"\n",
                "\n",
                "# Create ~/.env file with this line: OPENAI_API_KEY=<your key here>\n",
                "# You can get your key from https://platform.openai.com/api-keys \n",
                "import openai\n",
                "import dotenv\n",
                "import os\n",
                "dotenv.load_dotenv()\n",
                "OPENAI_API_KEY = os.getenv(\"OPENAI_API_KEY\")"
            ]
        },
        {
            "cell_type": "code",
            "execution_count": 8,
            "id": "4abf2967",
            "metadata": {},
            "outputs": [
                {
                    "name": "stderr",
                    "output_type": "stream",
                    "text": [
                        "2024-05-30 18:37:45,454 - Overriding of current TracerProvider is not allowed\n"
                    ]
                },
                {
                    "name": "stderr",
                    "output_type": "stream",
                    "text": [
                        "2024-05-30 18:37:45,456 - Starting new HTTPS connection (1): lastmileai.dev:443\n",
                        "2024-05-30 18:37:45,529 - https://lastmileai.dev:443 \"GET /api/evaluation_projects/list?name=OpenAI+Text+Calling+w.+Streaming HTTP/1.1\" 200 367\n",
                        "2024-05-30 18:37:45,531 - load_ssl_context verify=True cert=None trust_env=True http2=False\n",
                        "2024-05-30 18:37:45,531 - load_verify_locations cafile='/opt/homebrew/Caskroom/miniconda/base/envs/eval/lib/python3.12/site-packages/certifi/cacert.pem'\n"
                    ]
                }
            ],
            "source": [
                "import openai\n",
                "\n",
                "from lastmile_eval.rag.debugger.api.tracing import LastMileTracer\n",
                "\n",
                "from tracing_auto_instrumentation.openai import wrap_openai\n",
                "from lastmile_eval.rag.debugger.tracing.sdk import get_lastmile_tracer\n",
                "\n",
                "tracer: LastMileTracer = get_lastmile_tracer(\n",
                "    tracer_name=\"OpenAI Text Calling w. Streaming\",\n",
                ")\n",
                "client = openai.OpenAI(api_key=OPENAI_API_KEY)\n",
                "# client = openai.AsyncOpenAI(api_key=OPENAI_API_KEY)\n",
                "client = wrap_openai(client, tracer)"
            ]
        },
        {
            "cell_type": "code",
            "execution_count": 9,
            "id": "4276d4b0",
            "metadata": {},
            "outputs": [],
            "source": [
                "def run_my_existing_openai_app(user_message: str, stream: bool = True):\n",
                "    completion_params = {\n",
                "        \"model\": \"gpt-3.5-turbo\",\n",
                "        \"top_p\": 1,\n",
                "        \"max_tokens\": 3000,\n",
                "        \"temperature\": 1,\n",
                "        \"stream\": stream,\n",
                "        \"messages\": [\n",
                "            {\n",
                "                \"content\": user_message,\n",
                "                \"role\": \"user\",\n",
                "            }\n",
                "        ],\n",
                "    }\n",
                "\n",
                "    response = client.chat.completions.create(**completion_params)\n",
                "    print(\"Chat Completion Response: \")\n",
                "    if stream:\n",
                "        for chunk in response:\n",
                "            print(f\"{chunk=}\")\n",
                "    else:\n",
                "        print(f\"{response=}\")"
            ]
        },
        {
            "cell_type": "code",
            "execution_count": 10,
            "id": "9aa6f3f6",
            "metadata": {},
            "outputs": [
                {
                    "name": "stderr",
                    "output_type": "stream",
                    "text": [
                        "2024-05-30 18:37:45,547 - Request options: {'method': 'post', 'url': '/chat/completions', 'files': None, 'json_data': {'messages': [{'content': 'Tell me a joke about apples', 'role': 'user'}], 'model': 'gpt-3.5-turbo', 'max_tokens': 3000, 'stream': False, 'temperature': 1, 'top_p': 1}}\n",
                        "2024-05-30 18:37:45,547 - Sending HTTP Request: POST https://api.openai.com/v1/chat/completions\n",
                        "2024-05-30 18:37:45,548 - connect_tcp.started host='api.openai.com' port=443 local_address=None timeout=5.0 socket_options=None\n",
                        "2024-05-30 18:37:45,555 - connect_tcp.complete return_value=<httpcore._backends.sync.SyncStream object at 0x32f7c9820>\n",
                        "2024-05-30 18:37:45,556 - start_tls.started ssl_context=<ssl.SSLContext object at 0x32f7a00d0> server_hostname='api.openai.com' timeout=5.0\n",
                        "2024-05-30 18:37:45,570 - start_tls.complete return_value=<httpcore._backends.sync.SyncStream object at 0x32f1717f0>\n",
                        "2024-05-30 18:37:45,571 - send_request_headers.started request=<Request [b'POST']>\n",
                        "2024-05-30 18:37:45,572 - send_request_headers.complete\n",
                        "2024-05-30 18:37:45,573 - send_request_body.started request=<Request [b'POST']>\n",
                        "2024-05-30 18:37:45,573 - send_request_body.complete\n",
                        "2024-05-30 18:37:45,574 - receive_response_headers.started request=<Request [b'POST']>\n",
                        "2024-05-30 18:37:46,086 - receive_response_headers.complete return_value=(b'HTTP/1.1', 200, b'OK', [(b'Date', b'Thu, 30 May 2024 22:37:46 GMT'), (b'Content-Type', b'application/json'), (b'Transfer-Encoding', b'chunked'), (b'Connection', b'keep-alive'), (b'openai-organization', b'lastmile-ai'), (b'openai-processing-ms', b'290'), (b'openai-version', b'2020-10-01'), (b'strict-transport-security', b'max-age=15724800; includeSubDomains'), (b'x-ratelimit-limit-requests', b'10000'), (b'x-ratelimit-limit-tokens', b'2000000'), (b'x-ratelimit-remaining-requests', b'9999'), (b'x-ratelimit-remaining-tokens', b'1996992'), (b'x-ratelimit-reset-requests', b'6ms'), (b'x-ratelimit-reset-tokens', b'90ms'), (b'x-request-id', b'req_cd99897b93259fcc4f1dbefeb5ea679c'), (b'CF-Cache-Status', b'DYNAMIC'), (b'Set-Cookie', b'__cf_bm=8fmYyOryZF1WDmyjhIOvNQ2NH8lSv4DhEmuLCYdOPow-1717108666-1.0.1.1-xNgtDMVRxwupgAvaz1MouwyifyCUyTGiCIMJ_kyEERsTy35v__DBf8Ga3S_E9dGSxLFBV.iGPwBg_zUFyU7qgA; path=/; expires=Thu, 30-May-24 23:07:46 GMT; domain=.api.openai.com; HttpOnly; Secure; SameSite=None'), (b'Set-Cookie', b'_cfuvid=H3C.a.KYSgjPQHSSaB52D5WCLJTc2nM69o9Hr12wJ38-1717108666078-0.0.1.1-604800000; path=/; domain=.api.openai.com; HttpOnly; Secure; SameSite=None'), (b'Server', b'cloudflare'), (b'CF-RAY', b'88c235e7dc7e43a1-EWR'), (b'Content-Encoding', b'gzip'), (b'alt-svc', b'h3=\":443\"; ma=86400')])\n",
                        "2024-05-30 18:37:46,087 - HTTP Request: POST https://api.openai.com/v1/chat/completions \"HTTP/1.1 200 OK\"\n",
                        "2024-05-30 18:37:46,088 - receive_response_body.started request=<Request [b'POST']>\n",
                        "2024-05-30 18:37:46,089 - receive_response_body.complete\n",
                        "2024-05-30 18:37:46,089 - response_closed.started\n",
                        "2024-05-30 18:37:46,089 - response_closed.complete\n",
                        "2024-05-30 18:37:46,090 - HTTP Response: POST https://api.openai.com/v1/chat/completions \"200 OK\" Headers([('date', 'Thu, 30 May 2024 22:37:46 GMT'), ('content-type', 'application/json'), ('transfer-encoding', 'chunked'), ('connection', 'keep-alive'), ('openai-organization', 'lastmile-ai'), ('openai-processing-ms', '290'), ('openai-version', '2020-10-01'), ('strict-transport-security', 'max-age=15724800; includeSubDomains'), ('x-ratelimit-limit-requests', '10000'), ('x-ratelimit-limit-tokens', '2000000'), ('x-ratelimit-remaining-requests', '9999'), ('x-ratelimit-remaining-tokens', '1996992'), ('x-ratelimit-reset-requests', '6ms'), ('x-ratelimit-reset-tokens', '90ms'), ('x-request-id', 'req_cd99897b93259fcc4f1dbefeb5ea679c'), ('cf-cache-status', 'DYNAMIC'), ('set-cookie', '__cf_bm=8fmYyOryZF1WDmyjhIOvNQ2NH8lSv4DhEmuLCYdOPow-1717108666-1.0.1.1-xNgtDMVRxwupgAvaz1MouwyifyCUyTGiCIMJ_kyEERsTy35v__DBf8Ga3S_E9dGSxLFBV.iGPwBg_zUFyU7qgA; path=/; expires=Thu, 30-May-24 23:07:46 GMT; domain=.api.openai.com; HttpOnly; Secure; SameSite=None'), ('set-cookie', '_cfuvid=H3C.a.KYSgjPQHSSaB52D5WCLJTc2nM69o9Hr12wJ38-1717108666078-0.0.1.1-604800000; path=/; domain=.api.openai.com; HttpOnly; Secure; SameSite=None'), ('server', 'cloudflare'), ('cf-ray', '88c235e7dc7e43a1-EWR'), ('content-encoding', 'gzip'), ('alt-svc', 'h3=\":443\"; ma=86400')])\n",
                        "2024-05-30 18:37:46,090 - request_id: req_cd99897b93259fcc4f1dbefeb5ea679c\n",
                        "2024-05-30 18:37:46,144 - https://lastmileai.dev:443 \"POST /api/trace/create HTTP/1.1\" 200 10\n",
                        "2024-05-30 18:37:46,146 - Starting new HTTPS connection (1): lastmileai.dev:443\n",
                        "2024-05-30 18:37:46,228 - https://lastmileai.dev:443 \"POST /api/rag_query_traces/create HTTP/1.1\" 200 475\n",
                        "2024-05-30 18:37:46,230 - Starting new HTTPS connection (1): lastmileai.dev:443\n",
                        "2024-05-30 18:37:46,432 - https://lastmileai.dev:443 \"POST /api/rag_events/create HTTP/1.1\" 200 803\n"
                    ]
                },
                {
                    "name": "stdout",
                    "output_type": "stream",
                    "text": [
                        "Chat Completion Response: \n",
                        "response=ChatCompletion(id='chatcmpl-9UigzXwUGWGmfK14LcpVwieaCKM3T', choices=[Choice(finish_reason='stop', index=0, logprobs=None, message=ChatCompletionMessage(content=\"Why did the apple go to the doctor? Because it wasn't peeling well!\", role='assistant', function_call=None, tool_calls=None))], created=1717108665, model='gpt-3.5-turbo-0125', object='chat.completion', system_fingerprint=None, usage=CompletionUsage(completion_tokens=17, prompt_tokens=13, total_tokens=30))\n"
                    ]
                },
                {
                    "data": {
                        "text/plain": [
                            "ChatCompletion(id='chatcmpl-9UigzXwUGWGmfK14LcpVwieaCKM3T', choices=[Choice(finish_reason='stop', index=0, logprobs=None, message=ChatCompletionMessage(content=\"Why did the apple go to the doctor? Because it wasn't peeling well!\", role='assistant', function_call=None, tool_calls=None))], created=1717108665, model='gpt-3.5-turbo-0125', object='chat.completion', system_fingerprint=None, usage=CompletionUsage(completion_tokens=17, prompt_tokens=13, total_tokens=30))"
                        ]
                    },
                    "execution_count": 10,
                    "metadata": {},
                    "output_type": "execute_result"
                }
            ],
            "source": [
                "# Run your code as usual\n",
                "stream = False\n",
                "run_my_existing_openai_app(\"Tell me a joke about apples\", stream=stream)"
            ]
        },
        {
            "cell_type": "code",
            "execution_count": 11,
            "id": "d2045d18",
            "metadata": {},
            "outputs": [],
            "source": [
                "# async def run_my_existing_openai_app_async(user_message: str, stream: bool = True):\n",
                "#     completion_params = {\n",
                "#         \"model\": \"gpt-3.5-turbo\",\n",
                "#         \"top_p\": 1,\n",
                "#         \"max_tokens\": 3000,\n",
                "#         \"temperature\": 1,\n",
                "#         \"stream\": stream,\n",
                "#         \"messages\": [\n",
                "#             {\n",
                "#                 \"content\": user_message,\n",
                "#                 \"role\": \"user\",\n",
                "#             }\n",
                "#         ],\n",
                "#     }\n",
                "\n",
                "#     response = await client.ChatCompletion.acreate(**completion_params)\n",
                "#     print(\"Chat Completion Response: \")\n",
                "#     if stream:\n",
                "#         for chunk in response:\n",
                "#             print(f\"{chunk=}\")\n",
                "#     else:\n",
                "#         print(f\"{response=}\")\n",
                "#     return response"
            ]
        },
        {
            "cell_type": "code",
            "execution_count": 12,
            "id": "f9113e1f",
            "metadata": {},
            "outputs": [],
            "source": [
                "# stream = False\n",
                "# response = await run_my_existing_openai_app_async(\"Tell me a joke about apples\", stream=stream)\n",
                "# print(\"God damn it: \", response)"
            ]
        }
    ],
    "metadata": {
        "kernelspec": {
            "display_name": "Python 3 (ipykernel)",
            "language": "python",
            "name": "python3"
        },
        "language_info": {
            "codemirror_mode": {
                "name": "ipython",
                "version": 3
            },
            "file_extension": ".py",
            "mimetype": "text/x-python",
            "name": "python",
            "nbconvert_exporter": "python",
            "pygments_lexer": "ipython3",
            "version": "3.12.3"
        }
    },
    "nbformat": 4,
    "nbformat_minor": 5
}
