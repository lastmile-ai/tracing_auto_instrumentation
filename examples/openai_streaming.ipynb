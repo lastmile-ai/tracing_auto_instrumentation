{
    "cells": [
        {
            "attachments": {},
            "cell_type": "markdown",
            "id": "3e67f200",
            "metadata": {},
            "source": [
                "# OpenAI Streaming - Traced With LastMile\n",
                "\n",
                "Four use cases:\n",
                "\n",
                "1. Text - Non-streaming\n",
                "2. [this one] Text - Streaming\n",
                "3. Tool Calls - Non-streaming\n",
                "4. Tool Calls - Streaming"
            ]
        },
        {
            "attachments": {},
            "cell_type": "markdown",
            "id": "64c85e26",
            "metadata": {},
            "source": [
                "## How to generate function arguments"
            ]
        },
        {
            "cell_type": "code",
            "execution_count": 1,
            "id": "80e71f33",
            "metadata": {
                "pycharm": {
                    "is_executing": true
                }
            },
            "outputs": [
                {
                    "name": "stdout",
                    "output_type": "stream",
                    "text": [
                        "tracing_auto_instrumentation             0.0.4     /Users/rossdancraig/Projects/tracing_auto_instrumentation\n"
                    ]
                }
            ],
            "source": [
                "# !pip install scipy --quiet\n",
                "# !pip install tenacity --quiet\n",
                "# !pip install tiktoken --quiet\n",
                "# !pip install termcolor --quiet\n",
                "# !pip install openai --quiet\n",
                "# !pip install \"tracing-auto-instrumentation[openai]\"\n",
                "!pip list | grep tracing_auto_instrumentation\n",
                "\n",
                "# Create ~/.env file with this line: OPENAI_API_KEY=<your key here>\n",
                "# You can get your key from https://platform.openai.com/api-keys \n",
                "import openai\n",
                "import dotenv\n",
                "import os\n",
                "dotenv.load_dotenv()\n",
                "OPENAI_API_KEY = os.getenv(\"OPENAI_API_KEY\")"
            ]
        },
        {
            "cell_type": "code",
            "execution_count": 2,
            "id": "4abf2967",
            "metadata": {},
            "outputs": [
                {
                    "name": "stderr",
                    "output_type": "stream",
                    "text": [
                        "/opt/homebrew/Caskroom/miniconda/base/envs/eval/lib/python3.12/site-packages/tqdm/auto.py:21: TqdmWarning: IProgress not found. Please update jupyter and ipywidgets. See https://ipywidgets.readthedocs.io/en/stable/user_install.html\n",
                        "  from .autonotebook import tqdm as notebook_tqdm\n",
                        "2024-05-29 15:11:55,666 - Starting new HTTPS connection (1): lastmileai.dev:443\n",
                        "2024-05-29 15:11:55,779 - https://lastmileai.dev:443 \"GET /api/evaluation_projects/list?name=OpenAI+Text+Calling+w.+Streaming HTTP/1.1\" 200 367\n",
                        "2024-05-29 15:11:55,781 - load_ssl_context verify=True cert=None trust_env=True http2=False\n",
                        "2024-05-29 15:11:55,782 - load_verify_locations cafile='/opt/homebrew/Caskroom/miniconda/base/envs/eval/lib/python3.12/site-packages/certifi/cacert.pem'\n"
                    ]
                }
            ],
            "source": [
                "import openai\n",
                "\n",
                "from lastmile_eval.rag.debugger.api.tracing import LastMileTracer\n",
                "\n",
                "from tracing_auto_instrumentation.openai import openai as openai_tracing\n",
                "from lastmile_eval.rag.debugger.tracing.sdk import get_lastmile_tracer\n",
                "\n",
                "tracer: LastMileTracer = get_lastmile_tracer(\n",
                "    tracer_name=\"OpenAI Text Calling w. Streaming\",\n",
                ")\n",
                "client = openai.OpenAI(api_key=OPENAI_API_KEY)\n",
                "client = openai_tracing.wrap(client, tracer)"
            ]
        },
        {
            "cell_type": "code",
            "execution_count": 3,
            "id": "4276d4b0",
            "metadata": {},
            "outputs": [],
            "source": [
                "def run_my_existing_openai_app(user_message: str, stream: bool = True):\n",
                "    completion_params = {\n",
                "        \"model\": \"gpt-3.5-turbo\",\n",
                "        \"top_p\": 1,\n",
                "        \"max_tokens\": 3000,\n",
                "        \"temperature\": 1,\n",
                "        \"stream\": stream,\n",
                "        \"messages\": [\n",
                "            {\n",
                "                \"content\": user_message,\n",
                "                \"role\": \"user\",\n",
                "            }\n",
                "        ],\n",
                "    }\n",
                "\n",
                "    response = client.chat.completions.create(**completion_params)\n",
                "    print(\"Chat Completion Response: \")\n",
                "    if stream:\n",
                "        for chunk in response:\n",
                "            print(chunk)\n",
                "    else:\n",
                "        print(response)"
            ]
        },
        {
            "cell_type": "code",
            "execution_count": 4,
            "id": "9aa6f3f6",
            "metadata": {},
            "outputs": [
                {
                    "name": "stderr",
                    "output_type": "stream",
                    "text": [
                        "2024-05-29 15:11:55,809 - Request options: {'method': 'post', 'url': '/chat/completions', 'files': None, 'json_data': {'messages': [{'content': 'Tell me a joke about apples', 'role': 'user'}], 'model': 'gpt-3.5-turbo', 'max_tokens': 3000, 'stream': True, 'temperature': 1, 'top_p': 1}}\n",
                        "2024-05-29 15:11:55,820 - Sending HTTP Request: POST https://api.openai.com/v1/chat/completions\n",
                        "2024-05-29 15:11:55,821 - connect_tcp.started host='api.openai.com' port=443 local_address=None timeout=5.0 socket_options=None\n",
                        "2024-05-29 15:11:55,861 - connect_tcp.complete return_value=<httpcore._backends.sync.SyncStream object at 0x168e9af60>\n",
                        "2024-05-29 15:11:55,861 - start_tls.started ssl_context=<ssl.SSLContext object at 0x168ea7750> server_hostname='api.openai.com' timeout=5.0\n",
                        "2024-05-29 15:11:55,877 - start_tls.complete return_value=<httpcore._backends.sync.SyncStream object at 0x168d34890>\n",
                        "2024-05-29 15:11:55,877 - send_request_headers.started request=<Request [b'POST']>\n",
                        "2024-05-29 15:11:55,878 - send_request_headers.complete\n",
                        "2024-05-29 15:11:55,878 - send_request_body.started request=<Request [b'POST']>\n",
                        "2024-05-29 15:11:55,878 - send_request_body.complete\n",
                        "2024-05-29 15:11:55,879 - receive_response_headers.started request=<Request [b'POST']>\n"
                    ]
                },
                {
                    "name": "stdout",
                    "output_type": "stream",
                    "text": [
                        "Chat Completion Response: \n",
                        "fuck this starting create now\n",
                        "starting this stupid dumbass span\n"
                    ]
                },
                {
                    "name": "stderr",
                    "output_type": "stream",
                    "text": [
                        "2024-05-29 15:11:56,305 - receive_response_headers.complete return_value=(b'HTTP/1.1', 200, b'OK', [(b'Date', b'Wed, 29 May 2024 19:11:56 GMT'), (b'Content-Type', b'text/event-stream; charset=utf-8'), (b'Transfer-Encoding', b'chunked'), (b'Connection', b'keep-alive'), (b'openai-organization', b'lastmile-ai'), (b'openai-processing-ms', b'147'), (b'openai-version', b'2020-10-01'), (b'strict-transport-security', b'max-age=15724800; includeSubDomains'), (b'x-ratelimit-limit-requests', b'10000'), (b'x-ratelimit-limit-tokens', b'2000000'), (b'x-ratelimit-remaining-requests', b'9999'), (b'x-ratelimit-remaining-tokens', b'1996992'), (b'x-ratelimit-reset-requests', b'6ms'), (b'x-ratelimit-reset-tokens', b'90ms'), (b'x-request-id', b'req_f26ddc0caeb01b3e1a741dacb40cfdfb'), (b'CF-Cache-Status', b'DYNAMIC'), (b'Set-Cookie', b'__cf_bm=vKjWHAnFACZVrNAY8agIROhqlKfMaANG5O3nL6oXLVw-1717009916-1.0.1.1-i7yFPceqitnAKe88CVa12wl1SynzSilKiBg35JpUVn_v0pX0p.r7fBTVxpamShE_RHGRwP63FR2to_vUsBAhbg; path=/; expires=Wed, 29-May-24 19:41:56 GMT; domain=.api.openai.com; HttpOnly; Secure; SameSite=None'), (b'Set-Cookie', b'_cfuvid=sNqYsfQSN.goyG6uyFhTwRE0cmxEYNAYcTVSgPpg6xI-1717009916317-0.0.1.1-604800000; path=/; domain=.api.openai.com; HttpOnly; Secure; SameSite=None'), (b'Server', b'cloudflare'), (b'CF-RAY', b'88b8cb066fcc2361-EWR'), (b'alt-svc', b'h3=\":443\"; ma=86400')])\n",
                        "2024-05-29 15:11:56,312 - HTTP Request: POST https://api.openai.com/v1/chat/completions \"HTTP/1.1 200 OK\"\n",
                        "2024-05-29 15:11:56,313 - HTTP Response: POST https://api.openai.com/v1/chat/completions \"200 OK\" Headers([('date', 'Wed, 29 May 2024 19:11:56 GMT'), ('content-type', 'text/event-stream; charset=utf-8'), ('transfer-encoding', 'chunked'), ('connection', 'keep-alive'), ('openai-organization', 'lastmile-ai'), ('openai-processing-ms', '147'), ('openai-version', '2020-10-01'), ('strict-transport-security', 'max-age=15724800; includeSubDomains'), ('x-ratelimit-limit-requests', '10000'), ('x-ratelimit-limit-tokens', '2000000'), ('x-ratelimit-remaining-requests', '9999'), ('x-ratelimit-remaining-tokens', '1996992'), ('x-ratelimit-reset-requests', '6ms'), ('x-ratelimit-reset-tokens', '90ms'), ('x-request-id', 'req_f26ddc0caeb01b3e1a741dacb40cfdfb'), ('cf-cache-status', 'DYNAMIC'), ('set-cookie', '__cf_bm=vKjWHAnFACZVrNAY8agIROhqlKfMaANG5O3nL6oXLVw-1717009916-1.0.1.1-i7yFPceqitnAKe88CVa12wl1SynzSilKiBg35JpUVn_v0pX0p.r7fBTVxpamShE_RHGRwP63FR2to_vUsBAhbg; path=/; expires=Wed, 29-May-24 19:41:56 GMT; domain=.api.openai.com; HttpOnly; Secure; SameSite=None'), ('set-cookie', '_cfuvid=sNqYsfQSN.goyG6uyFhTwRE0cmxEYNAYcTVSgPpg6xI-1717009916317-0.0.1.1-604800000; path=/; domain=.api.openai.com; HttpOnly; Secure; SameSite=None'), ('server', 'cloudflare'), ('cf-ray', '88b8cb066fcc2361-EWR'), ('alt-svc', 'h3=\":443\"; ma=86400')])\n",
                        "2024-05-29 15:11:56,313 - request_id: req_f26ddc0caeb01b3e1a741dacb40cfdfb\n",
                        "2024-05-29 15:11:56,315 - receive_response_body.started request=<Request [b'POST']>\n"
                    ]
                },
                {
                    "name": "stdout",
                    "output_type": "stream",
                    "text": [
                        "ChatCompletionChunk(id='chatcmpl-9UJ0GDFgCH0BpdFPmXicAKxxCA96T', choices=[Choice(delta=ChoiceDelta(content='', function_call=None, role='assistant', tool_calls=None), finish_reason=None, index=0, logprobs=None)], created=1717009916, model='gpt-3.5-turbo-0125', object='chat.completion.chunk', system_fingerprint=None, usage=None)\n",
                        "ChatCompletionChunk(id='chatcmpl-9UJ0GDFgCH0BpdFPmXicAKxxCA96T', choices=[Choice(delta=ChoiceDelta(content='Why', function_call=None, role=None, tool_calls=None), finish_reason=None, index=0, logprobs=None)], created=1717009916, model='gpt-3.5-turbo-0125', object='chat.completion.chunk', system_fingerprint=None, usage=None)\n",
                        "ChatCompletionChunk(id='chatcmpl-9UJ0GDFgCH0BpdFPmXicAKxxCA96T', choices=[Choice(delta=ChoiceDelta(content=' did', function_call=None, role=None, tool_calls=None), finish_reason=None, index=0, logprobs=None)], created=1717009916, model='gpt-3.5-turbo-0125', object='chat.completion.chunk', system_fingerprint=None, usage=None)\n",
                        "ChatCompletionChunk(id='chatcmpl-9UJ0GDFgCH0BpdFPmXicAKxxCA96T', choices=[Choice(delta=ChoiceDelta(content=' the', function_call=None, role=None, tool_calls=None), finish_reason=None, index=0, logprobs=None)], created=1717009916, model='gpt-3.5-turbo-0125', object='chat.completion.chunk', system_fingerprint=None, usage=None)\n",
                        "ChatCompletionChunk(id='chatcmpl-9UJ0GDFgCH0BpdFPmXicAKxxCA96T', choices=[Choice(delta=ChoiceDelta(content=' apple', function_call=None, role=None, tool_calls=None), finish_reason=None, index=0, logprobs=None)], created=1717009916, model='gpt-3.5-turbo-0125', object='chat.completion.chunk', system_fingerprint=None, usage=None)\n",
                        "ChatCompletionChunk(id='chatcmpl-9UJ0GDFgCH0BpdFPmXicAKxxCA96T', choices=[Choice(delta=ChoiceDelta(content=' go', function_call=None, role=None, tool_calls=None), finish_reason=None, index=0, logprobs=None)], created=1717009916, model='gpt-3.5-turbo-0125', object='chat.completion.chunk', system_fingerprint=None, usage=None)\n",
                        "ChatCompletionChunk(id='chatcmpl-9UJ0GDFgCH0BpdFPmXicAKxxCA96T', choices=[Choice(delta=ChoiceDelta(content=' to', function_call=None, role=None, tool_calls=None), finish_reason=None, index=0, logprobs=None)], created=1717009916, model='gpt-3.5-turbo-0125', object='chat.completion.chunk', system_fingerprint=None, usage=None)\n",
                        "ChatCompletionChunk(id='chatcmpl-9UJ0GDFgCH0BpdFPmXicAKxxCA96T', choices=[Choice(delta=ChoiceDelta(content=' the', function_call=None, role=None, tool_calls=None), finish_reason=None, index=0, logprobs=None)], created=1717009916, model='gpt-3.5-turbo-0125', object='chat.completion.chunk', system_fingerprint=None, usage=None)\n"
                    ]
                },
                {
                    "name": "stderr",
                    "output_type": "stream",
                    "text": [
                        "2024-05-29 15:11:56,689 - receive_response_body.complete\n",
                        "2024-05-29 15:11:56,690 - response_closed.started\n",
                        "2024-05-29 15:11:56,690 - response_closed.complete\n",
                        "2024-05-29 15:11:56,695 - Starting new HTTPS connection (1): lastmileai.dev:443\n",
                        "2024-05-29 15:11:56,845 - https://lastmileai.dev:443 \"POST /api/trace/create HTTP/1.1\" 200 10\n",
                        "2024-05-29 15:11:56,850 - Starting new HTTPS connection (1): lastmileai.dev:443\n"
                    ]
                },
                {
                    "name": "stdout",
                    "output_type": "stream",
                    "text": [
                        "ChatCompletionChunk(id='chatcmpl-9UJ0GDFgCH0BpdFPmXicAKxxCA96T', choices=[Choice(delta=ChoiceDelta(content=' doctor', function_call=None, role=None, tool_calls=None), finish_reason=None, index=0, logprobs=None)], created=1717009916, model='gpt-3.5-turbo-0125', object='chat.completion.chunk', system_fingerprint=None, usage=None)\n",
                        "ChatCompletionChunk(id='chatcmpl-9UJ0GDFgCH0BpdFPmXicAKxxCA96T', choices=[Choice(delta=ChoiceDelta(content='?', function_call=None, role=None, tool_calls=None), finish_reason=None, index=0, logprobs=None)], created=1717009916, model='gpt-3.5-turbo-0125', object='chat.completion.chunk', system_fingerprint=None, usage=None)\n",
                        "ChatCompletionChunk(id='chatcmpl-9UJ0GDFgCH0BpdFPmXicAKxxCA96T', choices=[Choice(delta=ChoiceDelta(content=' Because', function_call=None, role=None, tool_calls=None), finish_reason=None, index=0, logprobs=None)], created=1717009916, model='gpt-3.5-turbo-0125', object='chat.completion.chunk', system_fingerprint=None, usage=None)\n",
                        "ChatCompletionChunk(id='chatcmpl-9UJ0GDFgCH0BpdFPmXicAKxxCA96T', choices=[Choice(delta=ChoiceDelta(content=' it', function_call=None, role=None, tool_calls=None), finish_reason=None, index=0, logprobs=None)], created=1717009916, model='gpt-3.5-turbo-0125', object='chat.completion.chunk', system_fingerprint=None, usage=None)\n",
                        "ChatCompletionChunk(id='chatcmpl-9UJ0GDFgCH0BpdFPmXicAKxxCA96T', choices=[Choice(delta=ChoiceDelta(content=' wasn', function_call=None, role=None, tool_calls=None), finish_reason=None, index=0, logprobs=None)], created=1717009916, model='gpt-3.5-turbo-0125', object='chat.completion.chunk', system_fingerprint=None, usage=None)\n",
                        "ChatCompletionChunk(id='chatcmpl-9UJ0GDFgCH0BpdFPmXicAKxxCA96T', choices=[Choice(delta=ChoiceDelta(content=\"'t\", function_call=None, role=None, tool_calls=None), finish_reason=None, index=0, logprobs=None)], created=1717009916, model='gpt-3.5-turbo-0125', object='chat.completion.chunk', system_fingerprint=None, usage=None)\n",
                        "ChatCompletionChunk(id='chatcmpl-9UJ0GDFgCH0BpdFPmXicAKxxCA96T', choices=[Choice(delta=ChoiceDelta(content=' pe', function_call=None, role=None, tool_calls=None), finish_reason=None, index=0, logprobs=None)], created=1717009916, model='gpt-3.5-turbo-0125', object='chat.completion.chunk', system_fingerprint=None, usage=None)\n",
                        "ChatCompletionChunk(id='chatcmpl-9UJ0GDFgCH0BpdFPmXicAKxxCA96T', choices=[Choice(delta=ChoiceDelta(content='eling', function_call=None, role=None, tool_calls=None), finish_reason=None, index=0, logprobs=None)], created=1717009916, model='gpt-3.5-turbo-0125', object='chat.completion.chunk', system_fingerprint=None, usage=None)\n",
                        "ChatCompletionChunk(id='chatcmpl-9UJ0GDFgCH0BpdFPmXicAKxxCA96T', choices=[Choice(delta=ChoiceDelta(content=' well', function_call=None, role=None, tool_calls=None), finish_reason=None, index=0, logprobs=None)], created=1717009916, model='gpt-3.5-turbo-0125', object='chat.completion.chunk', system_fingerprint=None, usage=None)\n",
                        "ChatCompletionChunk(id='chatcmpl-9UJ0GDFgCH0BpdFPmXicAKxxCA96T', choices=[Choice(delta=ChoiceDelta(content='!', function_call=None, role=None, tool_calls=None), finish_reason=None, index=0, logprobs=None)], created=1717009916, model='gpt-3.5-turbo-0125', object='chat.completion.chunk', system_fingerprint=None, usage=None)\n",
                        "ChatCompletionChunk(id='chatcmpl-9UJ0GDFgCH0BpdFPmXicAKxxCA96T', choices=[Choice(delta=ChoiceDelta(content=None, function_call=None, role=None, tool_calls=None), finish_reason='stop', index=0, logprobs=None)], created=1717009916, model='gpt-3.5-turbo-0125', object='chat.completion.chunk', system_fingerprint=None, usage=None)\n"
                    ]
                },
                {
                    "name": "stderr",
                    "output_type": "stream",
                    "text": [
                        "2024-05-29 15:11:56,942 - https://lastmileai.dev:443 \"POST /api/rag_query_traces/create HTTP/1.1\" 200 475\n",
                        "2024-05-29 15:11:56,944 - Starting new HTTPS connection (1): lastmileai.dev:443\n",
                        "2024-05-29 15:11:57,146 - https://lastmileai.dev:443 \"POST /api/rag_events/create HTTP/1.1\" 200 808\n"
                    ]
                }
            ],
            "source": [
                "# Run your code as usual\n",
                "run_my_existing_openai_app(\"Tell me a joke about apples\")"
            ]
        }
    ],
    "metadata": {
        "kernelspec": {
            "display_name": "Python 3 (ipykernel)",
            "language": "python",
            "name": "python3"
        },
        "language_info": {
            "codemirror_mode": {
                "name": "ipython",
                "version": 3
            },
            "file_extension": ".py",
            "mimetype": "text/x-python",
            "name": "python",
            "nbconvert_exporter": "python",
            "pygments_lexer": "ipython3",
            "version": "3.12.3"
        }
    },
    "nbformat": 4,
    "nbformat_minor": 5
}
