{
    "cells": [
        {
            "attachments": {},
            "cell_type": "markdown",
            "id": "3e67f200",
            "metadata": {},
            "source": [
                "# OpenAI Streaming - Traced With LastMile\n",
                "\n",
                "Four use cases:\n",
                "\n",
                "1. Text - Non-streaming\n",
                "2. [this one] Text - Streaming\n",
                "3. Tool Calls - Non-streaming\n",
                "4. Tool Calls - Streaming"
            ]
        },
        {
            "cell_type": "code",
            "execution_count": 1,
            "id": "80e71f33",
            "metadata": {
                "pycharm": {
                    "is_executing": true
                }
            },
            "outputs": [],
            "source": [
                "# !pip install scipy --quiet\n",
                "# !pip install tenacity --quiet\n",
                "# !pip install tiktoken --quiet\n",
                "# !pip install termcolor --quiet\n",
                "# !pip install openai --quiet\n",
                "# !pip install \"tracing-auto-instrumentation[openai]\"\n",
                "\n",
                "# Create ~/.env file with this line: OPENAI_API_KEY=<your key here>\n",
                "# You can get your key from https://platform.openai.com/api-keys \n",
                "import openai\n",
                "import dotenv\n",
                "import os\n",
                "dotenv.load_dotenv()\n",
                "OPENAI_API_KEY = os.getenv(\"OPENAI_API_KEY\")"
            ]
        },
        {
            "cell_type": "code",
            "execution_count": 2,
            "id": "4abf2967",
            "metadata": {},
            "outputs": [
                {
                    "name": "stderr",
                    "output_type": "stream",
                    "text": [
                        "/opt/homebrew/Caskroom/miniconda/base/envs/eval/lib/python3.12/site-packages/tqdm/auto.py:21: TqdmWarning: IProgress not found. Please update jupyter and ipywidgets. See https://ipywidgets.readthedocs.io/en/stable/user_install.html\n",
                        "  from .autonotebook import tqdm as notebook_tqdm\n",
                        "2024-05-29 16:18:25,326 - Starting new HTTPS connection (1): lastmileai.dev:443\n",
                        "2024-05-29 16:18:25,413 - https://lastmileai.dev:443 \"GET /api/evaluation_projects/list?name=OpenAI+Text+Calling+w.+Streaming HTTP/1.1\" 200 367\n",
                        "2024-05-29 16:18:25,415 - load_ssl_context verify=True cert=None trust_env=True http2=False\n",
                        "2024-05-29 16:18:25,415 - load_verify_locations cafile='/opt/homebrew/Caskroom/miniconda/base/envs/eval/lib/python3.12/site-packages/certifi/cacert.pem'\n"
                    ]
                }
            ],
            "source": [
                "import openai\n",
                "\n",
                "from lastmile_eval.rag.debugger.api.tracing import LastMileTracer\n",
                "\n",
                "from tracing_auto_instrumentation.openai import openai as openai_tracing\n",
                "from lastmile_eval.rag.debugger.tracing.sdk import get_lastmile_tracer\n",
                "\n",
                "tracer: LastMileTracer = get_lastmile_tracer(\n",
                "    tracer_name=\"OpenAI Text Calling w. Streaming\",\n",
                ")\n",
                "client = openai.OpenAI(api_key=OPENAI_API_KEY)\n",
                "client = openai_tracing.wrap(client, tracer)"
            ]
        },
        {
            "cell_type": "code",
            "execution_count": 3,
            "id": "4276d4b0",
            "metadata": {},
            "outputs": [],
            "source": [
                "def run_my_existing_openai_app(user_message: str, stream: bool = True):\n",
                "    completion_params = {\n",
                "        \"model\": \"gpt-3.5-turbo\",\n",
                "        \"top_p\": 1,\n",
                "        \"max_tokens\": 3000,\n",
                "        \"temperature\": 1,\n",
                "        \"stream\": stream,\n",
                "        \"messages\": [\n",
                "            {\n",
                "                \"content\": user_message,\n",
                "                \"role\": \"user\",\n",
                "            }\n",
                "        ],\n",
                "    }\n",
                "\n",
                "    response = client.chat.completions.create(**completion_params)\n",
                "    print(\"Chat Completion Response: \")\n",
                "    if stream:\n",
                "        for chunk in response:\n",
                "            print(chunk)\n",
                "    else:\n",
                "        print(response)"
            ]
        },
        {
            "cell_type": "code",
            "execution_count": 4,
            "id": "9aa6f3f6",
            "metadata": {},
            "outputs": [
                {
                    "name": "stderr",
                    "output_type": "stream",
                    "text": [
                        "2024-05-29 16:18:25,440 - Request options: {'method': 'post', 'url': '/chat/completions', 'files': None, 'json_data': {'messages': [{'content': 'Tell me a joke about apples', 'role': 'user'}], 'model': 'gpt-3.5-turbo', 'max_tokens': 3000, 'stream': True, 'temperature': 1, 'top_p': 1}}\n",
                        "2024-05-29 16:18:25,449 - Sending HTTP Request: POST https://api.openai.com/v1/chat/completions\n",
                        "2024-05-29 16:18:25,451 - connect_tcp.started host='api.openai.com' port=443 local_address=None timeout=5.0 socket_options=None\n",
                        "2024-05-29 16:18:25,458 - connect_tcp.complete return_value=<httpcore._backends.sync.SyncStream object at 0x13e6be0c0>\n",
                        "2024-05-29 16:18:25,459 - start_tls.started ssl_context=<ssl.SSLContext object at 0x13e7edd50> server_hostname='api.openai.com' timeout=5.0\n",
                        "2024-05-29 16:18:25,475 - start_tls.complete return_value=<httpcore._backends.sync.SyncStream object at 0x13e717230>\n",
                        "2024-05-29 16:18:25,475 - send_request_headers.started request=<Request [b'POST']>\n",
                        "2024-05-29 16:18:25,476 - send_request_headers.complete\n",
                        "2024-05-29 16:18:25,476 - send_request_body.started request=<Request [b'POST']>\n",
                        "2024-05-29 16:18:25,476 - send_request_body.complete\n",
                        "2024-05-29 16:18:25,476 - receive_response_headers.started request=<Request [b'POST']>\n"
                    ]
                },
                {
                    "name": "stdout",
                    "output_type": "stream",
                    "text": [
                        "Chat Completion Response: \n"
                    ]
                },
                {
                    "name": "stderr",
                    "output_type": "stream",
                    "text": [
                        "2024-05-29 16:18:26,059 - receive_response_headers.complete return_value=(b'HTTP/1.1', 200, b'OK', [(b'Date', b'Wed, 29 May 2024 20:18:26 GMT'), (b'Content-Type', b'text/event-stream; charset=utf-8'), (b'Transfer-Encoding', b'chunked'), (b'Connection', b'keep-alive'), (b'openai-organization', b'lastmile-ai'), (b'openai-processing-ms', b'276'), (b'openai-version', b'2020-10-01'), (b'strict-transport-security', b'max-age=15724800; includeSubDomains'), (b'x-ratelimit-limit-requests', b'10000'), (b'x-ratelimit-limit-tokens', b'2000000'), (b'x-ratelimit-remaining-requests', b'9999'), (b'x-ratelimit-remaining-tokens', b'1996992'), (b'x-ratelimit-reset-requests', b'6ms'), (b'x-ratelimit-reset-tokens', b'90ms'), (b'x-request-id', b'req_f3a6442f979bfb672da84ebc24c66397'), (b'CF-Cache-Status', b'DYNAMIC'), (b'Set-Cookie', b'__cf_bm=0Z5.oQ0Bapbxyrv65xWUkR_K4.vAJsU4MNH7WkiNQNo-1717013906-1.0.1.1-kh8mhr7kXRjQjPO_2yDlEgfrIV82pOeMR8nBDGySSgeqqFXsppzfwPbnyujC3a_3J0gLYI7aqbRz.9FQBozF7g; path=/; expires=Wed, 29-May-24 20:48:26 GMT; domain=.api.openai.com; HttpOnly; Secure; SameSite=None'), (b'Set-Cookie', b'_cfuvid=igvaJY6aUC.eOuPeWQMwb8Lkn437l2c9CUGUxxr6Vps-1717013906085-0.0.1.1-604800000; path=/; domain=.api.openai.com; HttpOnly; Secure; SameSite=None'), (b'Server', b'cloudflare'), (b'CF-RAY', b'88b92c6d7f8b0c78-EWR'), (b'alt-svc', b'h3=\":443\"; ma=86400')])\n",
                        "2024-05-29 16:18:26,062 - HTTP Request: POST https://api.openai.com/v1/chat/completions \"HTTP/1.1 200 OK\"\n",
                        "2024-05-29 16:18:26,063 - HTTP Response: POST https://api.openai.com/v1/chat/completions \"200 OK\" Headers([('date', 'Wed, 29 May 2024 20:18:26 GMT'), ('content-type', 'text/event-stream; charset=utf-8'), ('transfer-encoding', 'chunked'), ('connection', 'keep-alive'), ('openai-organization', 'lastmile-ai'), ('openai-processing-ms', '276'), ('openai-version', '2020-10-01'), ('strict-transport-security', 'max-age=15724800; includeSubDomains'), ('x-ratelimit-limit-requests', '10000'), ('x-ratelimit-limit-tokens', '2000000'), ('x-ratelimit-remaining-requests', '9999'), ('x-ratelimit-remaining-tokens', '1996992'), ('x-ratelimit-reset-requests', '6ms'), ('x-ratelimit-reset-tokens', '90ms'), ('x-request-id', 'req_f3a6442f979bfb672da84ebc24c66397'), ('cf-cache-status', 'DYNAMIC'), ('set-cookie', '__cf_bm=0Z5.oQ0Bapbxyrv65xWUkR_K4.vAJsU4MNH7WkiNQNo-1717013906-1.0.1.1-kh8mhr7kXRjQjPO_2yDlEgfrIV82pOeMR8nBDGySSgeqqFXsppzfwPbnyujC3a_3J0gLYI7aqbRz.9FQBozF7g; path=/; expires=Wed, 29-May-24 20:48:26 GMT; domain=.api.openai.com; HttpOnly; Secure; SameSite=None'), ('set-cookie', '_cfuvid=igvaJY6aUC.eOuPeWQMwb8Lkn437l2c9CUGUxxr6Vps-1717013906085-0.0.1.1-604800000; path=/; domain=.api.openai.com; HttpOnly; Secure; SameSite=None'), ('server', 'cloudflare'), ('cf-ray', '88b92c6d7f8b0c78-EWR'), ('alt-svc', 'h3=\":443\"; ma=86400')])\n",
                        "2024-05-29 16:18:26,064 - request_id: req_f3a6442f979bfb672da84ebc24c66397\n",
                        "2024-05-29 16:18:26,065 - receive_response_body.started request=<Request [b'POST']>\n"
                    ]
                },
                {
                    "name": "stdout",
                    "output_type": "stream",
                    "text": [
                        "ChatCompletionChunk(id='chatcmpl-9UK2bwnfqMpv9eUE374kieOTQk4QU', choices=[Choice(delta=ChoiceDelta(content='', function_call=None, role='assistant', tool_calls=None), finish_reason=None, index=0, logprobs=None)], created=1717013905, model='gpt-3.5-turbo-0125', object='chat.completion.chunk', system_fingerprint=None, usage=None)\n",
                        "ChatCompletionChunk(id='chatcmpl-9UK2bwnfqMpv9eUE374kieOTQk4QU', choices=[Choice(delta=ChoiceDelta(content='Why', function_call=None, role=None, tool_calls=None), finish_reason=None, index=0, logprobs=None)], created=1717013905, model='gpt-3.5-turbo-0125', object='chat.completion.chunk', system_fingerprint=None, usage=None)\n",
                        "ChatCompletionChunk(id='chatcmpl-9UK2bwnfqMpv9eUE374kieOTQk4QU', choices=[Choice(delta=ChoiceDelta(content=' did', function_call=None, role=None, tool_calls=None), finish_reason=None, index=0, logprobs=None)], created=1717013905, model='gpt-3.5-turbo-0125', object='chat.completion.chunk', system_fingerprint=None, usage=None)\n",
                        "ChatCompletionChunk(id='chatcmpl-9UK2bwnfqMpv9eUE374kieOTQk4QU', choices=[Choice(delta=ChoiceDelta(content=' the', function_call=None, role=None, tool_calls=None), finish_reason=None, index=0, logprobs=None)], created=1717013905, model='gpt-3.5-turbo-0125', object='chat.completion.chunk', system_fingerprint=None, usage=None)\n",
                        "ChatCompletionChunk(id='chatcmpl-9UK2bwnfqMpv9eUE374kieOTQk4QU', choices=[Choice(delta=ChoiceDelta(content=' apple', function_call=None, role=None, tool_calls=None), finish_reason=None, index=0, logprobs=None)], created=1717013905, model='gpt-3.5-turbo-0125', object='chat.completion.chunk', system_fingerprint=None, usage=None)\n",
                        "ChatCompletionChunk(id='chatcmpl-9UK2bwnfqMpv9eUE374kieOTQk4QU', choices=[Choice(delta=ChoiceDelta(content=' go', function_call=None, role=None, tool_calls=None), finish_reason=None, index=0, logprobs=None)], created=1717013905, model='gpt-3.5-turbo-0125', object='chat.completion.chunk', system_fingerprint=None, usage=None)\n",
                        "ChatCompletionChunk(id='chatcmpl-9UK2bwnfqMpv9eUE374kieOTQk4QU', choices=[Choice(delta=ChoiceDelta(content=' to', function_call=None, role=None, tool_calls=None), finish_reason=None, index=0, logprobs=None)], created=1717013905, model='gpt-3.5-turbo-0125', object='chat.completion.chunk', system_fingerprint=None, usage=None)\n",
                        "ChatCompletionChunk(id='chatcmpl-9UK2bwnfqMpv9eUE374kieOTQk4QU', choices=[Choice(delta=ChoiceDelta(content=' school', function_call=None, role=None, tool_calls=None), finish_reason=None, index=0, logprobs=None)], created=1717013905, model='gpt-3.5-turbo-0125', object='chat.completion.chunk', system_fingerprint=None, usage=None)\n"
                    ]
                },
                {
                    "name": "stderr",
                    "output_type": "stream",
                    "text": [
                        "2024-05-29 16:18:26,333 - receive_response_body.complete\n",
                        "2024-05-29 16:18:26,333 - response_closed.started\n",
                        "2024-05-29 16:18:26,334 - response_closed.complete\n",
                        "2024-05-29 16:18:26,338 - Starting new HTTPS connection (1): lastmileai.dev:443\n",
                        "2024-05-29 16:18:26,434 - https://lastmileai.dev:443 \"POST /api/trace/create HTTP/1.1\" 200 10\n",
                        "2024-05-29 16:18:26,439 - Starting new HTTPS connection (1): lastmileai.dev:443\n"
                    ]
                },
                {
                    "name": "stdout",
                    "output_type": "stream",
                    "text": [
                        "ChatCompletionChunk(id='chatcmpl-9UK2bwnfqMpv9eUE374kieOTQk4QU', choices=[Choice(delta=ChoiceDelta(content='?', function_call=None, role=None, tool_calls=None), finish_reason=None, index=0, logprobs=None)], created=1717013905, model='gpt-3.5-turbo-0125', object='chat.completion.chunk', system_fingerprint=None, usage=None)\n",
                        "ChatCompletionChunk(id='chatcmpl-9UK2bwnfqMpv9eUE374kieOTQk4QU', choices=[Choice(delta=ChoiceDelta(content=' Because', function_call=None, role=None, tool_calls=None), finish_reason=None, index=0, logprobs=None)], created=1717013905, model='gpt-3.5-turbo-0125', object='chat.completion.chunk', system_fingerprint=None, usage=None)\n",
                        "ChatCompletionChunk(id='chatcmpl-9UK2bwnfqMpv9eUE374kieOTQk4QU', choices=[Choice(delta=ChoiceDelta(content=' it', function_call=None, role=None, tool_calls=None), finish_reason=None, index=0, logprobs=None)], created=1717013905, model='gpt-3.5-turbo-0125', object='chat.completion.chunk', system_fingerprint=None, usage=None)\n",
                        "ChatCompletionChunk(id='chatcmpl-9UK2bwnfqMpv9eUE374kieOTQk4QU', choices=[Choice(delta=ChoiceDelta(content=' wanted', function_call=None, role=None, tool_calls=None), finish_reason=None, index=0, logprobs=None)], created=1717013905, model='gpt-3.5-turbo-0125', object='chat.completion.chunk', system_fingerprint=None, usage=None)\n",
                        "ChatCompletionChunk(id='chatcmpl-9UK2bwnfqMpv9eUE374kieOTQk4QU', choices=[Choice(delta=ChoiceDelta(content=' to', function_call=None, role=None, tool_calls=None), finish_reason=None, index=0, logprobs=None)], created=1717013905, model='gpt-3.5-turbo-0125', object='chat.completion.chunk', system_fingerprint=None, usage=None)\n",
                        "ChatCompletionChunk(id='chatcmpl-9UK2bwnfqMpv9eUE374kieOTQk4QU', choices=[Choice(delta=ChoiceDelta(content=' be', function_call=None, role=None, tool_calls=None), finish_reason=None, index=0, logprobs=None)], created=1717013905, model='gpt-3.5-turbo-0125', object='chat.completion.chunk', system_fingerprint=None, usage=None)\n",
                        "ChatCompletionChunk(id='chatcmpl-9UK2bwnfqMpv9eUE374kieOTQk4QU', choices=[Choice(delta=ChoiceDelta(content=' a', function_call=None, role=None, tool_calls=None), finish_reason=None, index=0, logprobs=None)], created=1717013905, model='gpt-3.5-turbo-0125', object='chat.completion.chunk', system_fingerprint=None, usage=None)\n",
                        "ChatCompletionChunk(id='chatcmpl-9UK2bwnfqMpv9eUE374kieOTQk4QU', choices=[Choice(delta=ChoiceDelta(content=' smart', function_call=None, role=None, tool_calls=None), finish_reason=None, index=0, logprobs=None)], created=1717013905, model='gpt-3.5-turbo-0125', object='chat.completion.chunk', system_fingerprint=None, usage=None)\n",
                        "ChatCompletionChunk(id='chatcmpl-9UK2bwnfqMpv9eUE374kieOTQk4QU', choices=[Choice(delta=ChoiceDelta(content=' cookie', function_call=None, role=None, tool_calls=None), finish_reason=None, index=0, logprobs=None)], created=1717013905, model='gpt-3.5-turbo-0125', object='chat.completion.chunk', system_fingerprint=None, usage=None)\n",
                        "ChatCompletionChunk(id='chatcmpl-9UK2bwnfqMpv9eUE374kieOTQk4QU', choices=[Choice(delta=ChoiceDelta(content='!', function_call=None, role=None, tool_calls=None), finish_reason=None, index=0, logprobs=None)], created=1717013905, model='gpt-3.5-turbo-0125', object='chat.completion.chunk', system_fingerprint=None, usage=None)\n",
                        "ChatCompletionChunk(id='chatcmpl-9UK2bwnfqMpv9eUE374kieOTQk4QU', choices=[Choice(delta=ChoiceDelta(content=None, function_call=None, role=None, tool_calls=None), finish_reason='stop', index=0, logprobs=None)], created=1717013905, model='gpt-3.5-turbo-0125', object='chat.completion.chunk', system_fingerprint=None, usage=None)\n"
                    ]
                },
                {
                    "name": "stderr",
                    "output_type": "stream",
                    "text": [
                        "2024-05-29 16:18:26,530 - https://lastmileai.dev:443 \"POST /api/rag_query_traces/create HTTP/1.1\" 200 475\n",
                        "2024-05-29 16:18:26,532 - Starting new HTTPS connection (1): lastmileai.dev:443\n",
                        "2024-05-29 16:18:26,614 - https://lastmileai.dev:443 \"POST /api/rag_events/create HTTP/1.1\" 200 813\n"
                    ]
                }
            ],
            "source": [
                "# Run your code as usual\n",
                "stream = True\n",
                "run_my_existing_openai_app(\"Tell me a joke about apples\", stream=stream)"
            ]
        }
    ],
    "metadata": {
        "kernelspec": {
            "display_name": "Python 3 (ipykernel)",
            "language": "python",
            "name": "python3"
        },
        "language_info": {
            "codemirror_mode": {
                "name": "ipython",
                "version": 3
            },
            "file_extension": ".py",
            "mimetype": "text/x-python",
            "name": "python",
            "nbconvert_exporter": "python",
            "pygments_lexer": "ipython3",
            "version": "3.12.3"
        }
    },
    "nbformat": 4,
    "nbformat_minor": 5
}
