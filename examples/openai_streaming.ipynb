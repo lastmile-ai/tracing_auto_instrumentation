{
    "cells": [
        {
            "attachments": {},
            "cell_type": "markdown",
            "id": "3e67f200",
            "metadata": {},
            "source": [
                "# OpenAI Streaming - Traced With LastMile\n",
                "\n",
                "Four use cases:\n",
                "\n",
                "1. Text - Non-streaming\n",
                "2. [this one] Text - Streaming\n",
                "3. Tool Calls - Non-streaming\n",
                "4. Tool Calls - Streaming"
            ]
        },
        {
            "attachments": {},
            "cell_type": "markdown",
            "id": "64c85e26",
            "metadata": {},
            "source": [
                "## How to generate function arguments"
            ]
        },
        {
            "cell_type": "code",
            "execution_count": 1,
            "id": "80e71f33",
            "metadata": {
                "pycharm": {
                    "is_executing": true
                }
            },
            "outputs": [
                {
                    "name": "stdout",
                    "output_type": "stream",
                    "text": [
                        "tracing_auto_instrumentation             0.0.4     /Users/rossdancraig/Projects/tracing_auto_instrumentation\n"
                    ]
                }
            ],
            "source": [
                "# !pip install scipy --quiet\n",
                "# !pip install tenacity --quiet\n",
                "# !pip install tiktoken --quiet\n",
                "# !pip install termcolor --quiet\n",
                "# !pip install openai --quiet\n",
                "# !pip install \"tracing-auto-instrumentation[openai]\"\n",
                "!pip list | grep tracing_auto_instrumentation\n",
                "\n",
                "# Create ~/.env file with this line: OPENAI_API_KEY=<your key here>\n",
                "# You can get your key from https://platform.openai.com/api-keys \n",
                "import openai\n",
                "import dotenv\n",
                "import os\n",
                "dotenv.load_dotenv()\n",
                "OPENAI_API_KEY = os.getenv(\"OPENAI_API_KEY\")"
            ]
        },
        {
            "cell_type": "code",
            "execution_count": 2,
            "id": "4abf2967",
            "metadata": {},
            "outputs": [
                {
                    "name": "stderr",
                    "output_type": "stream",
                    "text": [
                        "/opt/homebrew/Caskroom/miniconda/base/envs/eval/lib/python3.12/site-packages/tqdm/auto.py:21: TqdmWarning: IProgress not found. Please update jupyter and ipywidgets. See https://ipywidgets.readthedocs.io/en/stable/user_install.html\n",
                        "  from .autonotebook import tqdm as notebook_tqdm\n",
                        "2024-05-29 15:11:55,666 - Starting new HTTPS connection (1): lastmileai.dev:443\n",
                        "2024-05-29 15:11:55,779 - https://lastmileai.dev:443 \"GET /api/evaluation_projects/list?name=OpenAI+Text+Calling+w.+Streaming HTTP/1.1\" 200 367\n",
                        "2024-05-29 15:11:55,781 - load_ssl_context verify=True cert=None trust_env=True http2=False\n",
                        "2024-05-29 15:11:55,782 - load_verify_locations cafile='/opt/homebrew/Caskroom/miniconda/base/envs/eval/lib/python3.12/site-packages/certifi/cacert.pem'\n"
                    ]
                }
            ],
            "source": [
                "import openai\n",
                "\n",
                "from lastmile_eval.rag.debugger.api.tracing import LastMileTracer\n",
                "\n",
                "from tracing_auto_instrumentation.openai import openai as openai_tracing\n",
                "from lastmile_eval.rag.debugger.tracing.sdk import get_lastmile_tracer\n",
                "\n",
                "tracer: LastMileTracer = get_lastmile_tracer(\n",
                "    tracer_name=\"OpenAI Text Calling w. Streaming\",\n",
                ")\n",
                "client = openai.OpenAI(api_key=OPENAI_API_KEY)\n",
                "client = openai_tracing.wrap(client, tracer)"
            ]
        },
        {
            "cell_type": "code",
            "execution_count": 3,
            "id": "4276d4b0",
            "metadata": {},
            "outputs": [],
            "source": [
                "def run_my_existing_openai_app(user_message: str, stream: bool = True):\n",
                "    completion_params = {\n",
                "        \"model\": \"gpt-3.5-turbo\",\n",
                "        \"top_p\": 1,\n",
                "        \"max_tokens\": 3000,\n",
                "        \"temperature\": 1,\n",
                "        \"stream\": stream,\n",
                "        \"messages\": [\n",
                "            {\n",
                "                \"content\": user_message,\n",
                "                \"role\": \"user\",\n",
                "            }\n",
                "        ],\n",
                "    }\n",
                "\n",
                "    response = client.chat.completions.create(**completion_params)\n",
                "    print(\"Chat Completion Response: \")\n",
                "    if stream:\n",
                "        for chunk in response:\n",
                "            print(chunk)\n",
                "    else:\n",
                "        print(response)"
            ]
        },
        {
            "cell_type": "code",
            "execution_count": 4,
            "id": "9aa6f3f6",
            "metadata": {},
            "outputs": [
                {
                    "name": "stderr",
                    "output_type": "stream",
                    "text": [
                        "2024-05-29 15:11:55,809 - Request options: {'method': 'post', 'url': '/chat/completions', 'files': None, 'json_data': {'messages': [{'content': 'Tell me a joke about apples', 'role': 'user'}], 'model': 'gpt-3.5-turbo', 'max_tokens': 3000, 'stream': True, 'temperature': 1, 'top_p': 1}}\n",
                        "2024-05-29 15:11:55,820 - Sending HTTP Request: POST https://api.openai.com/v1/chat/completions\n",
                        "2024-05-29 15:11:55,821 - connect_tcp.started host='api.openai.com' port=443 local_address=None timeout=5.0 socket_options=None\n",
                        "2024-05-29 15:11:55,861 - connect_tcp.complete return_value=<httpcore._backends.sync.SyncStream object at 0x168e9af60>\n",
                        "2024-05-29 15:11:55,861 - start_tls.started ssl_context=<ssl.SSLContext object at 0x168ea7750> server_hostname='api.openai.com' timeout=5.0\n",
                        "2024-05-29 15:11:55,877 - start_tls.complete return_value=<httpcore._backends.sync.SyncStream object at 0x168d34890>\n",
                        "2024-05-29 15:11:55,877 - send_request_headers.started request=<Request [b'POST']>\n",
                        "2024-05-29 15:11:55,878 - send_request_headers.complete\n",
                        "2024-05-29 15:11:55,878 - send_request_body.started request=<Request [b'POST']>\n",
                        "2024-05-29 15:11:55,878 - send_request_body.complete\n",
                        "2024-05-29 15:11:55,879 - receive_response_headers.started request=<Request [b'POST']>\n"
                    ]
                },
                {
                    "name": "stdout",
                    "output_type": "stream",
                    "text": [
                        "Chat Completion Response: \n",
                        "fuck this starting create now\n",
                        "starting this stupid dumbass span\n"
                    ]
                },
                {
                    "name": "stderr",
                    "output_type": "stream",
                    "text": [
                        "2024-05-29 15:11:56,305 - receive_response_headers.complete return_value=(b'HTTP/1.1', 200, b'OK', [(b'Date', b'Wed, 29 May 2024 19:11:56 GMT'), (b'Content-Type', b'text/event-stream; charset=utf-8'), (b'Transfer-Encoding', b'chunked'), (b'Connection', b'keep-alive'), (b'openai-organization', b'lastmile-ai'), (b'openai-processing-ms', b'147'), (b'openai-version', b'2020-10-01'), (b'strict-transport-security', b'max-age=15724800; includeSubDomains'), (b'x-ratelimit-limit-requests', b'10000'), (b'x-ratelimit-limit-tokens', b'2000000'), (b'x-ratelimit-remaining-requests', b'9999'), (b'x-ratelimit-remaining-tokens', b'1996992'), (b'x-ratelimit-reset-requests', b'6ms'), (b'x-ratelimit-reset-tokens', b'90ms'), (b'x-request-id', b'req_f26ddc0caeb01b3e1a741dacb40cfdfb'), (b'CF-Cache-Status', b'DYNAMIC'), (b'Set-Cookie', b'__cf_bm=vKjWHAnFACZVrNAY8agIROhqlKfMaANG5O3nL6oXLVw-1717009916-1.0.1.1-i7yFPceqitnAKe88CVa12wl1SynzSilKiBg35JpUVn_v0pX0p.r7fBTVxpamShE_RHGRwP63FR2to_vUsBAhbg; path=/; expires=Wed, 29-May-24 19:41:56 GMT; domain=.api.openai.com; HttpOnly; Secure; SameSite=None'), (b'Set-Cookie', b'_cfuvid=sNqYsfQSN.goyG6uyFhTwRE0cmxEYNAYcTVSgPpg6xI-1717009916317-0.0.1.1-604800000; path=/; domain=.api.openai.com; HttpOnly; Secure; SameSite=None'), (b'Server', b'cloudflare'), (b'CF-RAY', b'88b8cb066fcc2361-EWR'), (b'alt-svc', b'h3=\":443\"; ma=86400')])\n",
                        "2024-05-29 15:11:56,312 - HTTP Request: POST https://api.openai.com/v1/chat/completions \"HTTP/1.1 200 OK\"\n",
                        "2024-05-29 15:11:56,313 - HTTP Response: POST https://api.openai.com/v1/chat/completions \"200 OK\" Headers([('date', 'Wed, 29 May 2024 19:11:56 GMT'), ('content-type', 'text/event-stream; charset=utf-8'), ('transfer-encoding', 'chunked'), ('connection', 'keep-alive'), ('openai-organization', 'lastmile-ai'), ('openai-processing-ms', '147'), ('openai-version', '2020-10-01'), ('strict-transport-security', 'max-age=15724800; includeSubDomains'), ('x-ratelimit-limit-requests', '10000'), ('x-ratelimit-limit-tokens', '2000000'), ('x-ratelimit-remaining-requests', '9999'), ('x-ratelimit-remaining-tokens', '1996992'), ('x-ratelimit-reset-requests', '6ms'), ('x-ratelimit-reset-tokens', '90ms'), ('x-request-id', 'req_f26ddc0caeb01b3e1a741dacb40cfdfb'), ('cf-cache-status', 'DYNAMIC'), ('set-cookie', '__cf_bm=vKjWHAnFACZVrNAY8agIROhqlKfMaANG5O3nL6oXLVw-1717009916-1.0.1.1-i7yFPceqitnAKe88CVa12wl1SynzSilKiBg35JpUVn_v0pX0p.r7fBTVxpamShE_RHGRwP63FR2to_vUsBAhbg; path=/; expires=Wed, 29-May-24 19:41:56 GMT; domain=.api.openai.com; HttpOnly; Secure; SameSite=None'), ('set-cookie', '_cfuvid=sNqYsfQSN.goyG6uyFhTwRE0cmxEYNAYcTVSgPpg6xI-1717009916317-0.0.1.1-604800000; path=/; domain=.api.openai.com; HttpOnly; Secure; SameSite=None'), ('server', 'cloudflare'), ('cf-ray', '88b8cb066fcc2361-EWR'), ('alt-svc', 'h3=\":443\"; ma=86400')])\n",
                        "2024-05-29 15:11:56,313 - request_id: req_f26ddc0caeb01b3e1a741dacb40cfdfb\n",
                        "2024-05-29 15:11:56,315 - receive_response_body.started request=<Request [b'POST']>\n"
                    ]
                },
                {
                    "name": "stdout",
                    "output_type": "stream",
                    "text": [
                        "ChatCompletionChunk(id='chatcmpl-9UJ0GDFgCH0BpdFPmXicAKxxCA96T', choices=[Choice(delta=ChoiceDelta(content='', function_call=None, role='assistant', tool_calls=None), finish_reason=None, index=0, logprobs=None)], created=1717009916, model='gpt-3.5-turbo-0125', object='chat.completion.chunk', system_fingerprint=None, usage=None)\n",
                        "ChatCompletionChunk(id='chatcmpl-9UJ0GDFgCH0BpdFPmXicAKxxCA96T', choices=[Choice(delta=ChoiceDelta(content='Why', function_call=None, role=None, tool_calls=None), finish_reason=None, index=0, logprobs=None)], created=1717009916, model='gpt-3.5-turbo-0125', object='chat.completion.chunk', system_fingerprint=None, usage=None)\n",
                        "ChatCompletionChunk(id='chatcmpl-9UJ0GDFgCH0BpdFPmXicAKxxCA96T', choices=[Choice(delta=ChoiceDelta(content=' did', function_call=None, role=None, tool_calls=None), finish_reason=None, index=0, logprobs=None)], created=1717009916, model='gpt-3.5-turbo-0125', object='chat.completion.chunk', system_fingerprint=None, usage=None)\n",
                        "ChatCompletionChunk(id='chatcmpl-9UJ0GDFgCH0BpdFPmXicAKxxCA96T', choices=[Choice(delta=ChoiceDelta(content=' the', function_call=None, role=None, tool_calls=None), finish_reason=None, index=0, logprobs=None)], created=1717009916, model='gpt-3.5-turbo-0125', object='chat.completion.chunk', system_fingerprint=None, usage=None)\n",
                        "ChatCompletionChunk(id='chatcmpl-9UJ0GDFgCH0BpdFPmXicAKxxCA96T', choices=[Choice(delta=ChoiceDelta(content=' apple', function_call=None, role=None, tool_calls=None), finish_reason=None, index=0, logprobs=None)], created=1717009916, model='gpt-3.5-turbo-0125', object='chat.completion.chunk', system_fingerprint=None, usage=None)\n",
                        "ChatCompletionChunk(id='chatcmpl-9UJ0GDFgCH0BpdFPmXicAKxxCA96T', choices=[Choice(delta=ChoiceDelta(content=' go', function_call=None, role=None, tool_calls=None), finish_reason=None, index=0, logprobs=None)], created=1717009916, model='gpt-3.5-turbo-0125', object='chat.completion.chunk', system_fingerprint=None, usage=None)\n",
                        "ChatCompletionChunk(id='chatcmpl-9UJ0GDFgCH0BpdFPmXicAKxxCA96T', choices=[Choice(delta=ChoiceDelta(content=' to', function_call=None, role=None, tool_calls=None), finish_reason=None, index=0, logprobs=None)], created=1717009916, model='gpt-3.5-turbo-0125', object='chat.completion.chunk', system_fingerprint=None, usage=None)\n",
                        "ChatCompletionChunk(id='chatcmpl-9UJ0GDFgCH0BpdFPmXicAKxxCA96T', choices=[Choice(delta=ChoiceDelta(content=' the', function_call=None, role=None, tool_calls=None), finish_reason=None, index=0, logprobs=None)], created=1717009916, model='gpt-3.5-turbo-0125', object='chat.completion.chunk', system_fingerprint=None, usage=None)\n"
                    ]
                },
                {
                    "name": "stderr",
                    "output_type": "stream",
                    "text": [
                        "2024-05-29 15:11:56,689 - receive_response_body.complete\n",
                        "2024-05-29 15:11:56,690 - response_closed.started\n",
                        "2024-05-29 15:11:56,690 - response_closed.complete\n",
                        "2024-05-29 15:11:56,695 - Starting new HTTPS connection (1): lastmileai.dev:443\n",
                        "2024-05-29 15:11:56,845 - https://lastmileai.dev:443 \"POST /api/trace/create HTTP/1.1\" 200 10\n",
                        "2024-05-29 15:11:56,850 - Starting new HTTPS connection (1): lastmileai.dev:443\n"
                    ]
                },
                {
                    "name": "stdout",
                    "output_type": "stream",
                    "text": [
                        "ChatCompletionChunk(id='chatcmpl-9UJ0GDFgCH0BpdFPmXicAKxxCA96T', choices=[Choice(delta=ChoiceDelta(content=' doctor', function_call=None, role=None, tool_calls=None), finish_reason=None, index=0, logprobs=None)], created=1717009916, model='gpt-3.5-turbo-0125', object='chat.completion.chunk', system_fingerprint=None, usage=None)\n",
                        "ChatCompletionChunk(id='chatcmpl-9UJ0GDFgCH0BpdFPmXicAKxxCA96T', choices=[Choice(delta=ChoiceDelta(content='?', function_call=None, role=None, tool_calls=None), finish_reason=None, index=0, logprobs=None)], created=1717009916, model='gpt-3.5-turbo-0125', object='chat.completion.chunk', system_fingerprint=None, usage=None)\n",
                        "ChatCompletionChunk(id='chatcmpl-9UJ0GDFgCH0BpdFPmXicAKxxCA96T', choices=[Choice(delta=ChoiceDelta(content=' Because', function_call=None, role=None, tool_calls=None), finish_reason=None, index=0, logprobs=None)], created=1717009916, model='gpt-3.5-turbo-0125', object='chat.completion.chunk', system_fingerprint=None, usage=None)\n",
                        "ChatCompletionChunk(id='chatcmpl-9UJ0GDFgCH0BpdFPmXicAKxxCA96T', choices=[Choice(delta=ChoiceDelta(content=' it', function_call=None, role=None, tool_calls=None), finish_reason=None, index=0, logprobs=None)], created=1717009916, model='gpt-3.5-turbo-0125', object='chat.completion.chunk', system_fingerprint=None, usage=None)\n",
                        "ChatCompletionChunk(id='chatcmpl-9UJ0GDFgCH0BpdFPmXicAKxxCA96T', choices=[Choice(delta=ChoiceDelta(content=' wasn', function_call=None, role=None, tool_calls=None), finish_reason=None, index=0, logprobs=None)], created=1717009916, model='gpt-3.5-turbo-0125', object='chat.completion.chunk', system_fingerprint=None, usage=None)\n",
                        "ChatCompletionChunk(id='chatcmpl-9UJ0GDFgCH0BpdFPmXicAKxxCA96T', choices=[Choice(delta=ChoiceDelta(content=\"'t\", function_call=None, role=None, tool_calls=None), finish_reason=None, index=0, logprobs=None)], created=1717009916, model='gpt-3.5-turbo-0125', object='chat.completion.chunk', system_fingerprint=None, usage=None)\n",
                        "ChatCompletionChunk(id='chatcmpl-9UJ0GDFgCH0BpdFPmXicAKxxCA96T', choices=[Choice(delta=ChoiceDelta(content=' pe', function_call=None, role=None, tool_calls=None), finish_reason=None, index=0, logprobs=None)], created=1717009916, model='gpt-3.5-turbo-0125', object='chat.completion.chunk', system_fingerprint=None, usage=None)\n",
                        "ChatCompletionChunk(id='chatcmpl-9UJ0GDFgCH0BpdFPmXicAKxxCA96T', choices=[Choice(delta=ChoiceDelta(content='eling', function_call=None, role=None, tool_calls=None), finish_reason=None, index=0, logprobs=None)], created=1717009916, model='gpt-3.5-turbo-0125', object='chat.completion.chunk', system_fingerprint=None, usage=None)\n",
                        "ChatCompletionChunk(id='chatcmpl-9UJ0GDFgCH0BpdFPmXicAKxxCA96T', choices=[Choice(delta=ChoiceDelta(content=' well', function_call=None, role=None, tool_calls=None), finish_reason=None, index=0, logprobs=None)], created=1717009916, model='gpt-3.5-turbo-0125', object='chat.completion.chunk', system_fingerprint=None, usage=None)\n",
                        "ChatCompletionChunk(id='chatcmpl-9UJ0GDFgCH0BpdFPmXicAKxxCA96T', choices=[Choice(delta=ChoiceDelta(content='!', function_call=None, role=None, tool_calls=None), finish_reason=None, index=0, logprobs=None)], created=1717009916, model='gpt-3.5-turbo-0125', object='chat.completion.chunk', system_fingerprint=None, usage=None)\n",
                        "ChatCompletionChunk(id='chatcmpl-9UJ0GDFgCH0BpdFPmXicAKxxCA96T', choices=[Choice(delta=ChoiceDelta(content=None, function_call=None, role=None, tool_calls=None), finish_reason='stop', index=0, logprobs=None)], created=1717009916, model='gpt-3.5-turbo-0125', object='chat.completion.chunk', system_fingerprint=None, usage=None)\n"
                    ]
                },
                {
                    "name": "stderr",
                    "output_type": "stream",
                    "text": [
                        "2024-05-29 15:11:56,942 - https://lastmileai.dev:443 \"POST /api/rag_query_traces/create HTTP/1.1\" 200 475\n",
                        "2024-05-29 15:11:56,944 - Starting new HTTPS connection (1): lastmileai.dev:443\n",
                        "2024-05-29 15:11:57,146 - https://lastmileai.dev:443 \"POST /api/rag_events/create HTTP/1.1\" 200 808\n"
                    ]
                }
            ],
            "source": [
                "# Run your code as usual\n",
                "run_my_existing_openai_app(\"Tell me a joke about apples\")"
            ]
        },
        {
            "cell_type": "markdown",
            "id": "3108b91b",
            "metadata": {},
            "source": [
                "Setting up the OpenAI Wrapper is as easy as the following 5 lines."
            ]
        },
        {
            "cell_type": "code",
            "execution_count": null,
            "id": "1251594d",
            "metadata": {},
            "outputs": [],
            "source": [
                "# OpenAI Setup\n",
                "from tenacity import retry, stop_after_attempt, wait_random_exponential\n",
                "from termcolor import colored\n",
                "import json\n",
                "\n",
                "import openai\n",
                "\n",
                "# GPT_MODEL = \"gpt-4o\"\n",
                "GPT_MODEL = \"gpt-3.5-turbo\""
            ]
        },
        {
            "attachments": {},
            "cell_type": "markdown",
            "id": "69ee6a93",
            "metadata": {},
            "source": [
                "### Utilities\n",
                "\n",
                "First let's define a few utilities for making calls to the Chat Completions API and for maintaining and keeping track of the conversation state."
            ]
        },
        {
            "cell_type": "code",
            "execution_count": null,
            "id": "745ceec5",
            "metadata": {
                "ExecuteTime": {
                    "end_time": "2024-05-15T17:45:28.816345Z",
                    "start_time": "2024-05-15T17:45:28.814155Z"
                }
            },
            "outputs": [],
            "source": [
                "@retry(wait=wait_random_exponential(multiplier=1, max=40), stop=stop_after_attempt(3))\n",
                "def chat_completion_request(messages, tools=None, tool_choice=None, model=GPT_MODEL, stream=True, stream_options=None):\n",
                "    try:\n",
                "        kwargs = {\n",
                "            \"model\": model,\n",
                "            \"messages\": messages,\n",
                "            \"tools\": tools,\n",
                "            \"tool_choice\": tool_choice,\n",
                "            \"stream\": stream,\n",
                "            \"n\": 3,\n",
                "        }\n",
                "        if stream_options is not None:\n",
                "            kwargs[\"stream_options\"] = stream_options\n",
                "        response = client.chat.completions.create(**kwargs)\n",
                "        return response\n",
                "    except Exception as e:\n",
                "        print(\"Unable to generate ChatCompletion response\")\n",
                "        print(f\"Exception: {e}\")\n",
                "        return e\n"
            ]
        },
        {
            "cell_type": "code",
            "execution_count": null,
            "id": "c4d1c99f",
            "metadata": {
                "ExecuteTime": {
                    "end_time": "2024-05-15T17:45:30.003910Z",
                    "start_time": "2024-05-15T17:45:30.001259Z"
                }
            },
            "outputs": [],
            "source": [
                "def pretty_print_conversation(messages):\n",
                "    role_to_color = {\n",
                "        \"system\": \"red\",\n",
                "        \"user\": \"green\",\n",
                "        \"assistant\": \"blue\",\n",
                "        \"function\": \"magenta\",\n",
                "    }\n",
                "    \n",
                "    for message in messages:\n",
                "        if message[\"role\"] == \"system\":\n",
                "            print(colored(f\"system: {message['content']}\\n\", role_to_color[message[\"role\"]]))\n",
                "        elif message[\"role\"] == \"user\":\n",
                "            print(colored(f\"user: {message['content']}\\n\", role_to_color[message[\"role\"]]))\n",
                "        elif message[\"role\"] == \"assistant\" and message.get(\"function_call\"):\n",
                "            print(colored(f\"assistant: {message['function_call']}\\n\", role_to_color[message[\"role\"]]))\n",
                "        elif message[\"role\"] == \"assistant\" and not message.get(\"function_call\"):\n",
                "            print(colored(f\"assistant: {message['content']}\\n\", role_to_color[message[\"role\"]]))\n",
                "        elif message[\"role\"] == \"function\":\n",
                "            print(colored(f\"function ({message['name']}): {message['content']}\\n\", role_to_color[message[\"role\"]]))\n"
            ]
        },
        {
            "attachments": {},
            "cell_type": "markdown",
            "id": "29d4e02b",
            "metadata": {},
            "source": [
                "### Basic concepts\n",
                "\n",
                "Let's create some function specifications to interface with a hypothetical weather API. We'll pass these function specification to the Chat Completions API in order to generate function arguments that adhere to the specification."
            ]
        },
        {
            "cell_type": "code",
            "execution_count": null,
            "id": "d2e25069",
            "metadata": {
                "ExecuteTime": {
                    "end_time": "2024-05-15T17:45:31.794879Z",
                    "start_time": "2024-05-15T17:45:31.792617Z"
                }
            },
            "outputs": [],
            "source": [
                "tools = [\n",
                "    {\n",
                "        \"type\": \"function\",\n",
                "        \"function\": {\n",
                "            \"name\": \"get_current_weather\",\n",
                "            \"description\": \"Get the current weather\",\n",
                "            \"parameters\": {\n",
                "                \"type\": \"object\",\n",
                "                \"properties\": {\n",
                "                    \"location\": {\n",
                "                        \"type\": \"string\",\n",
                "                        \"description\": \"The city and state, e.g. San Francisco, CA\",\n",
                "                    },\n",
                "                    \"format\": {\n",
                "                        \"type\": \"string\",\n",
                "                        \"enum\": [\"celsius\", \"fahrenheit\"],\n",
                "                        \"description\": \"The temperature unit to use. Infer this from the users location.\",\n",
                "                    },\n",
                "                },\n",
                "                \"required\": [\"location\", \"format\"],\n",
                "            },\n",
                "        }\n",
                "    },\n",
                "    {\n",
                "        \"type\": \"function\",\n",
                "        \"function\": {\n",
                "            \"name\": \"get_n_day_weather_forecast\",\n",
                "            \"description\": \"Get an N-day weather forecast\",\n",
                "            \"parameters\": {\n",
                "                \"type\": \"object\",\n",
                "                \"properties\": {\n",
                "                    \"location\": {\n",
                "                        \"type\": \"string\",\n",
                "                        \"description\": \"The city and state, e.g. San Francisco, CA\",\n",
                "                    },\n",
                "                    \"format\": {\n",
                "                        \"type\": \"string\",\n",
                "                        \"enum\": [\"celsius\", \"fahrenheit\"],\n",
                "                        \"description\": \"The temperature unit to use. Infer this from the users location.\",\n",
                "                    },\n",
                "                    \"num_days\": {\n",
                "                        \"type\": \"integer\",\n",
                "                        \"description\": \"The number of days to forecast\",\n",
                "                    }\n",
                "                },\n",
                "                \"required\": [\"location\", \"format\", \"num_days\"]\n",
                "            },\n",
                "        }\n",
                "    },\n",
                "]"
            ]
        },
        {
            "attachments": {},
            "cell_type": "markdown",
            "id": "bfc39899",
            "metadata": {},
            "source": [
                "If we prompt the model about the current weather, it will respond with some clarifying questions."
            ]
        },
        {
            "cell_type": "code",
            "execution_count": null,
            "id": "518d6827",
            "metadata": {
                "ExecuteTime": {
                    "end_time": "2024-05-15T17:45:35.282310Z",
                    "start_time": "2024-05-15T17:45:33.861496Z"
                }
            },
            "outputs": [],
            "source": [
                "from tracing_auto_instrumentation.openai.openai import postprocess_streaming_results\n",
                "import json\n",
                "\n",
                "messages = []\n",
                "messages.append({\"role\": \"system\", \"content\": \"Don't make assumptions about what values to plug into functions. Ask for clarification if a user request is ambiguous.\"})\n",
                "messages.append({\"role\": \"user\", \"content\": \"What's the weather like today\"})\n",
                "stream = False\n",
                "kwargs = {\n",
                "    \"messages\": messages,\n",
                "    \"tools\": tools,\n",
                "    \"stream\": stream,\n",
                "}\n",
                "if stream:\n",
                "    kwargs[\"stream_options\"] = {\"include_usage\": True}\n",
                "chat_response = chat_completion_request(\n",
                "    **kwargs\n",
                ")\n",
                "print(\"about to process this bullshit\")\n",
                "if stream:\n",
                "    all_response_chunks = []\n",
                "    for chunk in chat_response:\n",
                "        print(chunk.choices)\n",
                "        all_response_chunks.append(chunk)\n",
                "    print(f\"{all_response_chunks=}\")\n",
                "    with open(\"wrapper_chunks_with_usage.json\", \"w\") as f:\n",
                "        dict_chunks = list(map(lambda x: x.model_dump(), all_response_chunks))\n",
                "        f.write(json.dumps(dict_chunks, indent=2))\n",
                "    # response = postprocess_streaming_results(all_response_chunks)\n",
                "    # assistant_message = response[\"message\"]\n",
                "    # messages.append(assistant_message)\n",
                "else:\n",
                "    assistant_message = chat_response.choices[0].message\n",
                "    messages.append(assistant_message)\n",
                "    assistant_message\n"
            ]
        },
        {
            "cell_type": "code",
            "execution_count": null,
            "id": "fd588164",
            "metadata": {},
            "outputs": [],
            "source": [
                "g = (n for n in range(3, 5))\n",
                "for i in g:\n",
                "    print(i)\n",
                "print(g)"
            ]
        },
        {
            "cell_type": "code",
            "execution_count": null,
            "id": "adac8dd4",
            "metadata": {},
            "outputs": [],
            "source": [
                "\n",
                "\n",
                "print(chat_response)\n",
                "for i in chat_response:\n",
                "    print(i)\n",
                "    print(\"got here\")\n",
                "print(\"done\")"
            ]
        },
        {
            "attachments": {},
            "cell_type": "markdown",
            "id": "4c999375",
            "metadata": {},
            "source": [
                "Once we provide the missing information, it will generate the appropriate function arguments for us."
            ]
        },
        {
            "cell_type": "code",
            "execution_count": null,
            "id": "23c42a6e",
            "metadata": {
                "ExecuteTime": {
                    "end_time": "2024-05-15T17:45:43.553403Z",
                    "start_time": "2024-05-15T17:45:42.205590Z"
                }
            },
            "outputs": [],
            "source": [
                "# messages.append({\"role\": \"user\", \"content\": \"I'm in Glasgow, Scotland.\"})\n",
                "stream = False\n",
                "kwargs = {\n",
                "    \"messages\": messages,\n",
                "    \"tools\": tools,\n",
                "    \"stream\": stream,\n",
                "}\n",
                "if stream:\n",
                "    kwargs[\"stream_options\"] = {\"include_usage\": True}\n",
                "chat_response = chat_completion_request(\n",
                "    **kwargs\n",
                ")\n",
                "if stream:\n",
                "    all_response_chunks = []\n",
                "    for chunk in chat_response:\n",
                "        print(chunk)\n",
                "        all_response_chunks.append(chunk)\n",
                "print(chat_response)\n",
                "# assistant_message = chat_response.choices[0].message\n",
                "# messages.append(assistant_message)\n",
                "# assistant_message\n"
            ]
        },
        {
            "attachments": {},
            "cell_type": "markdown",
            "id": "c14d4762",
            "metadata": {},
            "source": [
                "By prompting it differently, we can get it to target the other function we've told it about."
            ]
        },
        {
            "cell_type": "code",
            "execution_count": null,
            "id": "fa232e54",
            "metadata": {
                "ExecuteTime": {
                    "end_time": "2024-05-15T17:45:47.090638Z",
                    "start_time": "2024-05-15T17:45:46.302475Z"
                }
            },
            "outputs": [],
            "source": [
                "messages = []\n",
                "messages.append({\"role\": \"system\", \"content\": \"Don't make assumptions about what values to plug into functions. Ask for clarification if a user request is ambiguous.\"})\n",
                "messages.append({\"role\": \"user\", \"content\": \"what is the weather going to be like in Glasgow, Scotland over the next x days\"})\n",
                "chat_response = chat_completion_request(\n",
                "    messages, tools=tools\n",
                ")\n",
                "assistant_message = chat_response.choices[0].message\n",
                "messages.append(assistant_message)\n",
                "assistant_message\n"
            ]
        },
        {
            "attachments": {},
            "cell_type": "markdown",
            "id": "6172ddac",
            "metadata": {},
            "source": [
                "Once again, the model is asking us for clarification because it doesn't have enough information yet. In this case it already knows the location for the forecast, but it needs to know how many days are required in the forecast."
            ]
        },
        {
            "cell_type": "code",
            "execution_count": null,
            "id": "c7d8a543",
            "metadata": {
                "ExecuteTime": {
                    "end_time": "2024-05-15T17:45:49.790820Z",
                    "start_time": "2024-05-15T17:45:48.847752Z"
                }
            },
            "outputs": [],
            "source": [
                "messages.append({\"role\": \"user\", \"content\": \"5 days\"})\n",
                "chat_response = chat_completion_request(\n",
                "    messages, tools=tools\n",
                ")\n",
                "chat_response.choices[0]\n"
            ]
        },
        {
            "attachments": {},
            "cell_type": "markdown",
            "id": "4b758a0a",
            "metadata": {},
            "source": [
                "#### Forcing the use of specific functions or no function"
            ]
        },
        {
            "attachments": {},
            "cell_type": "markdown",
            "id": "412f79ba",
            "metadata": {},
            "source": [
                "We can force the model to use a specific function, for example get_n_day_weather_forecast by using the function_call argument. By doing so, we force the model to make assumptions about how to use it."
            ]
        },
        {
            "cell_type": "code",
            "execution_count": null,
            "id": "559371b7",
            "metadata": {
                "ExecuteTime": {
                    "end_time": "2024-05-15T17:45:54.194255Z",
                    "start_time": "2024-05-15T17:45:52.975746Z"
                }
            },
            "outputs": [],
            "source": [
                "# in this cell we force the model to use get_n_day_weather_forecast\n",
                "messages = []\n",
                "messages.append({\"role\": \"system\", \"content\": \"Don't make assumptions about what values to plug into functions. Ask for clarification if a user request is ambiguous.\"})\n",
                "messages.append({\"role\": \"user\", \"content\": \"Give me a weather report for Toronto, Canada.\"})\n",
                "chat_response = chat_completion_request(\n",
                "    messages, tools=tools, tool_choice={\"type\": \"function\", \"function\": {\"name\": \"get_n_day_weather_forecast\"}}\n",
                ")\n",
                "chat_response.choices[0].message"
            ]
        },
        {
            "cell_type": "code",
            "execution_count": null,
            "id": "a7ab0f58",
            "metadata": {
                "ExecuteTime": {
                    "end_time": "2024-05-15T17:45:56.841233Z",
                    "start_time": "2024-05-15T17:45:55.433397Z"
                }
            },
            "outputs": [],
            "source": [
                "# if we don't force the model to use get_n_day_weather_forecast it may not\n",
                "messages = []\n",
                "messages.append({\"role\": \"system\", \"content\": \"Don't make assumptions about what values to plug into functions. Ask for clarification if a user request is ambiguous.\"})\n",
                "messages.append({\"role\": \"user\", \"content\": \"Give me a weather report for Toronto, Canada.\"})\n",
                "chat_response = chat_completion_request(\n",
                "    messages, tools=tools\n",
                ")\n",
                "chat_response.choices[0].message"
            ]
        },
        {
            "attachments": {},
            "cell_type": "markdown",
            "id": "3bd70e48",
            "metadata": {},
            "source": [
                "We can also force the model to not use a function at all. By doing so we prevent it from producing a proper function call."
            ]
        },
        {
            "cell_type": "code",
            "execution_count": null,
            "id": "acfe54e6",
            "metadata": {
                "ExecuteTime": {
                    "end_time": "2024-05-15T17:45:59.800346Z",
                    "start_time": "2024-05-15T17:45:59.289603Z"
                }
            },
            "outputs": [],
            "source": [
                "messages = []\n",
                "messages.append({\"role\": \"system\", \"content\": \"Don't make assumptions about what values to plug into functions. Ask for clarification if a user request is ambiguous.\"})\n",
                "messages.append({\"role\": \"user\", \"content\": \"Give me the current weather (use Celcius) for Toronto, Canada.\"})\n",
                "chat_response = chat_completion_request(\n",
                "    messages, tools=tools, tool_choice=\"none\"\n",
                ")\n",
                "chat_response.choices[0].message\n"
            ]
        },
        {
            "cell_type": "markdown",
            "id": "b616353b",
            "metadata": {},
            "source": [
                "### Parallel Function Calling\n",
                "\n",
                "Newer models such as gpt-4o or gpt-3.5-turbo can call multiple functions in one turn."
            ]
        },
        {
            "cell_type": "code",
            "execution_count": null,
            "id": "380eeb68",
            "metadata": {
                "ExecuteTime": {
                    "end_time": "2024-05-15T17:46:04.048553Z",
                    "start_time": "2024-05-15T17:46:01.273501Z"
                }
            },
            "outputs": [],
            "source": [
                "messages = []\n",
                "messages.append({\"role\": \"system\", \"content\": \"Don't make assumptions about what values to plug into functions. Ask for clarification if a user request is ambiguous.\"})\n",
                "messages.append({\"role\": \"user\", \"content\": \"what is the weather going to be like in San Francisco and Glasgow over the next 4 days\"})\n",
                "chat_response = chat_completion_request(\n",
                "    messages, tools=tools, model=GPT_MODEL\n",
                ")\n",
                "\n",
                "assistant_message = chat_response.choices[0].message.tool_calls\n",
                "assistant_message"
            ]
        },
        {
            "attachments": {},
            "cell_type": "markdown",
            "id": "b4482aee",
            "metadata": {},
            "source": [
                "## How to call functions with model generated arguments\n",
                "\n",
                "In our next example, we'll demonstrate how to execute functions whose inputs are model-generated, and use this to implement an agent that can answer questions for us about a database. For simplicity we'll use the [Chinook sample database](https://www.sqlitetutorial.net/sqlite-sample-database/).\n",
                "\n",
                "*Note:* SQL generation can be high-risk in a production environment since models are not perfectly reliable at generating correct SQL."
            ]
        },
        {
            "attachments": {},
            "cell_type": "markdown",
            "id": "f7654fef",
            "metadata": {},
            "source": [
                "### Specifying a function to execute SQL queries\n",
                "\n",
                "First let's define some helpful utility functions to extract data from a SQLite database."
            ]
        },
        {
            "cell_type": "code",
            "execution_count": null,
            "id": "3230b819",
            "metadata": {},
            "outputs": [],
            "source": [
                "!mkdir data"
            ]
        },
        {
            "cell_type": "code",
            "execution_count": null,
            "id": "30f6b60e",
            "metadata": {
                "ExecuteTime": {
                    "end_time": "2024-05-15T17:46:07.270851Z",
                    "start_time": "2024-05-15T17:46:07.265545Z"
                }
            },
            "outputs": [],
            "source": [
                "import sqlite3\n",
                "\n",
                "conn = sqlite3.connect(\"data/Chinook.db\")\n",
                "print(\"Opened database successfully\")"
            ]
        },
        {
            "cell_type": "code",
            "execution_count": null,
            "id": "abec0214",
            "metadata": {
                "ExecuteTime": {
                    "end_time": "2024-05-15T17:46:09.345308Z",
                    "start_time": "2024-05-15T17:46:09.342998Z"
                }
            },
            "outputs": [],
            "source": [
                "def get_table_names(conn):\n",
                "    \"\"\"Return a list of table names.\"\"\"\n",
                "    table_names = []\n",
                "    tables = conn.execute(\"SELECT name FROM sqlite_master WHERE type='table';\")\n",
                "    for table in tables.fetchall():\n",
                "        table_names.append(table[0])\n",
                "    return table_names\n",
                "\n",
                "\n",
                "def get_column_names(conn, table_name):\n",
                "    \"\"\"Return a list of column names.\"\"\"\n",
                "    column_names = []\n",
                "    columns = conn.execute(f\"PRAGMA table_info('{table_name}');\").fetchall()\n",
                "    for col in columns:\n",
                "        column_names.append(col[1])\n",
                "    return column_names\n",
                "\n",
                "\n",
                "def get_database_info(conn):\n",
                "    \"\"\"Return a list of dicts containing the table name and columns for each table in the database.\"\"\"\n",
                "    table_dicts = []\n",
                "    for table_name in get_table_names(conn):\n",
                "        columns_names = get_column_names(conn, table_name)\n",
                "        table_dicts.append({\"table_name\": table_name, \"column_names\": columns_names})\n",
                "    return table_dicts\n"
            ]
        },
        {
            "attachments": {},
            "cell_type": "markdown",
            "id": "77e6e5ea",
            "metadata": {},
            "source": [
                "Now can use these utility functions to extract a representation of the database schema."
            ]
        },
        {
            "cell_type": "code",
            "execution_count": null,
            "id": "0c0104cd",
            "metadata": {
                "ExecuteTime": {
                    "end_time": "2024-05-15T17:46:11.303746Z",
                    "start_time": "2024-05-15T17:46:11.301210Z"
                }
            },
            "outputs": [],
            "source": [
                "database_schema_dict = get_database_info(conn)\n",
                "database_schema_string = \"\\n\".join(\n",
                "    [\n",
                "        f\"Table: {table['table_name']}\\nColumns: {', '.join(table['column_names'])}\"\n",
                "        for table in database_schema_dict\n",
                "    ]\n",
                ")"
            ]
        },
        {
            "attachments": {},
            "cell_type": "markdown",
            "id": "ae73c9ee",
            "metadata": {},
            "source": [
                "As before, we'll define a function specification for the function we'd like the API to generate arguments for. Notice that we are inserting the database schema into the function specification. This will be important for the model to know about."
            ]
        },
        {
            "cell_type": "code",
            "execution_count": null,
            "id": "0258813a",
            "metadata": {
                "ExecuteTime": {
                    "end_time": "2024-05-15T17:46:16.569530Z",
                    "start_time": "2024-05-15T17:46:16.567801Z"
                }
            },
            "outputs": [],
            "source": [
                "tools = [\n",
                "    {\n",
                "        \"type\": \"function\",\n",
                "        \"function\": {\n",
                "            \"name\": \"ask_database\",\n",
                "            \"description\": \"Use this function to answer user questions about music. Input should be a fully formed SQL query.\",\n",
                "            \"parameters\": {\n",
                "                \"type\": \"object\",\n",
                "                \"properties\": {\n",
                "                    \"query\": {\n",
                "                        \"type\": \"string\",\n",
                "                        \"description\": f\"\"\"\n",
                "                                SQL query extracting info to answer the user's question.\n",
                "                                SQL should be written using this database schema:\n",
                "                                {database_schema_string}\n",
                "                                The query should be returned in plain text, not in JSON.\n",
                "                                \"\"\",\n",
                "                    }\n",
                "                },\n",
                "                \"required\": [\"query\"],\n",
                "            },\n",
                "        }\n",
                "    }\n",
                "]"
            ]
        },
        {
            "attachments": {},
            "cell_type": "markdown",
            "id": "da08c121",
            "metadata": {},
            "source": [
                "### Executing SQL queries\n",
                "\n",
                "Now let's implement the function that will actually excute queries against the database."
            ]
        },
        {
            "cell_type": "code",
            "execution_count": null,
            "id": "65585e74",
            "metadata": {
                "ExecuteTime": {
                    "end_time": "2024-05-15T17:46:19.198723Z",
                    "start_time": "2024-05-15T17:46:19.197043Z"
                }
            },
            "outputs": [],
            "source": [
                "def ask_database(conn, query):\n",
                "    \"\"\"Function to query SQLite database with a provided SQL query.\"\"\"\n",
                "    try:\n",
                "        results = str(conn.execute(query).fetchall())\n",
                "    except Exception as e:\n",
                "        results = f\"query failed with error: {e}\"\n",
                "    return results"
            ]
        },
        {
            "cell_type": "markdown",
            "id": "8f6885e9f0af5c40",
            "metadata": {},
            "source": [
                "##### Steps to invoke a function call using Chat Completions API: \n",
                "\n",
                "**Step 1**: Prompt the model with content that may result in model selecting a tool to use. The description of the tools such as a function names and signature is defined in the 'Tools' list and passed to the model in API call. If selected, the function name and parameters are included in the response.<br>\n",
                "  \n",
                "**Step 2**: Check programmatically if model wanted to call a function. If true, proceed to step 3. <br>  \n",
                "**Step 3**: Extract the function name and parameters from response, call the function with parameters. Append the result to messages. <br>    \n",
                "**Step 4**: Invoke the chat completions API with the message list to get the response. "
            ]
        },
        {
            "cell_type": "code",
            "execution_count": null,
            "id": "e8b7cb9cdc7a7616",
            "metadata": {
                "ExecuteTime": {
                    "end_time": "2024-05-15T17:46:25.725379Z",
                    "start_time": "2024-05-15T17:46:24.255505Z"
                }
            },
            "outputs": [],
            "source": [
                "# Step #1: Prompt with content that may result in function call. In this case the model can identify the information requested by the user is potentially available in the database schema passed to the model in Tools description. \n",
                "messages = [{\n",
                "    \"role\":\"user\", \n",
                "    \"content\": \"What is the name of the album with the most tracks?\"\n",
                "}]\n",
                "\n",
                "response = client.chat.completions.create(\n",
                "    model='gpt-4o', \n",
                "    messages=messages, \n",
                "    tools= tools, \n",
                "    tool_choice=\"auto\"\n",
                ")\n",
                "\n",
                "# Append the message to messages list\n",
                "response_message = response.choices[0].message \n",
                "messages.append(response_message)\n",
                "\n",
                "print(response_message)"
            ]
        },
        {
            "cell_type": "code",
            "execution_count": null,
            "id": "351c39def3417776",
            "metadata": {
                "ExecuteTime": {
                    "end_time": "2024-05-15T17:46:30.346444Z",
                    "start_time": "2024-05-15T17:46:29.699046Z"
                }
            },
            "outputs": [],
            "source": [
                "# Step 2: determine if the response from the model includes a tool call.   \n",
                "tool_calls = response_message.tool_calls\n",
                "if tool_calls:\n",
                "    # If true the model will return the name of the tool / function to call and the argument(s)  \n",
                "    tool_call_id = tool_calls[0].id\n",
                "    tool_function_name = tool_calls[0].function.name\n",
                "    tool_query_string = eval(tool_calls[0].function.arguments)['query']\n",
                "    \n",
                "    # Step 3: Call the function and retrieve results. Append the results to the messages list.      \n",
                "    if tool_function_name == 'ask_database':\n",
                "        results = ask_database(conn, tool_query_string)\n",
                "        \n",
                "        messages.append({\n",
                "            \"role\":\"tool\", \n",
                "            \"tool_call_id\":tool_call_id, \n",
                "            \"name\": tool_function_name, \n",
                "            \"content\":results\n",
                "        })\n",
                "        \n",
                "        # Step 4: Invoke the chat completions API with the function response appended to the messages list\n",
                "        # Note that messages with role 'tool' must be a response to a preceding message with 'tool_calls'\n",
                "        model_response_with_function_call = client.chat.completions.create(\n",
                "            model=\"gpt-4o\",\n",
                "            messages=messages,\n",
                "        )  # get a new response from the model where it can see the function response\n",
                "        print(model_response_with_function_call.choices[0].message.content)\n",
                "    else: \n",
                "        print(f\"Error: function {tool_function_name} does not exist\")\n",
                "else: \n",
                "    # Model did not identify a function to call, result can be returned to the user \n",
                "    print(response_message.content) "
            ]
        },
        {
            "attachments": {},
            "cell_type": "markdown",
            "id": "2d89073c",
            "metadata": {},
            "source": [
                "## Next Steps\n",
                "\n",
                "See our other [notebook](How_to_call_functions_for_knowledge_retrieval.ipynb) that demonstrates how to use the Chat Completions API and functions for knowledge retrieval to interact conversationally with a knowledge base."
            ]
        }
    ],
    "metadata": {
        "kernelspec": {
            "display_name": "Python 3 (ipykernel)",
            "language": "python",
            "name": "python3"
        },
        "language_info": {
            "codemirror_mode": {
                "name": "ipython",
                "version": 3
            },
            "file_extension": ".py",
            "mimetype": "text/x-python",
            "name": "python",
            "nbconvert_exporter": "python",
            "pygments_lexer": "ipython3",
            "version": "3.12.3"
        }
    },
    "nbformat": 4,
    "nbformat_minor": 5
}
