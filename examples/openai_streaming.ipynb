{
    "cells": [
        {
            "attachments": {},
            "cell_type": "markdown",
            "id": "3e67f200",
            "metadata": {},
            "source": [
                "# OpenAI Streaming - Traced With LastMile\n",
                "\n",
                "Four use cases:\n",
                "\n",
                "1. Text - Non-streaming\n",
                "2. [this one] Text - Streaming\n",
                "3. Tool Calls - Non-streaming\n",
                "4. Tool Calls - Streaming"
            ]
        },
        {
            "cell_type": "code",
            "execution_count": 1,
            "id": "80e71f33",
            "metadata": {
                "pycharm": {
                    "is_executing": true
                }
            },
            "outputs": [],
            "source": [
                "# !pip install scipy --quiet\n",
                "# !pip install tenacity --quiet\n",
                "# !pip install tiktoken --quiet\n",
                "# !pip install termcolor --quiet\n",
                "# !pip install openai --quiet\n",
                "# !pip install \"tracing-auto-instrumentation[openai]\"\n",
                "\n",
                "# Create ~/.env file with this line: OPENAI_API_KEY=<your key here>\n",
                "# You can get your key from https://platform.openai.com/api-keys \n",
                "import openai\n",
                "import dotenv\n",
                "import os\n",
                "dotenv.load_dotenv()\n",
                "OPENAI_API_KEY = os.getenv(\"OPENAI_API_KEY\")"
            ]
        },
        {
            "cell_type": "code",
            "execution_count": 3,
            "id": "4abf2967",
            "metadata": {},
            "outputs": [
                {
                    "name": "stderr",
                    "output_type": "stream",
                    "text": [
                        "2024-05-30 18:02:08,355 - Starting new HTTPS connection (1): lastmileai.dev:443\n",
                        "2024-05-30 18:02:08,516 - https://lastmileai.dev:443 \"GET /api/evaluation_projects/list?name=OpenAI+Text+Calling+w.+Streaming HTTP/1.1\" 200 367\n",
                        "2024-05-30 18:02:08,518 - load_ssl_context verify=True cert=None trust_env=True http2=False\n",
                        "2024-05-30 18:02:08,519 - load_verify_locations cafile='/opt/homebrew/Caskroom/miniconda/base/envs/eval/lib/python3.12/site-packages/certifi/cacert.pem'\n"
                    ]
                }
            ],
            "source": [
                "import openai\n",
                "\n",
                "from lastmile_eval.rag.debugger.api.tracing import LastMileTracer\n",
                "\n",
                "from tracing_auto_instrumentation.openai import wrap_openai\n",
                "from lastmile_eval.rag.debugger.tracing.sdk import get_lastmile_tracer\n",
                "\n",
                "tracer: LastMileTracer = get_lastmile_tracer(\n",
                "    tracer_name=\"OpenAI Text Calling w. Streaming\",\n",
                ")\n",
                "client = openai.OpenAI(api_key=OPENAI_API_KEY)\n",
                "# client = openai.AsyncOpenAI(api_key=OPENAI_API_KEY)\n",
                "client = wrap_openai(client, tracer)"
            ]
        },
        {
            "cell_type": "code",
            "execution_count": null,
            "id": "4276d4b0",
            "metadata": {},
            "outputs": [],
            "source": [
                "def run_my_existing_openai_app(user_message: str, stream: bool = True):\n",
                "    completion_params = {\n",
                "        \"model\": \"gpt-3.5-turbo\",\n",
                "        \"top_p\": 1,\n",
                "        \"max_tokens\": 3000,\n",
                "        \"temperature\": 1,\n",
                "        \"stream\": stream,\n",
                "        \"messages\": [\n",
                "            {\n",
                "                \"content\": user_message,\n",
                "                \"role\": \"user\",\n",
                "            }\n",
                "        ],\n",
                "    }\n",
                "\n",
                "    response = client.chat.completions.create(**completion_params)\n",
                "    print(\"Chat Completion Response: \")\n",
                "    if stream:\n",
                "        for chunk in response:\n",
                "            print(f\"{chunk=}\")\n",
                "    else:\n",
                "        print(f\"{response=}\")\n",
                "    return response"
            ]
        },
        {
            "cell_type": "code",
            "execution_count": null,
            "id": "9aa6f3f6",
            "metadata": {},
            "outputs": [],
            "source": [
                "# # Run your code as usual\n",
                "# stream = True\n",
                "# response = run_my_existing_openai_app(\"Tell me a joke about apples\", stream=stream)\n",
                "# print(\"God damn it: \", response)"
            ]
        },
        {
            "cell_type": "code",
            "execution_count": null,
            "id": "d2045d18",
            "metadata": {},
            "outputs": [],
            "source": [
                "async def run_my_existing_openai_app_async(user_message: str, stream: bool = True):\n",
                "    completion_params = {\n",
                "        \"model\": \"gpt-3.5-turbo\",\n",
                "        \"top_p\": 1,\n",
                "        \"max_tokens\": 3000,\n",
                "        \"temperature\": 1,\n",
                "        \"stream\": stream,\n",
                "        \"messages\": [\n",
                "            {\n",
                "                \"content\": user_message,\n",
                "                \"role\": \"user\",\n",
                "            }\n",
                "        ],\n",
                "    }\n",
                "\n",
                "    response = await client.ChatCompletion.acreate(**completion_params)\n",
                "    print(\"Chat Completion Response: \")\n",
                "    if stream:\n",
                "        for chunk in response:\n",
                "            print(f\"{chunk=}\")\n",
                "    else:\n",
                "        print(f\"{response=}\")\n",
                "    return response"
            ]
        },
        {
            "cell_type": "code",
            "execution_count": null,
            "id": "f9113e1f",
            "metadata": {},
            "outputs": [
                {
                    "ename": "AttributeError",
                    "evalue": "'OpenAI' object has no attribute 'ChatCompletion'",
                    "output_type": "error",
                    "traceback": [
                        "\u001b[0;31m---------------------------------------------------------------------------\u001b[0m",
                        "\u001b[0;31mAttributeError\u001b[0m                            Traceback (most recent call last)",
                        "Cell \u001b[0;32mIn[9], line 2\u001b[0m\n\u001b[1;32m      1\u001b[0m stream \u001b[38;5;241m=\u001b[39m \u001b[38;5;28;01mFalse\u001b[39;00m\n\u001b[0;32m----> 2\u001b[0m response \u001b[38;5;241m=\u001b[39m \u001b[38;5;28;01mawait\u001b[39;00m run_my_existing_openai_app_async(\u001b[38;5;124m\"\u001b[39m\u001b[38;5;124mTell me a joke about apples\u001b[39m\u001b[38;5;124m\"\u001b[39m, stream\u001b[38;5;241m=\u001b[39mstream)\n\u001b[1;32m      3\u001b[0m \u001b[38;5;28mprint\u001b[39m(\u001b[38;5;124m\"\u001b[39m\u001b[38;5;124mGod damn it: \u001b[39m\u001b[38;5;124m\"\u001b[39m, response)\n",
                        "Cell \u001b[0;32mIn[7], line 16\u001b[0m, in \u001b[0;36mrun_my_existing_openai_app_async\u001b[0;34m(user_message, stream)\u001b[0m\n\u001b[1;32m      1\u001b[0m \u001b[38;5;28;01masync\u001b[39;00m \u001b[38;5;28;01mdef\u001b[39;00m \u001b[38;5;21mrun_my_existing_openai_app_async\u001b[39m(user_message: \u001b[38;5;28mstr\u001b[39m, stream: \u001b[38;5;28mbool\u001b[39m \u001b[38;5;241m=\u001b[39m \u001b[38;5;28;01mTrue\u001b[39;00m):\n\u001b[1;32m      2\u001b[0m     completion_params \u001b[38;5;241m=\u001b[39m {\n\u001b[1;32m      3\u001b[0m         \u001b[38;5;124m\"\u001b[39m\u001b[38;5;124mmodel\u001b[39m\u001b[38;5;124m\"\u001b[39m: \u001b[38;5;124m\"\u001b[39m\u001b[38;5;124mgpt-3.5-turbo\u001b[39m\u001b[38;5;124m\"\u001b[39m,\n\u001b[1;32m      4\u001b[0m         \u001b[38;5;124m\"\u001b[39m\u001b[38;5;124mtop_p\u001b[39m\u001b[38;5;124m\"\u001b[39m: \u001b[38;5;241m1\u001b[39m,\n\u001b[0;32m   (...)\u001b[0m\n\u001b[1;32m     13\u001b[0m         ],\n\u001b[1;32m     14\u001b[0m     }\n\u001b[0;32m---> 16\u001b[0m     response \u001b[38;5;241m=\u001b[39m \u001b[38;5;28;01mawait\u001b[39;00m \u001b[43mclient\u001b[49m\u001b[38;5;241;43m.\u001b[39;49m\u001b[43mChatCompletion\u001b[49m\u001b[38;5;241m.\u001b[39macreate(\u001b[38;5;241m*\u001b[39m\u001b[38;5;241m*\u001b[39mcompletion_params)\n\u001b[1;32m     17\u001b[0m     \u001b[38;5;28mprint\u001b[39m(\u001b[38;5;124m\"\u001b[39m\u001b[38;5;124mChat Completion Response: \u001b[39m\u001b[38;5;124m\"\u001b[39m)\n\u001b[1;32m     18\u001b[0m     \u001b[38;5;28;01mif\u001b[39;00m stream:\n",
                        "File \u001b[0;32m~/Projects/tracing_auto_instrumentation/src/tracing_auto_instrumentation/wrap_utils.py:13\u001b[0m, in \u001b[0;36mNamedWrapper.__getattr__\u001b[0;34m(self, name)\u001b[0m\n\u001b[1;32m     12\u001b[0m \u001b[38;5;28;01mdef\u001b[39;00m \u001b[38;5;21m__getattr__\u001b[39m(\u001b[38;5;28mself\u001b[39m, name: \u001b[38;5;28mstr\u001b[39m):\n\u001b[0;32m---> 13\u001b[0m     \u001b[38;5;28;01mreturn\u001b[39;00m \u001b[38;5;28;43mgetattr\u001b[39;49m\u001b[43m(\u001b[49m\u001b[38;5;28;43mself\u001b[39;49m\u001b[38;5;241;43m.\u001b[39;49m\u001b[43m__wrapped\u001b[49m\u001b[43m,\u001b[49m\u001b[43m \u001b[49m\u001b[43mname\u001b[49m\u001b[43m)\u001b[49m\n",
                        "\u001b[0;31mAttributeError\u001b[0m: 'OpenAI' object has no attribute 'ChatCompletion'"
                    ]
                }
            ],
            "source": [
                "stream = False\n",
                "response = await run_my_existing_openai_app_async(\"Tell me a joke about apples\", stream=stream)\n",
                "print(\"God damn it: \", response)"
            ]
        }
    ],
    "metadata": {
        "kernelspec": {
            "display_name": "Python 3 (ipykernel)",
            "language": "python",
            "name": "python3"
        },
        "language_info": {
            "codemirror_mode": {
                "name": "ipython",
                "version": 3
            },
            "file_extension": ".py",
            "mimetype": "text/x-python",
            "name": "python",
            "nbconvert_exporter": "python",
            "pygments_lexer": "ipython3",
            "version": "3.12.3"
        }
    },
    "nbformat": 4,
    "nbformat_minor": 5
}
