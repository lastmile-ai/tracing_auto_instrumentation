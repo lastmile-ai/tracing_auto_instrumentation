{
    "cells": [
        {
            "attachments": {},
            "cell_type": "markdown",
            "id": "3e67f200",
            "metadata": {},
            "source": [
                "# How to call functions with chat models - Traced With LastMile\n",
                "\n",
                "\n",
                "This Notebook demonstrates how to use the LastMile OpenAI wrapper, a powerful tool that captures, logs, and traces your interactions with the OpenAI API, making it easier to debug and analyze your code.\n",
                "It also covers how to use the Chat Completions API in combination with external functions to extend the capabilities of GPT models.\n",
                "\n",
                "The LastMile OpenAI wrapper is designed to seamlessly integrate with your existing OpenAI code, allowing you to trace and monitor API calls without requiring significant changes to your implementation. By using this wrapper, you can gain valuable insights into how your application interacts with the OpenAI API, helping you identify potential issues and optimize your code.\n",
                "\n",
                "`tools` is an optional parameter in the Chat Completion API which can be used to provide function specifications. The purpose of this is to enable models to generate function arguments which adhere to the provided specifications. Note that the API will not actually execute any function calls. It is up to developers to execute function calls using model outputs.\n",
                "\n",
                "Within the `tools` parameter, if the `functions` parameter is provided then by default the model will decide when it is appropriate to use one of the functions. The API can be forced to use a specific function by setting the `tool_choice` parameter to `{\"type\": \"function\", \"function\": {\"name\": \"my_function\"}}`. The API can also be forced to not use any function by setting the `tool_choice` parameter to `\"none\"`. If a function is used, the output will contain `\"finish_reason\": \"tool_calls\"` in the response, as well as a `tool_calls` object that has the name of the function and the generated function arguments.\n",
                "\n",
                "### Overview\n",
                "\n",
                "This notebook contains the following 2 sections:\n",
                "\n",
                "- **How to generate function arguments:** Specify a set of functions and use the API to generate function arguments.\n",
                "- **How to call functions with model generated arguments:** Close the loop by actually executing functions with model generated arguments."
            ]
        },
        {
            "attachments": {},
            "cell_type": "markdown",
            "id": "64c85e26",
            "metadata": {},
            "source": [
                "## How to generate function arguments"
            ]
        },
        {
            "cell_type": "code",
            "execution_count": 1,
            "id": "80e71f33",
            "metadata": {
                "pycharm": {
                    "is_executing": true
                }
            },
            "outputs": [
                {
                    "name": "stdout",
                    "output_type": "stream",
                    "text": [
                        "tracing_auto_instrumentation             0.0.4     /Users/rossdancraig/Projects/tracing_auto_instrumentation\n"
                    ]
                }
            ],
            "source": [
                "# !pip install scipy --quiet\n",
                "# !pip install tenacity --quiet\n",
                "# !pip install tiktoken --quiet\n",
                "# !pip install termcolor --quiet\n",
                "# !pip install openai --quiet\n",
                "# !pip install \"tracing-auto-instrumentation[openai]\"\n",
                "!pip list | grep tracing_auto_instrumentation"
            ]
        },
        {
            "cell_type": "markdown",
            "id": "3108b91b",
            "metadata": {},
            "source": [
                "Setting up the OpenAI Wrapper is as easy as the following 5 lines."
            ]
        },
        {
            "cell_type": "code",
            "execution_count": 2,
            "id": "dab872c5",
            "metadata": {
                "ExecuteTime": {
                    "end_time": "2024-05-15T17:45:23.563149Z",
                    "start_time": "2024-05-15T17:45:22.925978Z"
                }
            },
            "outputs": [
                {
                    "name": "stderr",
                    "output_type": "stream",
                    "text": [
                        "/opt/homebrew/Caskroom/miniconda/base/envs/eval/lib/python3.12/site-packages/tqdm/auto.py:21: TqdmWarning: IProgress not found. Please update jupyter and ipywidgets. See https://ipywidgets.readthedocs.io/en/stable/user_install.html\n",
                        "  from .autonotebook import tqdm as notebook_tqdm\n",
                        "2024-05-28 19:16:53,355 - Starting new HTTPS connection (1): lastmileai.dev:443\n",
                        "2024-05-28 19:16:53,515 - https://lastmileai.dev:443 \"GET /api/evaluation_projects/list?name=OpenAI+Function+Calling HTTP/1.1\" 200 358\n",
                        "2024-05-28 19:16:53,518 - load_ssl_context verify=True cert=None trust_env=True http2=False\n",
                        "2024-05-28 19:16:53,519 - load_verify_locations cafile='/opt/homebrew/Caskroom/miniconda/base/envs/eval/lib/python3.12/site-packages/certifi/cacert.pem'\n"
                    ]
                }
            ],
            "source": [
                "import openai\n",
                "\n",
                "from lastmile_eval.rag.debugger.api.tracing import LastMileTracer\n",
                "\n",
                "from tracing_auto_instrumentation.openai import openai as openai_tracing\n",
                "from lastmile_eval.rag.debugger.tracing.sdk import get_lastmile_tracer\n",
                "\n",
                "tracer: LastMileTracer = get_lastmile_tracer(\n",
                "    tracer_name=\"OpenAI Function Calling\",\n",
                "\n",
                ")\n",
                "# client = openai.OpenAI()\n",
                "client = openai_tracing.wrap(openai.OpenAI(), tracer)\n"
            ]
        },
        {
            "cell_type": "code",
            "execution_count": 3,
            "id": "1251594d",
            "metadata": {},
            "outputs": [],
            "source": [
                "# OpenAI Setup\n",
                "from tenacity import retry, stop_after_attempt, wait_random_exponential\n",
                "from termcolor import colored\n",
                "import json\n",
                "\n",
                "import openai\n",
                "\n",
                "GPT_MODEL = \"gpt-4o\""
            ]
        },
        {
            "attachments": {},
            "cell_type": "markdown",
            "id": "69ee6a93",
            "metadata": {},
            "source": [
                "### Utilities\n",
                "\n",
                "First let's define a few utilities for making calls to the Chat Completions API and for maintaining and keeping track of the conversation state."
            ]
        },
        {
            "cell_type": "code",
            "execution_count": 4,
            "id": "745ceec5",
            "metadata": {
                "ExecuteTime": {
                    "end_time": "2024-05-15T17:45:28.816345Z",
                    "start_time": "2024-05-15T17:45:28.814155Z"
                }
            },
            "outputs": [],
            "source": [
                "@retry(wait=wait_random_exponential(multiplier=1, max=40), stop=stop_after_attempt(3))\n",
                "def chat_completion_request(messages, tools=None, tool_choice=None, model=GPT_MODEL, stream=True, stream_options=None):\n",
                "    try:\n",
                "        kwargs = {\n",
                "            \"model\": model,\n",
                "            \"messages\": messages,\n",
                "            \"tools\": tools,\n",
                "            \"tool_choice\": tool_choice,\n",
                "            \"stream\": stream,\n",
                "        }\n",
                "        if stream_options is not None:\n",
                "            kwargs[\"stream_options\"] = stream_options\n",
                "        response = client.chat.completions.create(**kwargs)\n",
                "        return response\n",
                "    except Exception as e:\n",
                "        print(\"Unable to generate ChatCompletion response\")\n",
                "        print(f\"Exception: {e}\")\n",
                "        return e\n"
            ]
        },
        {
            "cell_type": "code",
            "execution_count": 5,
            "id": "c4d1c99f",
            "metadata": {
                "ExecuteTime": {
                    "end_time": "2024-05-15T17:45:30.003910Z",
                    "start_time": "2024-05-15T17:45:30.001259Z"
                }
            },
            "outputs": [],
            "source": [
                "def pretty_print_conversation(messages):\n",
                "    role_to_color = {\n",
                "        \"system\": \"red\",\n",
                "        \"user\": \"green\",\n",
                "        \"assistant\": \"blue\",\n",
                "        \"function\": \"magenta\",\n",
                "    }\n",
                "    \n",
                "    for message in messages:\n",
                "        if message[\"role\"] == \"system\":\n",
                "            print(colored(f\"system: {message['content']}\\n\", role_to_color[message[\"role\"]]))\n",
                "        elif message[\"role\"] == \"user\":\n",
                "            print(colored(f\"user: {message['content']}\\n\", role_to_color[message[\"role\"]]))\n",
                "        elif message[\"role\"] == \"assistant\" and message.get(\"function_call\"):\n",
                "            print(colored(f\"assistant: {message['function_call']}\\n\", role_to_color[message[\"role\"]]))\n",
                "        elif message[\"role\"] == \"assistant\" and not message.get(\"function_call\"):\n",
                "            print(colored(f\"assistant: {message['content']}\\n\", role_to_color[message[\"role\"]]))\n",
                "        elif message[\"role\"] == \"function\":\n",
                "            print(colored(f\"function ({message['name']}): {message['content']}\\n\", role_to_color[message[\"role\"]]))\n"
            ]
        },
        {
            "attachments": {},
            "cell_type": "markdown",
            "id": "29d4e02b",
            "metadata": {},
            "source": [
                "### Basic concepts\n",
                "\n",
                "Let's create some function specifications to interface with a hypothetical weather API. We'll pass these function specification to the Chat Completions API in order to generate function arguments that adhere to the specification."
            ]
        },
        {
            "cell_type": "code",
            "execution_count": 6,
            "id": "d2e25069",
            "metadata": {
                "ExecuteTime": {
                    "end_time": "2024-05-15T17:45:31.794879Z",
                    "start_time": "2024-05-15T17:45:31.792617Z"
                }
            },
            "outputs": [],
            "source": [
                "tools = [\n",
                "    {\n",
                "        \"type\": \"function\",\n",
                "        \"function\": {\n",
                "            \"name\": \"get_current_weather\",\n",
                "            \"description\": \"Get the current weather\",\n",
                "            \"parameters\": {\n",
                "                \"type\": \"object\",\n",
                "                \"properties\": {\n",
                "                    \"location\": {\n",
                "                        \"type\": \"string\",\n",
                "                        \"description\": \"The city and state, e.g. San Francisco, CA\",\n",
                "                    },\n",
                "                    \"format\": {\n",
                "                        \"type\": \"string\",\n",
                "                        \"enum\": [\"celsius\", \"fahrenheit\"],\n",
                "                        \"description\": \"The temperature unit to use. Infer this from the users location.\",\n",
                "                    },\n",
                "                },\n",
                "                \"required\": [\"location\", \"format\"],\n",
                "            },\n",
                "        }\n",
                "    },\n",
                "    {\n",
                "        \"type\": \"function\",\n",
                "        \"function\": {\n",
                "            \"name\": \"get_n_day_weather_forecast\",\n",
                "            \"description\": \"Get an N-day weather forecast\",\n",
                "            \"parameters\": {\n",
                "                \"type\": \"object\",\n",
                "                \"properties\": {\n",
                "                    \"location\": {\n",
                "                        \"type\": \"string\",\n",
                "                        \"description\": \"The city and state, e.g. San Francisco, CA\",\n",
                "                    },\n",
                "                    \"format\": {\n",
                "                        \"type\": \"string\",\n",
                "                        \"enum\": [\"celsius\", \"fahrenheit\"],\n",
                "                        \"description\": \"The temperature unit to use. Infer this from the users location.\",\n",
                "                    },\n",
                "                    \"num_days\": {\n",
                "                        \"type\": \"integer\",\n",
                "                        \"description\": \"The number of days to forecast\",\n",
                "                    }\n",
                "                },\n",
                "                \"required\": [\"location\", \"format\", \"num_days\"]\n",
                "            },\n",
                "        }\n",
                "    },\n",
                "]"
            ]
        },
        {
            "attachments": {},
            "cell_type": "markdown",
            "id": "bfc39899",
            "metadata": {},
            "source": [
                "If we prompt the model about the current weather, it will respond with some clarifying questions."
            ]
        },
        {
            "cell_type": "code",
            "execution_count": 7,
            "id": "518d6827",
            "metadata": {
                "ExecuteTime": {
                    "end_time": "2024-05-15T17:45:35.282310Z",
                    "start_time": "2024-05-15T17:45:33.861496Z"
                }
            },
            "outputs": [
                {
                    "name": "stderr",
                    "output_type": "stream",
                    "text": [
                        "2024-05-28 19:16:53,566 - Request options: {'method': 'post', 'url': '/chat/completions', 'files': None, 'json_data': {'messages': [{'role': 'system', 'content': \"Don't make assumptions about what values to plug into functions. Ask for clarification if a user request is ambiguous.\"}, {'role': 'user', 'content': \"What's the weather like today\"}], 'model': 'gpt-4o', 'stream': True, 'stream_options': {'include_usage': True}, 'tool_choice': None, 'tools': [{'type': 'function', 'function': {'name': 'get_current_weather', 'description': 'Get the current weather', 'parameters': {'type': 'object', 'properties': {'location': {'type': 'string', 'description': 'The city and state, e.g. San Francisco, CA'}, 'format': {'type': 'string', 'enum': ['celsius', 'fahrenheit'], 'description': 'The temperature unit to use. Infer this from the users location.'}}, 'required': ['location', 'format']}}}, {'type': 'function', 'function': {'name': 'get_n_day_weather_forecast', 'description': 'Get an N-day weather forecast', 'parameters': {'type': 'object', 'properties': {'location': {'type': 'string', 'description': 'The city and state, e.g. San Francisco, CA'}, 'format': {'type': 'string', 'enum': ['celsius', 'fahrenheit'], 'description': 'The temperature unit to use. Infer this from the users location.'}, 'num_days': {'type': 'integer', 'description': 'The number of days to forecast'}}, 'required': ['location', 'format', 'num_days']}}}]}}\n",
                        "2024-05-28 19:16:53,577 - Sending HTTP Request: POST https://api.openai.com/v1/chat/completions\n",
                        "2024-05-28 19:16:53,578 - connect_tcp.started host='api.openai.com' port=443 local_address=None timeout=5.0 socket_options=None\n",
                        "2024-05-28 19:16:53,593 - connect_tcp.complete return_value=<httpcore._backends.sync.SyncStream object at 0x16c61d9a0>\n",
                        "2024-05-28 19:16:53,593 - start_tls.started ssl_context=<ssl.SSLContext object at 0x16c3d7850> server_hostname='api.openai.com' timeout=5.0\n",
                        "2024-05-28 19:16:53,605 - start_tls.complete return_value=<httpcore._backends.sync.SyncStream object at 0x1046ddb50>\n",
                        "2024-05-28 19:16:53,606 - send_request_headers.started request=<Request [b'POST']>\n",
                        "2024-05-28 19:16:53,606 - send_request_headers.complete\n",
                        "2024-05-28 19:16:53,606 - send_request_body.started request=<Request [b'POST']>\n",
                        "2024-05-28 19:16:53,607 - send_request_body.complete\n",
                        "2024-05-28 19:16:53,607 - receive_response_headers.started request=<Request [b'POST']>\n",
                        "2024-05-28 19:16:54,182 - receive_response_headers.complete return_value=(b'HTTP/1.1', 200, b'OK', [(b'Date', b'Tue, 28 May 2024 23:16:54 GMT'), (b'Content-Type', b'text/event-stream; charset=utf-8'), (b'Transfer-Encoding', b'chunked'), (b'Connection', b'keep-alive'), (b'openai-organization', b'lastmile-ai'), (b'openai-processing-ms', b'327'), (b'openai-version', b'2020-10-01'), (b'strict-transport-security', b'max-age=15724800; includeSubDomains'), (b'x-ratelimit-limit-requests', b'10000'), (b'x-ratelimit-limit-tokens', b'10000000'), (b'x-ratelimit-remaining-requests', b'9999'), (b'x-ratelimit-remaining-tokens', b'9999944'), (b'x-ratelimit-reset-requests', b'6ms'), (b'x-ratelimit-reset-tokens', b'0s'), (b'x-request-id', b'req_d173fe7c52b0dca78b91ccce0ee23a53'), (b'CF-Cache-Status', b'DYNAMIC'), (b'Set-Cookie', b'__cf_bm=2zztSWVYwErd_bVpfWpMyX8V7pO_Uj93xNM53h8ykzs-1716938214-1.0.1.1-aovlxd5g.grrPM6rJ_xpkFJi.azPaz0wO8auPH64xsXUvH1UC65saCoTOT3HdZpqOIUn0Uz6JfHaLcwSQEUfBA; path=/; expires=Tue, 28-May-24 23:46:54 GMT; domain=.api.openai.com; HttpOnly; Secure; SameSite=None'), (b'Set-Cookie', b'_cfuvid=xkT2TYZ3jvux6Yv.4IH5tZwhNHN3qmjbo7UDr6ragaM-1716938214208-0.0.1.1-604800000; path=/; domain=.api.openai.com; HttpOnly; Secure; SameSite=None'), (b'Server', b'cloudflare'), (b'CF-RAY', b'88b1f47b48bec3eb-EWR'), (b'alt-svc', b'h3=\":443\"; ma=86400')])\n",
                        "2024-05-28 19:16:54,183 - HTTP Request: POST https://api.openai.com/v1/chat/completions \"HTTP/1.1 200 OK\"\n",
                        "2024-05-28 19:16:54,184 - HTTP Response: POST https://api.openai.com/v1/chat/completions \"200 OK\" Headers([('date', 'Tue, 28 May 2024 23:16:54 GMT'), ('content-type', 'text/event-stream; charset=utf-8'), ('transfer-encoding', 'chunked'), ('connection', 'keep-alive'), ('openai-organization', 'lastmile-ai'), ('openai-processing-ms', '327'), ('openai-version', '2020-10-01'), ('strict-transport-security', 'max-age=15724800; includeSubDomains'), ('x-ratelimit-limit-requests', '10000'), ('x-ratelimit-limit-tokens', '10000000'), ('x-ratelimit-remaining-requests', '9999'), ('x-ratelimit-remaining-tokens', '9999944'), ('x-ratelimit-reset-requests', '6ms'), ('x-ratelimit-reset-tokens', '0s'), ('x-request-id', 'req_d173fe7c52b0dca78b91ccce0ee23a53'), ('cf-cache-status', 'DYNAMIC'), ('set-cookie', '__cf_bm=2zztSWVYwErd_bVpfWpMyX8V7pO_Uj93xNM53h8ykzs-1716938214-1.0.1.1-aovlxd5g.grrPM6rJ_xpkFJi.azPaz0wO8auPH64xsXUvH1UC65saCoTOT3HdZpqOIUn0Uz6JfHaLcwSQEUfBA; path=/; expires=Tue, 28-May-24 23:46:54 GMT; domain=.api.openai.com; HttpOnly; Secure; SameSite=None'), ('set-cookie', '_cfuvid=xkT2TYZ3jvux6Yv.4IH5tZwhNHN3qmjbo7UDr6ragaM-1716938214208-0.0.1.1-604800000; path=/; domain=.api.openai.com; HttpOnly; Secure; SameSite=None'), ('server', 'cloudflare'), ('cf-ray', '88b1f47b48bec3eb-EWR'), ('alt-svc', 'h3=\":443\"; ma=86400')])\n",
                        "2024-05-28 19:16:54,184 - request_id: req_d173fe7c52b0dca78b91ccce0ee23a53\n",
                        "2024-05-28 19:16:54,186 - Starting new HTTPS connection (1): lastmileai.dev:443\n",
                        "2024-05-28 19:16:54,266 - https://lastmileai.dev:443 \"POST /api/trace/create HTTP/1.1\" 200 10\n",
                        "2024-05-28 19:16:54,268 - Starting new HTTPS connection (1): lastmileai.dev:443\n",
                        "2024-05-28 19:16:54,356 - https://lastmileai.dev:443 \"POST /api/rag_query_traces/create HTTP/1.1\" 200 475\n",
                        "2024-05-28 19:16:54,357 - receive_response_body.started request=<Request [b'POST']>\n",
                        "2024-05-28 19:16:54,360 - Setting attribute on ended span.\n"
                    ]
                },
                {
                    "name": "stdout",
                    "output_type": "stream",
                    "text": [
                        "stream is true\n",
                        "1: grepping a stupid item\n",
                        "2: grepping a stupid item\n",
                        "3: grepping a stupid item\n",
                        "4: grepping a stupid item\n",
                        "5: grepping a stupid item\n",
                        "6: grepping a stupid item\n",
                        "7: grepping a stupid item\n",
                        "8: grepping a stupid item\n",
                        "9: grepping a stupid item\n",
                        "10: grepping a stupid item\n",
                        "11: grepping a stupid item\n",
                        "12: grepping a stupid item\n"
                    ]
                },
                {
                    "name": "stderr",
                    "output_type": "stream",
                    "text": [
                        "2024-05-28 19:16:54,468 - receive_response_body.complete\n",
                        "2024-05-28 19:16:54,468 - response_closed.started\n",
                        "2024-05-28 19:16:54,468 - response_closed.complete\n"
                    ]
                },
                {
                    "name": "stdout",
                    "output_type": "stream",
                    "text": [
                        "13: grepping a stupid item\n",
                        "14: grepping a stupid item\n",
                        "15: grepping a stupid item\n",
                        "16: grepping a stupid item\n",
                        "17: grepping a stupid item\n",
                        "18: grepping a stupid item\n",
                        "19: grepping a stupid item\n",
                        "20: grepping a stupid item\n",
                        "21: grepping a stupid item\n",
                        "22: grepping a stupid item\n",
                        "23: grepping a stupid item\n",
                        "24: grepping a stupid item\n",
                        "25: grepping a stupid item\n",
                        "26: grepping a stupid item\n",
                        "27: grepping a stupid item\n",
                        "fuck this stream, can't believe this wasn't tested\n"
                    ]
                },
                {
                    "ename": "IndexError",
                    "evalue": "list index out of range",
                    "output_type": "error",
                    "traceback": [
                        "\u001b[0;31m---------------------------------------------------------------------------\u001b[0m",
                        "\u001b[0;31mIndexError\u001b[0m                                Traceback (most recent call last)",
                        "Cell \u001b[0;32mIn[7], line 13\u001b[0m\n\u001b[1;32m     11\u001b[0m \u001b[38;5;28;01mif\u001b[39;00m stream:\n\u001b[1;32m     12\u001b[0m     all_response_chunks \u001b[38;5;241m=\u001b[39m []\n\u001b[0;32m---> 13\u001b[0m \u001b[43m    \u001b[49m\u001b[38;5;28;43;01mfor\u001b[39;49;00m\u001b[43m \u001b[49m\u001b[43mchunk\u001b[49m\u001b[43m \u001b[49m\u001b[38;5;129;43;01min\u001b[39;49;00m\u001b[43m \u001b[49m\u001b[43mchat_response\u001b[49m\u001b[43m:\u001b[49m\n\u001b[1;32m     14\u001b[0m \u001b[43m        \u001b[49m\u001b[43mall_response_chunks\u001b[49m\u001b[38;5;241;43m.\u001b[39;49m\u001b[43mappend\u001b[49m\u001b[43m(\u001b[49m\u001b[43mchunk\u001b[49m\u001b[43m)\u001b[49m\n\u001b[1;32m     15\u001b[0m     \u001b[38;5;28mprint\u001b[39m(\u001b[38;5;124mf\u001b[39m\u001b[38;5;124m\"\u001b[39m\u001b[38;5;132;01m{\u001b[39;00mall_response_chunks\u001b[38;5;132;01m=}\u001b[39;00m\u001b[38;5;124m\"\u001b[39m)\n",
                        "File \u001b[0;32m~/Projects/tracing_auto_instrumentation/src/tracing_auto_instrumentation/openai/openai.py:102\u001b[0m, in \u001b[0;36mChatCompletionWrapper.create.<locals>.gen\u001b[0;34m(chunk_count)\u001b[0m\n\u001b[1;32m     99\u001b[0m     \u001b[38;5;28;01myield\u001b[39;00m item\n\u001b[1;32m    100\u001b[0m \u001b[38;5;28mprint\u001b[39m(\u001b[38;5;124m\"\u001b[39m\u001b[38;5;124mfuck this stream, can\u001b[39m\u001b[38;5;124m'\u001b[39m\u001b[38;5;124mt believe this wasn\u001b[39m\u001b[38;5;124m'\u001b[39m\u001b[38;5;124mt tested\u001b[39m\u001b[38;5;124m\"\u001b[39m)\n\u001b[0;32m--> 102\u001b[0m stream_output \u001b[38;5;241m=\u001b[39m \u001b[43mpostprocess_streaming_results\u001b[49m\u001b[43m(\u001b[49m\u001b[43mall_results\u001b[49m\u001b[43m)\u001b[49m\n\u001b[1;32m    103\u001b[0m \u001b[38;5;28mprint\u001b[39m(\u001b[38;5;124m\"\u001b[39m\u001b[38;5;124mok fuck me I\u001b[39m\u001b[38;5;124m'\u001b[39m\u001b[38;5;124mm in create stream\u001b[39m\u001b[38;5;124m\"\u001b[39m)\n\u001b[1;32m    104\u001b[0m span\u001b[38;5;241m.\u001b[39mset_attributes(flatten_json(stream_output))\n",
                        "File \u001b[0;32m~/Projects/tracing_auto_instrumentation/src/tracing_auto_instrumentation/openai/openai.py:31\u001b[0m, in \u001b[0;36mpostprocess_streaming_results\u001b[0;34m(all_results)\u001b[0m\n\u001b[1;32m     29\u001b[0m finish_reason \u001b[38;5;241m=\u001b[39m \u001b[38;5;28;01mNone\u001b[39;00m\n\u001b[1;32m     30\u001b[0m \u001b[38;5;28;01mfor\u001b[39;00m result \u001b[38;5;129;01min\u001b[39;00m all_results:\n\u001b[0;32m---> 31\u001b[0m     delta \u001b[38;5;241m=\u001b[39m \u001b[43mresult\u001b[49m\u001b[43m[\u001b[49m\u001b[38;5;124;43m\"\u001b[39;49m\u001b[38;5;124;43mchoices\u001b[39;49m\u001b[38;5;124;43m\"\u001b[39;49m\u001b[43m]\u001b[49m\u001b[43m[\u001b[49m\u001b[38;5;241;43m0\u001b[39;49m\u001b[43m]\u001b[49m[\u001b[38;5;124m\"\u001b[39m\u001b[38;5;124mdelta\u001b[39m\u001b[38;5;124m\"\u001b[39m]\n\u001b[1;32m     32\u001b[0m     \u001b[38;5;28;01mif\u001b[39;00m role \u001b[38;5;129;01mis\u001b[39;00m \u001b[38;5;28;01mNone\u001b[39;00m \u001b[38;5;129;01mand\u001b[39;00m delta\u001b[38;5;241m.\u001b[39mget(\u001b[38;5;124m\"\u001b[39m\u001b[38;5;124mrole\u001b[39m\u001b[38;5;124m\"\u001b[39m) \u001b[38;5;129;01mis\u001b[39;00m \u001b[38;5;129;01mnot\u001b[39;00m \u001b[38;5;28;01mNone\u001b[39;00m:\n\u001b[1;32m     33\u001b[0m         role \u001b[38;5;241m=\u001b[39m delta\u001b[38;5;241m.\u001b[39mget(\u001b[38;5;124m\"\u001b[39m\u001b[38;5;124mrole\u001b[39m\u001b[38;5;124m\"\u001b[39m)\n",
                        "\u001b[0;31mIndexError\u001b[0m: list index out of range"
                    ]
                }
            ],
            "source": [
                "from tracing_auto_instrumentation.openai.openai import postprocess_streaming_results\n",
                "import json\n",
                "\n",
                "messages = []\n",
                "messages.append({\"role\": \"system\", \"content\": \"Don't make assumptions about what values to plug into functions. Ask for clarification if a user request is ambiguous.\"})\n",
                "messages.append({\"role\": \"user\", \"content\": \"What's the weather like today\"})\n",
                "stream = True\n",
                "chat_response = chat_completion_request(\n",
                "    messages, tools=tools, stream=stream, stream_options= {\"include_usage\": True}\n",
                ")\n",
                "if stream:\n",
                "    all_response_chunks = []\n",
                "    for chunk in chat_response:\n",
                "        all_response_chunks.append(chunk)\n",
                "    print(f\"{all_response_chunks=}\")\n",
                "    with open(\"wrapper_chunks_with_usage.json\", \"w\") as f:\n",
                "        dict_chunks = list(map(lambda x: x.model_dump(), all_response_chunks))\n",
                "        f.write(json.dumps(dict_chunks, indent=2))\n",
                "    # response = postprocess_streaming_results(all_response_chunks)\n",
                "    # assistant_message = response[\"message\"]\n",
                "    # messages.append(assistant_message)\n",
                "else:\n",
                "    assistant_message = chat_response.choices[0].message\n",
                "    messages.append(assistant_message)\n",
                "    assistant_message\n"
            ]
        },
        {
            "cell_type": "code",
            "execution_count": null,
            "id": "fd588164",
            "metadata": {},
            "outputs": [],
            "source": [
                "g = (n for n in range(3, 5))\n",
                "for i in g:\n",
                "    print(i)\n",
                "print(g)"
            ]
        },
        {
            "cell_type": "code",
            "execution_count": null,
            "id": "adac8dd4",
            "metadata": {},
            "outputs": [],
            "source": [
                "\n",
                "\n",
                "print(chat_response)\n",
                "for i in chat_response:\n",
                "    print(i)\n",
                "    print(\"got here\")\n",
                "print(\"done\")"
            ]
        },
        {
            "attachments": {},
            "cell_type": "markdown",
            "id": "4c999375",
            "metadata": {},
            "source": [
                "Once we provide the missing information, it will generate the appropriate function arguments for us."
            ]
        },
        {
            "cell_type": "code",
            "execution_count": null,
            "id": "23c42a6e",
            "metadata": {
                "ExecuteTime": {
                    "end_time": "2024-05-15T17:45:43.553403Z",
                    "start_time": "2024-05-15T17:45:42.205590Z"
                }
            },
            "outputs": [],
            "source": [
                "messages.append({\"role\": \"user\", \"content\": \"I'm in Glasgow, Scotland.\"})\n",
                "chat_response = chat_completion_request(\n",
                "    messages, tools=tools, stream=False\n",
                ")\n",
                "assistant_message = chat_response.choices[0].message\n",
                "messages.append(assistant_message)\n",
                "assistant_message\n"
            ]
        },
        {
            "attachments": {},
            "cell_type": "markdown",
            "id": "c14d4762",
            "metadata": {},
            "source": [
                "By prompting it differently, we can get it to target the other function we've told it about."
            ]
        },
        {
            "cell_type": "code",
            "execution_count": null,
            "id": "fa232e54",
            "metadata": {
                "ExecuteTime": {
                    "end_time": "2024-05-15T17:45:47.090638Z",
                    "start_time": "2024-05-15T17:45:46.302475Z"
                }
            },
            "outputs": [],
            "source": [
                "messages = []\n",
                "messages.append({\"role\": \"system\", \"content\": \"Don't make assumptions about what values to plug into functions. Ask for clarification if a user request is ambiguous.\"})\n",
                "messages.append({\"role\": \"user\", \"content\": \"what is the weather going to be like in Glasgow, Scotland over the next x days\"})\n",
                "chat_response = chat_completion_request(\n",
                "    messages, tools=tools\n",
                ")\n",
                "assistant_message = chat_response.choices[0].message\n",
                "messages.append(assistant_message)\n",
                "assistant_message\n"
            ]
        },
        {
            "attachments": {},
            "cell_type": "markdown",
            "id": "6172ddac",
            "metadata": {},
            "source": [
                "Once again, the model is asking us for clarification because it doesn't have enough information yet. In this case it already knows the location for the forecast, but it needs to know how many days are required in the forecast."
            ]
        },
        {
            "cell_type": "code",
            "execution_count": null,
            "id": "c7d8a543",
            "metadata": {
                "ExecuteTime": {
                    "end_time": "2024-05-15T17:45:49.790820Z",
                    "start_time": "2024-05-15T17:45:48.847752Z"
                }
            },
            "outputs": [],
            "source": [
                "messages.append({\"role\": \"user\", \"content\": \"5 days\"})\n",
                "chat_response = chat_completion_request(\n",
                "    messages, tools=tools\n",
                ")\n",
                "chat_response.choices[0]\n"
            ]
        },
        {
            "attachments": {},
            "cell_type": "markdown",
            "id": "4b758a0a",
            "metadata": {},
            "source": [
                "#### Forcing the use of specific functions or no function"
            ]
        },
        {
            "attachments": {},
            "cell_type": "markdown",
            "id": "412f79ba",
            "metadata": {},
            "source": [
                "We can force the model to use a specific function, for example get_n_day_weather_forecast by using the function_call argument. By doing so, we force the model to make assumptions about how to use it."
            ]
        },
        {
            "cell_type": "code",
            "execution_count": null,
            "id": "559371b7",
            "metadata": {
                "ExecuteTime": {
                    "end_time": "2024-05-15T17:45:54.194255Z",
                    "start_time": "2024-05-15T17:45:52.975746Z"
                }
            },
            "outputs": [],
            "source": [
                "# in this cell we force the model to use get_n_day_weather_forecast\n",
                "messages = []\n",
                "messages.append({\"role\": \"system\", \"content\": \"Don't make assumptions about what values to plug into functions. Ask for clarification if a user request is ambiguous.\"})\n",
                "messages.append({\"role\": \"user\", \"content\": \"Give me a weather report for Toronto, Canada.\"})\n",
                "chat_response = chat_completion_request(\n",
                "    messages, tools=tools, tool_choice={\"type\": \"function\", \"function\": {\"name\": \"get_n_day_weather_forecast\"}}\n",
                ")\n",
                "chat_response.choices[0].message"
            ]
        },
        {
            "cell_type": "code",
            "execution_count": null,
            "id": "a7ab0f58",
            "metadata": {
                "ExecuteTime": {
                    "end_time": "2024-05-15T17:45:56.841233Z",
                    "start_time": "2024-05-15T17:45:55.433397Z"
                }
            },
            "outputs": [],
            "source": [
                "# if we don't force the model to use get_n_day_weather_forecast it may not\n",
                "messages = []\n",
                "messages.append({\"role\": \"system\", \"content\": \"Don't make assumptions about what values to plug into functions. Ask for clarification if a user request is ambiguous.\"})\n",
                "messages.append({\"role\": \"user\", \"content\": \"Give me a weather report for Toronto, Canada.\"})\n",
                "chat_response = chat_completion_request(\n",
                "    messages, tools=tools\n",
                ")\n",
                "chat_response.choices[0].message"
            ]
        },
        {
            "attachments": {},
            "cell_type": "markdown",
            "id": "3bd70e48",
            "metadata": {},
            "source": [
                "We can also force the model to not use a function at all. By doing so we prevent it from producing a proper function call."
            ]
        },
        {
            "cell_type": "code",
            "execution_count": null,
            "id": "acfe54e6",
            "metadata": {
                "ExecuteTime": {
                    "end_time": "2024-05-15T17:45:59.800346Z",
                    "start_time": "2024-05-15T17:45:59.289603Z"
                }
            },
            "outputs": [],
            "source": [
                "messages = []\n",
                "messages.append({\"role\": \"system\", \"content\": \"Don't make assumptions about what values to plug into functions. Ask for clarification if a user request is ambiguous.\"})\n",
                "messages.append({\"role\": \"user\", \"content\": \"Give me the current weather (use Celcius) for Toronto, Canada.\"})\n",
                "chat_response = chat_completion_request(\n",
                "    messages, tools=tools, tool_choice=\"none\"\n",
                ")\n",
                "chat_response.choices[0].message\n"
            ]
        },
        {
            "cell_type": "markdown",
            "id": "b616353b",
            "metadata": {},
            "source": [
                "### Parallel Function Calling\n",
                "\n",
                "Newer models such as gpt-4o or gpt-3.5-turbo can call multiple functions in one turn."
            ]
        },
        {
            "cell_type": "code",
            "execution_count": null,
            "id": "380eeb68",
            "metadata": {
                "ExecuteTime": {
                    "end_time": "2024-05-15T17:46:04.048553Z",
                    "start_time": "2024-05-15T17:46:01.273501Z"
                }
            },
            "outputs": [],
            "source": [
                "messages = []\n",
                "messages.append({\"role\": \"system\", \"content\": \"Don't make assumptions about what values to plug into functions. Ask for clarification if a user request is ambiguous.\"})\n",
                "messages.append({\"role\": \"user\", \"content\": \"what is the weather going to be like in San Francisco and Glasgow over the next 4 days\"})\n",
                "chat_response = chat_completion_request(\n",
                "    messages, tools=tools, model=GPT_MODEL\n",
                ")\n",
                "\n",
                "assistant_message = chat_response.choices[0].message.tool_calls\n",
                "assistant_message"
            ]
        },
        {
            "attachments": {},
            "cell_type": "markdown",
            "id": "b4482aee",
            "metadata": {},
            "source": [
                "## How to call functions with model generated arguments\n",
                "\n",
                "In our next example, we'll demonstrate how to execute functions whose inputs are model-generated, and use this to implement an agent that can answer questions for us about a database. For simplicity we'll use the [Chinook sample database](https://www.sqlitetutorial.net/sqlite-sample-database/).\n",
                "\n",
                "*Note:* SQL generation can be high-risk in a production environment since models are not perfectly reliable at generating correct SQL."
            ]
        },
        {
            "attachments": {},
            "cell_type": "markdown",
            "id": "f7654fef",
            "metadata": {},
            "source": [
                "### Specifying a function to execute SQL queries\n",
                "\n",
                "First let's define some helpful utility functions to extract data from a SQLite database."
            ]
        },
        {
            "cell_type": "code",
            "execution_count": null,
            "id": "3230b819",
            "metadata": {},
            "outputs": [],
            "source": [
                "!mkdir data"
            ]
        },
        {
            "cell_type": "code",
            "execution_count": null,
            "id": "30f6b60e",
            "metadata": {
                "ExecuteTime": {
                    "end_time": "2024-05-15T17:46:07.270851Z",
                    "start_time": "2024-05-15T17:46:07.265545Z"
                }
            },
            "outputs": [],
            "source": [
                "import sqlite3\n",
                "\n",
                "conn = sqlite3.connect(\"data/Chinook.db\")\n",
                "print(\"Opened database successfully\")"
            ]
        },
        {
            "cell_type": "code",
            "execution_count": null,
            "id": "abec0214",
            "metadata": {
                "ExecuteTime": {
                    "end_time": "2024-05-15T17:46:09.345308Z",
                    "start_time": "2024-05-15T17:46:09.342998Z"
                }
            },
            "outputs": [],
            "source": [
                "def get_table_names(conn):\n",
                "    \"\"\"Return a list of table names.\"\"\"\n",
                "    table_names = []\n",
                "    tables = conn.execute(\"SELECT name FROM sqlite_master WHERE type='table';\")\n",
                "    for table in tables.fetchall():\n",
                "        table_names.append(table[0])\n",
                "    return table_names\n",
                "\n",
                "\n",
                "def get_column_names(conn, table_name):\n",
                "    \"\"\"Return a list of column names.\"\"\"\n",
                "    column_names = []\n",
                "    columns = conn.execute(f\"PRAGMA table_info('{table_name}');\").fetchall()\n",
                "    for col in columns:\n",
                "        column_names.append(col[1])\n",
                "    return column_names\n",
                "\n",
                "\n",
                "def get_database_info(conn):\n",
                "    \"\"\"Return a list of dicts containing the table name and columns for each table in the database.\"\"\"\n",
                "    table_dicts = []\n",
                "    for table_name in get_table_names(conn):\n",
                "        columns_names = get_column_names(conn, table_name)\n",
                "        table_dicts.append({\"table_name\": table_name, \"column_names\": columns_names})\n",
                "    return table_dicts\n"
            ]
        },
        {
            "attachments": {},
            "cell_type": "markdown",
            "id": "77e6e5ea",
            "metadata": {},
            "source": [
                "Now can use these utility functions to extract a representation of the database schema."
            ]
        },
        {
            "cell_type": "code",
            "execution_count": null,
            "id": "0c0104cd",
            "metadata": {
                "ExecuteTime": {
                    "end_time": "2024-05-15T17:46:11.303746Z",
                    "start_time": "2024-05-15T17:46:11.301210Z"
                }
            },
            "outputs": [],
            "source": [
                "database_schema_dict = get_database_info(conn)\n",
                "database_schema_string = \"\\n\".join(\n",
                "    [\n",
                "        f\"Table: {table['table_name']}\\nColumns: {', '.join(table['column_names'])}\"\n",
                "        for table in database_schema_dict\n",
                "    ]\n",
                ")"
            ]
        },
        {
            "attachments": {},
            "cell_type": "markdown",
            "id": "ae73c9ee",
            "metadata": {},
            "source": [
                "As before, we'll define a function specification for the function we'd like the API to generate arguments for. Notice that we are inserting the database schema into the function specification. This will be important for the model to know about."
            ]
        },
        {
            "cell_type": "code",
            "execution_count": null,
            "id": "0258813a",
            "metadata": {
                "ExecuteTime": {
                    "end_time": "2024-05-15T17:46:16.569530Z",
                    "start_time": "2024-05-15T17:46:16.567801Z"
                }
            },
            "outputs": [],
            "source": [
                "tools = [\n",
                "    {\n",
                "        \"type\": \"function\",\n",
                "        \"function\": {\n",
                "            \"name\": \"ask_database\",\n",
                "            \"description\": \"Use this function to answer user questions about music. Input should be a fully formed SQL query.\",\n",
                "            \"parameters\": {\n",
                "                \"type\": \"object\",\n",
                "                \"properties\": {\n",
                "                    \"query\": {\n",
                "                        \"type\": \"string\",\n",
                "                        \"description\": f\"\"\"\n",
                "                                SQL query extracting info to answer the user's question.\n",
                "                                SQL should be written using this database schema:\n",
                "                                {database_schema_string}\n",
                "                                The query should be returned in plain text, not in JSON.\n",
                "                                \"\"\",\n",
                "                    }\n",
                "                },\n",
                "                \"required\": [\"query\"],\n",
                "            },\n",
                "        }\n",
                "    }\n",
                "]"
            ]
        },
        {
            "attachments": {},
            "cell_type": "markdown",
            "id": "da08c121",
            "metadata": {},
            "source": [
                "### Executing SQL queries\n",
                "\n",
                "Now let's implement the function that will actually excute queries against the database."
            ]
        },
        {
            "cell_type": "code",
            "execution_count": null,
            "id": "65585e74",
            "metadata": {
                "ExecuteTime": {
                    "end_time": "2024-05-15T17:46:19.198723Z",
                    "start_time": "2024-05-15T17:46:19.197043Z"
                }
            },
            "outputs": [],
            "source": [
                "def ask_database(conn, query):\n",
                "    \"\"\"Function to query SQLite database with a provided SQL query.\"\"\"\n",
                "    try:\n",
                "        results = str(conn.execute(query).fetchall())\n",
                "    except Exception as e:\n",
                "        results = f\"query failed with error: {e}\"\n",
                "    return results"
            ]
        },
        {
            "cell_type": "markdown",
            "id": "8f6885e9f0af5c40",
            "metadata": {},
            "source": [
                "##### Steps to invoke a function call using Chat Completions API: \n",
                "\n",
                "**Step 1**: Prompt the model with content that may result in model selecting a tool to use. The description of the tools such as a function names and signature is defined in the 'Tools' list and passed to the model in API call. If selected, the function name and parameters are included in the response.<br>\n",
                "  \n",
                "**Step 2**: Check programmatically if model wanted to call a function. If true, proceed to step 3. <br>  \n",
                "**Step 3**: Extract the function name and parameters from response, call the function with parameters. Append the result to messages. <br>    \n",
                "**Step 4**: Invoke the chat completions API with the message list to get the response. "
            ]
        },
        {
            "cell_type": "code",
            "execution_count": null,
            "id": "e8b7cb9cdc7a7616",
            "metadata": {
                "ExecuteTime": {
                    "end_time": "2024-05-15T17:46:25.725379Z",
                    "start_time": "2024-05-15T17:46:24.255505Z"
                }
            },
            "outputs": [],
            "source": [
                "# Step #1: Prompt with content that may result in function call. In this case the model can identify the information requested by the user is potentially available in the database schema passed to the model in Tools description. \n",
                "messages = [{\n",
                "    \"role\":\"user\", \n",
                "    \"content\": \"What is the name of the album with the most tracks?\"\n",
                "}]\n",
                "\n",
                "response = client.chat.completions.create(\n",
                "    model='gpt-4o', \n",
                "    messages=messages, \n",
                "    tools= tools, \n",
                "    tool_choice=\"auto\"\n",
                ")\n",
                "\n",
                "# Append the message to messages list\n",
                "response_message = response.choices[0].message \n",
                "messages.append(response_message)\n",
                "\n",
                "print(response_message)"
            ]
        },
        {
            "cell_type": "code",
            "execution_count": null,
            "id": "351c39def3417776",
            "metadata": {
                "ExecuteTime": {
                    "end_time": "2024-05-15T17:46:30.346444Z",
                    "start_time": "2024-05-15T17:46:29.699046Z"
                }
            },
            "outputs": [],
            "source": [
                "# Step 2: determine if the response from the model includes a tool call.   \n",
                "tool_calls = response_message.tool_calls\n",
                "if tool_calls:\n",
                "    # If true the model will return the name of the tool / function to call and the argument(s)  \n",
                "    tool_call_id = tool_calls[0].id\n",
                "    tool_function_name = tool_calls[0].function.name\n",
                "    tool_query_string = eval(tool_calls[0].function.arguments)['query']\n",
                "    \n",
                "    # Step 3: Call the function and retrieve results. Append the results to the messages list.      \n",
                "    if tool_function_name == 'ask_database':\n",
                "        results = ask_database(conn, tool_query_string)\n",
                "        \n",
                "        messages.append({\n",
                "            \"role\":\"tool\", \n",
                "            \"tool_call_id\":tool_call_id, \n",
                "            \"name\": tool_function_name, \n",
                "            \"content\":results\n",
                "        })\n",
                "        \n",
                "        # Step 4: Invoke the chat completions API with the function response appended to the messages list\n",
                "        # Note that messages with role 'tool' must be a response to a preceding message with 'tool_calls'\n",
                "        model_response_with_function_call = client.chat.completions.create(\n",
                "            model=\"gpt-4o\",\n",
                "            messages=messages,\n",
                "        )  # get a new response from the model where it can see the function response\n",
                "        print(model_response_with_function_call.choices[0].message.content)\n",
                "    else: \n",
                "        print(f\"Error: function {tool_function_name} does not exist\")\n",
                "else: \n",
                "    # Model did not identify a function to call, result can be returned to the user \n",
                "    print(response_message.content) "
            ]
        },
        {
            "attachments": {},
            "cell_type": "markdown",
            "id": "2d89073c",
            "metadata": {},
            "source": [
                "## Next Steps\n",
                "\n",
                "See our other [notebook](How_to_call_functions_for_knowledge_retrieval.ipynb) that demonstrates how to use the Chat Completions API and functions for knowledge retrieval to interact conversationally with a knowledge base."
            ]
        }
    ],
    "metadata": {
        "kernelspec": {
            "display_name": "Python 3 (ipykernel)",
            "language": "python",
            "name": "python3"
        },
        "language_info": {
            "codemirror_mode": {
                "name": "ipython",
                "version": 3
            },
            "file_extension": ".py",
            "mimetype": "text/x-python",
            "name": "python",
            "nbconvert_exporter": "python",
            "pygments_lexer": "ipython3",
            "version": "3.12.3"
        }
    },
    "nbformat": 4,
    "nbformat_minor": 5
}
