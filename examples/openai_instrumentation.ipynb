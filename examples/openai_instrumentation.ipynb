{
    "cells": [
        {
            "attachments": {},
            "cell_type": "markdown",
            "id": "3e67f200",
            "metadata": {},
            "source": [
                "# How to call functions with chat models - Traced With LastMile\n",
                "\n",
                "\n",
                "This Notebook demonstrates how to use the LastMile OpenAI wrapper, a powerful tool that captures, logs, and traces your interactions with the OpenAI API, making it easier to debug and analyze your code.\n",
                "It also covers how to use the Chat Completions API in combination with external functions to extend the capabilities of GPT models.\n",
                "\n",
                "The LastMile OpenAI wrapper is designed to seamlessly integrate with your existing OpenAI code, allowing you to trace and monitor API calls without requiring significant changes to your implementation. By using this wrapper, you can gain valuable insights into how your application interacts with the OpenAI API, helping you identify potential issues and optimize your code.\n",
                "\n",
                "`tools` is an optional parameter in the Chat Completion API which can be used to provide function specifications. The purpose of this is to enable models to generate function arguments which adhere to the provided specifications. Note that the API will not actually execute any function calls. It is up to developers to execute function calls using model outputs.\n",
                "\n",
                "Within the `tools` parameter, if the `functions` parameter is provided then by default the model will decide when it is appropriate to use one of the functions. The API can be forced to use a specific function by setting the `tool_choice` parameter to `{\"type\": \"function\", \"function\": {\"name\": \"my_function\"}}`. The API can also be forced to not use any function by setting the `tool_choice` parameter to `\"none\"`. If a function is used, the output will contain `\"finish_reason\": \"tool_calls\"` in the response, as well as a `tool_calls` object that has the name of the function and the generated function arguments.\n",
                "\n",
                "### Overview\n",
                "\n",
                "This notebook contains the following 2 sections:\n",
                "\n",
                "- **How to generate function arguments:** Specify a set of functions and use the API to generate function arguments.\n",
                "- **How to call functions with model generated arguments:** Close the loop by actually executing functions with model generated arguments."
            ]
        },
        {
            "attachments": {},
            "cell_type": "markdown",
            "id": "64c85e26",
            "metadata": {},
            "source": [
                "## How to generate function arguments"
            ]
        },
        {
            "cell_type": "code",
            "execution_count": 1,
            "id": "80e71f33",
            "metadata": {
                "pycharm": {
                    "is_executing": true
                }
            },
            "outputs": [
                {
                    "name": "stdout",
                    "output_type": "stream",
                    "text": [
                        "Requirement already satisfied: tracing-auto-instrumentation[openai] in /opt/homebrew/Caskroom/miniconda/base/envs/eval/lib/python3.12/site-packages (0.0.4)\n",
                        "Requirement already satisfied: lastmile-eval in /opt/homebrew/Caskroom/miniconda/base/envs/eval/lib/python3.12/site-packages (from tracing-auto-instrumentation[openai]) (0.0.52)\n",
                        "Requirement already satisfied: html2text in /opt/homebrew/Caskroom/miniconda/base/envs/eval/lib/python3.12/site-packages (from tracing-auto-instrumentation[openai]) (2024.2.26)\n",
                        "Requirement already satisfied: pandas in /opt/homebrew/Caskroom/miniconda/base/envs/eval/lib/python3.12/site-packages (from tracing-auto-instrumentation[openai]) (2.1.2)\n",
                        "Requirement already satisfied: pyarrow in /opt/homebrew/Caskroom/miniconda/base/envs/eval/lib/python3.12/site-packages (from tracing-auto-instrumentation[openai]) (16.1.0)\n",
                        "Requirement already satisfied: tqdm in /opt/homebrew/Caskroom/miniconda/base/envs/eval/lib/python3.12/site-packages (from tracing-auto-instrumentation[openai]) (4.66.4)\n",
                        "Requirement already satisfied: openai in /opt/homebrew/Caskroom/miniconda/base/envs/eval/lib/python3.12/site-packages (from tracing-auto-instrumentation[openai]) (1.30.4)\n",
                        "Requirement already satisfied: requests in /opt/homebrew/Caskroom/miniconda/base/envs/eval/lib/python3.12/site-packages (from lastmile-eval->tracing-auto-instrumentation[openai]) (2.32.2)\n",
                        "Requirement already satisfied: python-dotenv in /opt/homebrew/Caskroom/miniconda/base/envs/eval/lib/python3.12/site-packages (from lastmile-eval->tracing-auto-instrumentation[openai]) (1.0.0)\n",
                        "Requirement already satisfied: pydantic>=2.1 in /opt/homebrew/Caskroom/miniconda/base/envs/eval/lib/python3.12/site-packages (from lastmile-eval->tracing-auto-instrumentation[openai]) (2.7.2)\n",
                        "Requirement already satisfied: result in /opt/homebrew/Caskroom/miniconda/base/envs/eval/lib/python3.12/site-packages (from lastmile-eval->tracing-auto-instrumentation[openai]) (0.16.0)\n",
                        "Requirement already satisfied: lastmile-utils in /opt/homebrew/Caskroom/miniconda/base/envs/eval/lib/python3.12/site-packages (from lastmile-eval->tracing-auto-instrumentation[openai]) (0.0.24)\n",
                        "Requirement already satisfied: evaluate==0.4.1 in /opt/homebrew/Caskroom/miniconda/base/envs/eval/lib/python3.12/site-packages (from lastmile-eval->tracing-auto-instrumentation[openai]) (0.4.1)\n",
                        "Requirement already satisfied: arize-phoenix-evals==0.5.0 in /opt/homebrew/Caskroom/miniconda/base/envs/eval/lib/python3.12/site-packages (from lastmile-eval->tracing-auto-instrumentation[openai]) (0.5.0)\n",
                        "Requirement already satisfied: instructor in /opt/homebrew/Caskroom/miniconda/base/envs/eval/lib/python3.12/site-packages (from lastmile-eval->tracing-auto-instrumentation[openai]) (1.3.2)\n",
                        "Requirement already satisfied: rouge-score in /opt/homebrew/Caskroom/miniconda/base/envs/eval/lib/python3.12/site-packages (from lastmile-eval->tracing-auto-instrumentation[openai]) (0.1.2)\n",
                        "Requirement already satisfied: opentelemetry-api in /opt/homebrew/Caskroom/miniconda/base/envs/eval/lib/python3.12/site-packages (from lastmile-eval->tracing-auto-instrumentation[openai]) (1.24.0)\n",
                        "Requirement already satisfied: opentelemetry-sdk in /opt/homebrew/Caskroom/miniconda/base/envs/eval/lib/python3.12/site-packages (from lastmile-eval->tracing-auto-instrumentation[openai]) (1.24.0)\n",
                        "Requirement already satisfied: opentelemetry-exporter-otlp in /opt/homebrew/Caskroom/miniconda/base/envs/eval/lib/python3.12/site-packages (from lastmile-eval->tracing-auto-instrumentation[openai]) (1.24.0)\n",
                        "Requirement already satisfied: opentelemetry-semantic-conventions in /opt/homebrew/Caskroom/miniconda/base/envs/eval/lib/python3.12/site-packages (from lastmile-eval->tracing-auto-instrumentation[openai]) (0.45b0)\n",
                        "Requirement already satisfied: openinference-semantic-conventions in /opt/homebrew/Caskroom/miniconda/base/envs/eval/lib/python3.12/site-packages (from lastmile-eval->tracing-auto-instrumentation[openai]) (0.1.6)\n",
                        "Requirement already satisfied: numpy<2,>=1.26.0 in /opt/homebrew/Caskroom/miniconda/base/envs/eval/lib/python3.12/site-packages (from pandas->tracing-auto-instrumentation[openai]) (1.26.4)\n",
                        "Requirement already satisfied: python-dateutil>=2.8.2 in /opt/homebrew/Caskroom/miniconda/base/envs/eval/lib/python3.12/site-packages (from pandas->tracing-auto-instrumentation[openai]) (2.9.0)\n",
                        "Requirement already satisfied: pytz>=2020.1 in /opt/homebrew/Caskroom/miniconda/base/envs/eval/lib/python3.12/site-packages (from pandas->tracing-auto-instrumentation[openai]) (2024.1)\n",
                        "Requirement already satisfied: tzdata>=2022.1 in /opt/homebrew/Caskroom/miniconda/base/envs/eval/lib/python3.12/site-packages (from pandas->tracing-auto-instrumentation[openai]) (2024.1)\n",
                        "Requirement already satisfied: typing-extensions<5,>=4.5 in /opt/homebrew/Caskroom/miniconda/base/envs/eval/lib/python3.12/site-packages (from arize-phoenix-evals==0.5.0->lastmile-eval->tracing-auto-instrumentation[openai]) (4.11.0)\n",
                        "Requirement already satisfied: datasets>=2.0.0 in /opt/homebrew/Caskroom/miniconda/base/envs/eval/lib/python3.12/site-packages (from evaluate==0.4.1->lastmile-eval->tracing-auto-instrumentation[openai]) (2.19.1)\n",
                        "Requirement already satisfied: dill in /opt/homebrew/Caskroom/miniconda/base/envs/eval/lib/python3.12/site-packages (from evaluate==0.4.1->lastmile-eval->tracing-auto-instrumentation[openai]) (0.3.8)\n",
                        "Requirement already satisfied: xxhash in /opt/homebrew/Caskroom/miniconda/base/envs/eval/lib/python3.12/site-packages (from evaluate==0.4.1->lastmile-eval->tracing-auto-instrumentation[openai]) (3.4.1)\n",
                        "Requirement already satisfied: multiprocess in /opt/homebrew/Caskroom/miniconda/base/envs/eval/lib/python3.12/site-packages (from evaluate==0.4.1->lastmile-eval->tracing-auto-instrumentation[openai]) (0.70.16)\n",
                        "Requirement already satisfied: fsspec>=2021.05.0 in /opt/homebrew/Caskroom/miniconda/base/envs/eval/lib/python3.12/site-packages (from fsspec[http]>=2021.05.0->evaluate==0.4.1->lastmile-eval->tracing-auto-instrumentation[openai]) (2024.3.1)\n",
                        "Requirement already satisfied: huggingface-hub>=0.7.0 in /opt/homebrew/Caskroom/miniconda/base/envs/eval/lib/python3.12/site-packages (from evaluate==0.4.1->lastmile-eval->tracing-auto-instrumentation[openai]) (0.23.2)\n",
                        "Requirement already satisfied: packaging in /opt/homebrew/Caskroom/miniconda/base/envs/eval/lib/python3.12/site-packages (from evaluate==0.4.1->lastmile-eval->tracing-auto-instrumentation[openai]) (24.0)\n",
                        "Requirement already satisfied: responses<0.19 in /opt/homebrew/Caskroom/miniconda/base/envs/eval/lib/python3.12/site-packages (from evaluate==0.4.1->lastmile-eval->tracing-auto-instrumentation[openai]) (0.18.0)\n",
                        "Requirement already satisfied: anyio<5,>=3.5.0 in /opt/homebrew/Caskroom/miniconda/base/envs/eval/lib/python3.12/site-packages (from openai->tracing-auto-instrumentation[openai]) (4.4.0)\n",
                        "Requirement already satisfied: distro<2,>=1.7.0 in /opt/homebrew/Caskroom/miniconda/base/envs/eval/lib/python3.12/site-packages (from openai->tracing-auto-instrumentation[openai]) (1.9.0)\n",
                        "Requirement already satisfied: httpx<1,>=0.23.0 in /opt/homebrew/Caskroom/miniconda/base/envs/eval/lib/python3.12/site-packages (from openai->tracing-auto-instrumentation[openai]) (0.27.0)\n",
                        "Requirement already satisfied: sniffio in /opt/homebrew/Caskroom/miniconda/base/envs/eval/lib/python3.12/site-packages (from openai->tracing-auto-instrumentation[openai]) (1.3.1)\n",
                        "Requirement already satisfied: idna>=2.8 in /opt/homebrew/Caskroom/miniconda/base/envs/eval/lib/python3.12/site-packages (from anyio<5,>=3.5.0->openai->tracing-auto-instrumentation[openai]) (3.7)\n",
                        "Requirement already satisfied: certifi in /opt/homebrew/Caskroom/miniconda/base/envs/eval/lib/python3.12/site-packages (from httpx<1,>=0.23.0->openai->tracing-auto-instrumentation[openai]) (2024.2.2)\n",
                        "Requirement already satisfied: httpcore==1.* in /opt/homebrew/Caskroom/miniconda/base/envs/eval/lib/python3.12/site-packages (from httpx<1,>=0.23.0->openai->tracing-auto-instrumentation[openai]) (1.0.5)\n",
                        "Requirement already satisfied: h11<0.15,>=0.13 in /opt/homebrew/Caskroom/miniconda/base/envs/eval/lib/python3.12/site-packages (from httpcore==1.*->httpx<1,>=0.23.0->openai->tracing-auto-instrumentation[openai]) (0.14.0)\n",
                        "Requirement already satisfied: annotated-types>=0.4.0 in /opt/homebrew/Caskroom/miniconda/base/envs/eval/lib/python3.12/site-packages (from pydantic>=2.1->lastmile-eval->tracing-auto-instrumentation[openai]) (0.7.0)\n",
                        "Requirement already satisfied: pydantic-core==2.18.3 in /opt/homebrew/Caskroom/miniconda/base/envs/eval/lib/python3.12/site-packages (from pydantic>=2.1->lastmile-eval->tracing-auto-instrumentation[openai]) (2.18.3)\n",
                        "Requirement already satisfied: six>=1.5 in /opt/homebrew/Caskroom/miniconda/base/envs/eval/lib/python3.12/site-packages (from python-dateutil>=2.8.2->pandas->tracing-auto-instrumentation[openai]) (1.16.0)\n",
                        "Requirement already satisfied: charset-normalizer<4,>=2 in /opt/homebrew/Caskroom/miniconda/base/envs/eval/lib/python3.12/site-packages (from requests->lastmile-eval->tracing-auto-instrumentation[openai]) (3.3.2)\n",
                        "Requirement already satisfied: urllib3<3,>=1.21.1 in /opt/homebrew/Caskroom/miniconda/base/envs/eval/lib/python3.12/site-packages (from requests->lastmile-eval->tracing-auto-instrumentation[openai]) (2.2.1)\n",
                        "Requirement already satisfied: aiohttp<4.0.0,>=3.9.1 in /opt/homebrew/Caskroom/miniconda/base/envs/eval/lib/python3.12/site-packages (from instructor->lastmile-eval->tracing-auto-instrumentation[openai]) (3.9.5)\n",
                        "Requirement already satisfied: docstring-parser<0.17,>=0.16 in /opt/homebrew/Caskroom/miniconda/base/envs/eval/lib/python3.12/site-packages (from instructor->lastmile-eval->tracing-auto-instrumentation[openai]) (0.16)\n",
                        "Requirement already satisfied: rich<14.0.0,>=13.7.0 in /opt/homebrew/Caskroom/miniconda/base/envs/eval/lib/python3.12/site-packages (from instructor->lastmile-eval->tracing-auto-instrumentation[openai]) (13.7.1)\n",
                        "Requirement already satisfied: tenacity<9.0.0,>=8.2.3 in /opt/homebrew/Caskroom/miniconda/base/envs/eval/lib/python3.12/site-packages (from instructor->lastmile-eval->tracing-auto-instrumentation[openai]) (8.3.0)\n",
                        "Requirement already satisfied: typer<1.0.0,>=0.9.0 in /opt/homebrew/Caskroom/miniconda/base/envs/eval/lib/python3.12/site-packages (from instructor->lastmile-eval->tracing-auto-instrumentation[openai]) (0.12.3)\n",
                        "Requirement already satisfied: black==23.11.0 in /opt/homebrew/Caskroom/miniconda/base/envs/eval/lib/python3.12/site-packages (from lastmile-utils->lastmile-eval->tracing-auto-instrumentation[openai]) (23.11.0)\n",
                        "Requirement already satisfied: chardet==5.2.0 in /opt/homebrew/Caskroom/miniconda/base/envs/eval/lib/python3.12/site-packages (from lastmile-utils->lastmile-eval->tracing-auto-instrumentation[openai]) (5.2.0)\n",
                        "Requirement already satisfied: flake8==6.1.0 in /opt/homebrew/Caskroom/miniconda/base/envs/eval/lib/python3.12/site-packages (from lastmile-utils->lastmile-eval->tracing-auto-instrumentation[openai]) (6.1.0)\n",
                        "Requirement already satisfied: isort==5.12.0 in /opt/homebrew/Caskroom/miniconda/base/envs/eval/lib/python3.12/site-packages (from lastmile-utils->lastmile-eval->tracing-auto-instrumentation[openai]) (5.12.0)\n",
                        "Requirement already satisfied: pylint==3.0.2 in /opt/homebrew/Caskroom/miniconda/base/envs/eval/lib/python3.12/site-packages (from lastmile-utils->lastmile-eval->tracing-auto-instrumentation[openai]) (3.0.2)\n",
                        "Requirement already satisfied: pyright==1.1.335 in /opt/homebrew/Caskroom/miniconda/base/envs/eval/lib/python3.12/site-packages (from lastmile-utils->lastmile-eval->tracing-auto-instrumentation[openai]) (1.1.335)\n",
                        "Requirement already satisfied: pytest==7.4.3 in /opt/homebrew/Caskroom/miniconda/base/envs/eval/lib/python3.12/site-packages (from lastmile-utils->lastmile-eval->tracing-auto-instrumentation[openai]) (7.4.3)\n",
                        "Requirement already satisfied: autoflake==2.2.1 in /opt/homebrew/Caskroom/miniconda/base/envs/eval/lib/python3.12/site-packages (from lastmile-utils->lastmile-eval->tracing-auto-instrumentation[openai]) (2.2.1)\n",
                        "Requirement already satisfied: pyflakes>=3.0.0 in /opt/homebrew/Caskroom/miniconda/base/envs/eval/lib/python3.12/site-packages (from autoflake==2.2.1->lastmile-utils->lastmile-eval->tracing-auto-instrumentation[openai]) (3.1.0)\n",
                        "Requirement already satisfied: click>=8.0.0 in /opt/homebrew/Caskroom/miniconda/base/envs/eval/lib/python3.12/site-packages (from black==23.11.0->lastmile-utils->lastmile-eval->tracing-auto-instrumentation[openai]) (8.1.7)\n",
                        "Requirement already satisfied: mypy-extensions>=0.4.3 in /opt/homebrew/Caskroom/miniconda/base/envs/eval/lib/python3.12/site-packages (from black==23.11.0->lastmile-utils->lastmile-eval->tracing-auto-instrumentation[openai]) (1.0.0)\n",
                        "Requirement already satisfied: pathspec>=0.9.0 in /opt/homebrew/Caskroom/miniconda/base/envs/eval/lib/python3.12/site-packages (from black==23.11.0->lastmile-utils->lastmile-eval->tracing-auto-instrumentation[openai]) (0.12.1)\n",
                        "Requirement already satisfied: platformdirs>=2 in /opt/homebrew/Caskroom/miniconda/base/envs/eval/lib/python3.12/site-packages (from black==23.11.0->lastmile-utils->lastmile-eval->tracing-auto-instrumentation[openai]) (4.2.2)\n",
                        "Requirement already satisfied: mccabe<0.8.0,>=0.7.0 in /opt/homebrew/Caskroom/miniconda/base/envs/eval/lib/python3.12/site-packages (from flake8==6.1.0->lastmile-utils->lastmile-eval->tracing-auto-instrumentation[openai]) (0.7.0)\n",
                        "Requirement already satisfied: pycodestyle<2.12.0,>=2.11.0 in /opt/homebrew/Caskroom/miniconda/base/envs/eval/lib/python3.12/site-packages (from flake8==6.1.0->lastmile-utils->lastmile-eval->tracing-auto-instrumentation[openai]) (2.11.1)\n",
                        "Requirement already satisfied: astroid<=3.1.0-dev0,>=3.0.1 in /opt/homebrew/Caskroom/miniconda/base/envs/eval/lib/python3.12/site-packages (from pylint==3.0.2->lastmile-utils->lastmile-eval->tracing-auto-instrumentation[openai]) (3.0.3)\n",
                        "Requirement already satisfied: tomlkit>=0.10.1 in /opt/homebrew/Caskroom/miniconda/base/envs/eval/lib/python3.12/site-packages (from pylint==3.0.2->lastmile-utils->lastmile-eval->tracing-auto-instrumentation[openai]) (0.12.5)\n",
                        "Requirement already satisfied: nodeenv>=1.6.0 in /opt/homebrew/Caskroom/miniconda/base/envs/eval/lib/python3.12/site-packages (from pyright==1.1.335->lastmile-utils->lastmile-eval->tracing-auto-instrumentation[openai]) (1.8.0)\n",
                        "Requirement already satisfied: iniconfig in /opt/homebrew/Caskroom/miniconda/base/envs/eval/lib/python3.12/site-packages (from pytest==7.4.3->lastmile-utils->lastmile-eval->tracing-auto-instrumentation[openai]) (2.0.0)\n",
                        "Requirement already satisfied: pluggy<2.0,>=0.12 in /opt/homebrew/Caskroom/miniconda/base/envs/eval/lib/python3.12/site-packages (from pytest==7.4.3->lastmile-utils->lastmile-eval->tracing-auto-instrumentation[openai]) (1.5.0)\n",
                        "Requirement already satisfied: deprecated>=1.2.6 in /opt/homebrew/Caskroom/miniconda/base/envs/eval/lib/python3.12/site-packages (from opentelemetry-api->lastmile-eval->tracing-auto-instrumentation[openai]) (1.2.14)\n",
                        "Requirement already satisfied: importlib-metadata<=7.0,>=6.0 in /opt/homebrew/Caskroom/miniconda/base/envs/eval/lib/python3.12/site-packages (from opentelemetry-api->lastmile-eval->tracing-auto-instrumentation[openai]) (7.0.0)\n",
                        "Requirement already satisfied: opentelemetry-exporter-otlp-proto-grpc==1.24.0 in /opt/homebrew/Caskroom/miniconda/base/envs/eval/lib/python3.12/site-packages (from opentelemetry-exporter-otlp->lastmile-eval->tracing-auto-instrumentation[openai]) (1.24.0)\n",
                        "Requirement already satisfied: opentelemetry-exporter-otlp-proto-http==1.24.0 in /opt/homebrew/Caskroom/miniconda/base/envs/eval/lib/python3.12/site-packages (from opentelemetry-exporter-otlp->lastmile-eval->tracing-auto-instrumentation[openai]) (1.24.0)\n",
                        "Requirement already satisfied: googleapis-common-protos~=1.52 in /opt/homebrew/Caskroom/miniconda/base/envs/eval/lib/python3.12/site-packages (from opentelemetry-exporter-otlp-proto-grpc==1.24.0->opentelemetry-exporter-otlp->lastmile-eval->tracing-auto-instrumentation[openai]) (1.63.0)\n",
                        "Requirement already satisfied: grpcio<2.0.0,>=1.0.0 in /opt/homebrew/Caskroom/miniconda/base/envs/eval/lib/python3.12/site-packages (from opentelemetry-exporter-otlp-proto-grpc==1.24.0->opentelemetry-exporter-otlp->lastmile-eval->tracing-auto-instrumentation[openai]) (1.64.0)\n",
                        "Requirement already satisfied: opentelemetry-exporter-otlp-proto-common==1.24.0 in /opt/homebrew/Caskroom/miniconda/base/envs/eval/lib/python3.12/site-packages (from opentelemetry-exporter-otlp-proto-grpc==1.24.0->opentelemetry-exporter-otlp->lastmile-eval->tracing-auto-instrumentation[openai]) (1.24.0)\n",
                        "Requirement already satisfied: opentelemetry-proto==1.24.0 in /opt/homebrew/Caskroom/miniconda/base/envs/eval/lib/python3.12/site-packages (from opentelemetry-exporter-otlp-proto-grpc==1.24.0->opentelemetry-exporter-otlp->lastmile-eval->tracing-auto-instrumentation[openai]) (1.24.0)\n",
                        "Requirement already satisfied: protobuf<5.0,>=3.19 in /opt/homebrew/Caskroom/miniconda/base/envs/eval/lib/python3.12/site-packages (from opentelemetry-proto==1.24.0->opentelemetry-exporter-otlp-proto-grpc==1.24.0->opentelemetry-exporter-otlp->lastmile-eval->tracing-auto-instrumentation[openai]) (4.25.3)\n",
                        "Requirement already satisfied: absl-py in /opt/homebrew/Caskroom/miniconda/base/envs/eval/lib/python3.12/site-packages (from rouge-score->lastmile-eval->tracing-auto-instrumentation[openai]) (2.1.0)\n",
                        "Requirement already satisfied: nltk in /opt/homebrew/Caskroom/miniconda/base/envs/eval/lib/python3.12/site-packages (from rouge-score->lastmile-eval->tracing-auto-instrumentation[openai]) (3.8.1)\n",
                        "Requirement already satisfied: aiosignal>=1.1.2 in /opt/homebrew/Caskroom/miniconda/base/envs/eval/lib/python3.12/site-packages (from aiohttp<4.0.0,>=3.9.1->instructor->lastmile-eval->tracing-auto-instrumentation[openai]) (1.3.1)\n",
                        "Requirement already satisfied: attrs>=17.3.0 in /opt/homebrew/Caskroom/miniconda/base/envs/eval/lib/python3.12/site-packages (from aiohttp<4.0.0,>=3.9.1->instructor->lastmile-eval->tracing-auto-instrumentation[openai]) (23.2.0)\n",
                        "Requirement already satisfied: frozenlist>=1.1.1 in /opt/homebrew/Caskroom/miniconda/base/envs/eval/lib/python3.12/site-packages (from aiohttp<4.0.0,>=3.9.1->instructor->lastmile-eval->tracing-auto-instrumentation[openai]) (1.4.1)\n",
                        "Requirement already satisfied: multidict<7.0,>=4.5 in /opt/homebrew/Caskroom/miniconda/base/envs/eval/lib/python3.12/site-packages (from aiohttp<4.0.0,>=3.9.1->instructor->lastmile-eval->tracing-auto-instrumentation[openai]) (6.0.5)\n",
                        "Requirement already satisfied: yarl<2.0,>=1.0 in /opt/homebrew/Caskroom/miniconda/base/envs/eval/lib/python3.12/site-packages (from aiohttp<4.0.0,>=3.9.1->instructor->lastmile-eval->tracing-auto-instrumentation[openai]) (1.9.4)\n",
                        "Requirement already satisfied: filelock in /opt/homebrew/Caskroom/miniconda/base/envs/eval/lib/python3.12/site-packages (from datasets>=2.0.0->evaluate==0.4.1->lastmile-eval->tracing-auto-instrumentation[openai]) (3.14.0)\n",
                        "Requirement already satisfied: pyarrow-hotfix in /opt/homebrew/Caskroom/miniconda/base/envs/eval/lib/python3.12/site-packages (from datasets>=2.0.0->evaluate==0.4.1->lastmile-eval->tracing-auto-instrumentation[openai]) (0.6)\n",
                        "Requirement already satisfied: pyyaml>=5.1 in /opt/homebrew/Caskroom/miniconda/base/envs/eval/lib/python3.12/site-packages (from datasets>=2.0.0->evaluate==0.4.1->lastmile-eval->tracing-auto-instrumentation[openai]) (6.0.1)\n",
                        "Requirement already satisfied: wrapt<2,>=1.10 in /opt/homebrew/Caskroom/miniconda/base/envs/eval/lib/python3.12/site-packages (from deprecated>=1.2.6->opentelemetry-api->lastmile-eval->tracing-auto-instrumentation[openai]) (1.16.0)\n",
                        "Requirement already satisfied: zipp>=0.5 in /opt/homebrew/Caskroom/miniconda/base/envs/eval/lib/python3.12/site-packages (from importlib-metadata<=7.0,>=6.0->opentelemetry-api->lastmile-eval->tracing-auto-instrumentation[openai]) (3.17.0)\n",
                        "Requirement already satisfied: markdown-it-py>=2.2.0 in /opt/homebrew/Caskroom/miniconda/base/envs/eval/lib/python3.12/site-packages (from rich<14.0.0,>=13.7.0->instructor->lastmile-eval->tracing-auto-instrumentation[openai]) (3.0.0)\n",
                        "Requirement already satisfied: pygments<3.0.0,>=2.13.0 in /opt/homebrew/Caskroom/miniconda/base/envs/eval/lib/python3.12/site-packages (from rich<14.0.0,>=13.7.0->instructor->lastmile-eval->tracing-auto-instrumentation[openai]) (2.18.0)\n",
                        "Requirement already satisfied: shellingham>=1.3.0 in /opt/homebrew/Caskroom/miniconda/base/envs/eval/lib/python3.12/site-packages (from typer<1.0.0,>=0.9.0->instructor->lastmile-eval->tracing-auto-instrumentation[openai]) (1.5.4)\n",
                        "Requirement already satisfied: joblib in /opt/homebrew/Caskroom/miniconda/base/envs/eval/lib/python3.12/site-packages (from nltk->rouge-score->lastmile-eval->tracing-auto-instrumentation[openai]) (1.4.2)\n",
                        "Requirement already satisfied: regex>=2021.8.3 in /opt/homebrew/Caskroom/miniconda/base/envs/eval/lib/python3.12/site-packages (from nltk->rouge-score->lastmile-eval->tracing-auto-instrumentation[openai]) (2024.5.15)\n",
                        "Requirement already satisfied: mdurl~=0.1 in /opt/homebrew/Caskroom/miniconda/base/envs/eval/lib/python3.12/site-packages (from markdown-it-py>=2.2.0->rich<14.0.0,>=13.7.0->instructor->lastmile-eval->tracing-auto-instrumentation[openai]) (0.1.2)\n",
                        "Requirement already satisfied: setuptools in /opt/homebrew/Caskroom/miniconda/base/envs/eval/lib/python3.12/site-packages (from nodeenv>=1.6.0->pyright==1.1.335->lastmile-utils->lastmile-eval->tracing-auto-instrumentation[openai]) (70.0.0)\n"
                    ]
                }
            ],
            "source": [
                "!pip install scipy --quiet\n",
                "!pip install tenacity --quiet\n",
                "!pip install tiktoken --quiet\n",
                "!pip install termcolor --quiet\n",
                "!pip install openai --quiet\n",
                "!pip install \"tracing-auto-instrumentation[openai]\""
            ]
        },
        {
            "cell_type": "markdown",
            "id": "3108b91b",
            "metadata": {},
            "source": [
                "Setting up the OpenAI Wrapper is as easy as the following 5 lines."
            ]
        },
        {
            "cell_type": "code",
            "execution_count": 2,
            "id": "dab872c5",
            "metadata": {
                "ExecuteTime": {
                    "end_time": "2024-05-15T17:45:23.563149Z",
                    "start_time": "2024-05-15T17:45:22.925978Z"
                }
            },
            "outputs": [
                {
                    "name": "stderr",
                    "output_type": "stream",
                    "text": [
                        "/opt/homebrew/Caskroom/miniconda/base/envs/eval/lib/python3.12/site-packages/tqdm/auto.py:21: TqdmWarning: IProgress not found. Please update jupyter and ipywidgets. See https://ipywidgets.readthedocs.io/en/stable/user_install.html\n",
                        "  from .autonotebook import tqdm as notebook_tqdm\n",
                        "2024-05-29 17:17:17,296 - Starting new HTTPS connection (1): lastmileai.dev:443\n",
                        "2024-05-29 17:17:17,373 - https://lastmileai.dev:443 \"GET /api/evaluation_projects/list?name=OpenAI+Function+Calling HTTP/1.1\" 200 358\n",
                        "2024-05-29 17:17:17,374 - load_ssl_context verify=True cert=None trust_env=True http2=False\n",
                        "2024-05-29 17:17:17,375 - load_verify_locations cafile='/opt/homebrew/Caskroom/miniconda/base/envs/eval/lib/python3.12/site-packages/certifi/cacert.pem'\n"
                    ]
                }
            ],
            "source": [
                "import openai\n",
                "\n",
                "from lastmile_eval.rag.debugger.api.tracing import LastMileTracer\n",
                "\n",
                "from tracing_auto_instrumentation.openai import openai as openai_tracing\n",
                "from lastmile_eval.rag.debugger.tracing.sdk import get_lastmile_tracer\n",
                "\n",
                "tracer: LastMileTracer = get_lastmile_tracer(\n",
                "    tracer_name=\"OpenAI Function Calling\",\n",
                "\n",
                ")\n",
                "client = openai_tracing.wrap(openai.OpenAI(), tracer)\n"
            ]
        },
        {
            "cell_type": "code",
            "execution_count": 3,
            "id": "1251594d",
            "metadata": {},
            "outputs": [],
            "source": [
                "# OpenAI Setup\n",
                "from tenacity import retry, stop_after_attempt, wait_random_exponential\n",
                "from termcolor import colored\n",
                "import json\n",
                "\n",
                "import openai\n",
                "\n",
                "GPT_MODEL = \"gpt-4o\""
            ]
        },
        {
            "attachments": {},
            "cell_type": "markdown",
            "id": "69ee6a93",
            "metadata": {},
            "source": [
                "### Utilities\n",
                "\n",
                "First let's define a few utilities for making calls to the Chat Completions API and for maintaining and keeping track of the conversation state."
            ]
        },
        {
            "cell_type": "code",
            "execution_count": 4,
            "id": "745ceec5",
            "metadata": {
                "ExecuteTime": {
                    "end_time": "2024-05-15T17:45:28.816345Z",
                    "start_time": "2024-05-15T17:45:28.814155Z"
                }
            },
            "outputs": [],
            "source": [
                "@retry(wait=wait_random_exponential(multiplier=1, max=40), stop=stop_after_attempt(3))\n",
                "def chat_completion_request(messages, tools=None, tool_choice=None, model=GPT_MODEL):\n",
                "    try:\n",
                "        response = client.chat.completions.create(\n",
                "            model=model,\n",
                "            messages=messages,\n",
                "            tools=tools,\n",
                "            tool_choice=tool_choice,\n",
                "        )\n",
                "        print(\"ChatCompletion response:\", response)\n",
                "        return response\n",
                "    except Exception as e:\n",
                "        print(\"Unable to generate ChatCompletion response\")\n",
                "        print(f\"Exception: {e}\")\n",
                "        return e\n"
            ]
        },
        {
            "cell_type": "code",
            "execution_count": 5,
            "id": "c4d1c99f",
            "metadata": {
                "ExecuteTime": {
                    "end_time": "2024-05-15T17:45:30.003910Z",
                    "start_time": "2024-05-15T17:45:30.001259Z"
                }
            },
            "outputs": [],
            "source": [
                "def pretty_print_conversation(messages):\n",
                "    role_to_color = {\n",
                "        \"system\": \"red\",\n",
                "        \"user\": \"green\",\n",
                "        \"assistant\": \"blue\",\n",
                "        \"function\": \"magenta\",\n",
                "    }\n",
                "    \n",
                "    for message in messages:\n",
                "        if message[\"role\"] == \"system\":\n",
                "            print(colored(f\"system: {message['content']}\\n\", role_to_color[message[\"role\"]]))\n",
                "        elif message[\"role\"] == \"user\":\n",
                "            print(colored(f\"user: {message['content']}\\n\", role_to_color[message[\"role\"]]))\n",
                "        elif message[\"role\"] == \"assistant\" and message.get(\"function_call\"):\n",
                "            print(colored(f\"assistant: {message['function_call']}\\n\", role_to_color[message[\"role\"]]))\n",
                "        elif message[\"role\"] == \"assistant\" and not message.get(\"function_call\"):\n",
                "            print(colored(f\"assistant: {message['content']}\\n\", role_to_color[message[\"role\"]]))\n",
                "        elif message[\"role\"] == \"function\":\n",
                "            print(colored(f\"function ({message['name']}): {message['content']}\\n\", role_to_color[message[\"role\"]]))\n"
            ]
        },
        {
            "attachments": {},
            "cell_type": "markdown",
            "id": "29d4e02b",
            "metadata": {},
            "source": [
                "### Basic concepts\n",
                "\n",
                "Let's create some function specifications to interface with a hypothetical weather API. We'll pass these function specification to the Chat Completions API in order to generate function arguments that adhere to the specification."
            ]
        },
        {
            "cell_type": "code",
            "execution_count": 6,
            "id": "d2e25069",
            "metadata": {
                "ExecuteTime": {
                    "end_time": "2024-05-15T17:45:31.794879Z",
                    "start_time": "2024-05-15T17:45:31.792617Z"
                }
            },
            "outputs": [],
            "source": [
                "tools = [\n",
                "    {\n",
                "        \"type\": \"function\",\n",
                "        \"function\": {\n",
                "            \"name\": \"get_current_weather\",\n",
                "            \"description\": \"Get the current weather\",\n",
                "            \"parameters\": {\n",
                "                \"type\": \"object\",\n",
                "                \"properties\": {\n",
                "                    \"location\": {\n",
                "                        \"type\": \"string\",\n",
                "                        \"description\": \"The city and state, e.g. San Francisco, CA\",\n",
                "                    },\n",
                "                    \"format\": {\n",
                "                        \"type\": \"string\",\n",
                "                        \"enum\": [\"celsius\", \"fahrenheit\"],\n",
                "                        \"description\": \"The temperature unit to use. Infer this from the users location.\",\n",
                "                    },\n",
                "                },\n",
                "                \"required\": [\"location\", \"format\"],\n",
                "            },\n",
                "        }\n",
                "    },\n",
                "    {\n",
                "        \"type\": \"function\",\n",
                "        \"function\": {\n",
                "            \"name\": \"get_n_day_weather_forecast\",\n",
                "            \"description\": \"Get an N-day weather forecast\",\n",
                "            \"parameters\": {\n",
                "                \"type\": \"object\",\n",
                "                \"properties\": {\n",
                "                    \"location\": {\n",
                "                        \"type\": \"string\",\n",
                "                        \"description\": \"The city and state, e.g. San Francisco, CA\",\n",
                "                    },\n",
                "                    \"format\": {\n",
                "                        \"type\": \"string\",\n",
                "                        \"enum\": [\"celsius\", \"fahrenheit\"],\n",
                "                        \"description\": \"The temperature unit to use. Infer this from the users location.\",\n",
                "                    },\n",
                "                    \"num_days\": {\n",
                "                        \"type\": \"integer\",\n",
                "                        \"description\": \"The number of days to forecast\",\n",
                "                    }\n",
                "                },\n",
                "                \"required\": [\"location\", \"format\", \"num_days\"]\n",
                "            },\n",
                "        }\n",
                "    },\n",
                "]"
            ]
        },
        {
            "attachments": {},
            "cell_type": "markdown",
            "id": "bfc39899",
            "metadata": {},
            "source": [
                "If we prompt the model about the current weather, it will respond with some clarifying questions."
            ]
        },
        {
            "cell_type": "code",
            "execution_count": 7,
            "id": "518d6827",
            "metadata": {
                "ExecuteTime": {
                    "end_time": "2024-05-15T17:45:35.282310Z",
                    "start_time": "2024-05-15T17:45:33.861496Z"
                }
            },
            "outputs": [
                {
                    "name": "stdout",
                    "output_type": "stream",
                    "text": [
                        "ChatCompletion response: <generator object ChatCompletionWrapper.create at 0x144c625a0>\n"
                    ]
                },
                {
                    "ename": "AttributeError",
                    "evalue": "'generator' object has no attribute 'choices'",
                    "output_type": "error",
                    "traceback": [
                        "\u001b[0;31m---------------------------------------------------------------------------\u001b[0m",
                        "\u001b[0;31mAttributeError\u001b[0m                            Traceback (most recent call last)",
                        "Cell \u001b[0;32mIn[7], line 7\u001b[0m\n\u001b[1;32m      3\u001b[0m messages\u001b[38;5;241m.\u001b[39mappend({\u001b[38;5;124m\"\u001b[39m\u001b[38;5;124mrole\u001b[39m\u001b[38;5;124m\"\u001b[39m: \u001b[38;5;124m\"\u001b[39m\u001b[38;5;124muser\u001b[39m\u001b[38;5;124m\"\u001b[39m, \u001b[38;5;124m\"\u001b[39m\u001b[38;5;124mcontent\u001b[39m\u001b[38;5;124m\"\u001b[39m: \u001b[38;5;124m\"\u001b[39m\u001b[38;5;124mWhat\u001b[39m\u001b[38;5;124m'\u001b[39m\u001b[38;5;124ms the weather like today\u001b[39m\u001b[38;5;124m\"\u001b[39m})\n\u001b[1;32m      4\u001b[0m chat_response \u001b[38;5;241m=\u001b[39m chat_completion_request(\n\u001b[1;32m      5\u001b[0m     messages, tools\u001b[38;5;241m=\u001b[39mtools\n\u001b[1;32m      6\u001b[0m )\n\u001b[0;32m----> 7\u001b[0m assistant_message \u001b[38;5;241m=\u001b[39m \u001b[43mchat_response\u001b[49m\u001b[38;5;241;43m.\u001b[39;49m\u001b[43mchoices\u001b[49m[\u001b[38;5;241m0\u001b[39m]\u001b[38;5;241m.\u001b[39mmessage\n\u001b[1;32m      8\u001b[0m messages\u001b[38;5;241m.\u001b[39mappend(assistant_message)\n\u001b[1;32m      9\u001b[0m assistant_message\n",
                        "\u001b[0;31mAttributeError\u001b[0m: 'generator' object has no attribute 'choices'"
                    ]
                }
            ],
            "source": [
                "messages = []\n",
                "messages.append({\"role\": \"system\", \"content\": \"Don't make assumptions about what values to plug into functions. Ask for clarification if a user request is ambiguous.\"})\n",
                "messages.append({\"role\": \"user\", \"content\": \"What's the weather like today\"})\n",
                "chat_response = chat_completion_request(\n",
                "    messages, tools=tools\n",
                ")\n",
                "assistant_message = chat_response.choices[0].message\n",
                "messages.append(assistant_message)\n",
                "assistant_message\n"
            ]
        },
        {
            "attachments": {},
            "cell_type": "markdown",
            "id": "4c999375",
            "metadata": {},
            "source": [
                "Once we provide the missing information, it will generate the appropriate function arguments for us."
            ]
        },
        {
            "cell_type": "code",
            "execution_count": null,
            "id": "23c42a6e",
            "metadata": {
                "ExecuteTime": {
                    "end_time": "2024-05-15T17:45:43.553403Z",
                    "start_time": "2024-05-15T17:45:42.205590Z"
                }
            },
            "outputs": [],
            "source": [
                "messages.append({\"role\": \"user\", \"content\": \"I'm in Glasgow, Scotland.\"})\n",
                "chat_response = chat_completion_request(\n",
                "    messages, tools=tools\n",
                ")\n",
                "assistant_message = chat_response.choices[0].message\n",
                "messages.append(assistant_message)\n",
                "assistant_message\n"
            ]
        },
        {
            "attachments": {},
            "cell_type": "markdown",
            "id": "c14d4762",
            "metadata": {},
            "source": [
                "By prompting it differently, we can get it to target the other function we've told it about."
            ]
        },
        {
            "cell_type": "code",
            "execution_count": null,
            "id": "fa232e54",
            "metadata": {
                "ExecuteTime": {
                    "end_time": "2024-05-15T17:45:47.090638Z",
                    "start_time": "2024-05-15T17:45:46.302475Z"
                }
            },
            "outputs": [],
            "source": [
                "messages = []\n",
                "messages.append({\"role\": \"system\", \"content\": \"Don't make assumptions about what values to plug into functions. Ask for clarification if a user request is ambiguous.\"})\n",
                "messages.append({\"role\": \"user\", \"content\": \"what is the weather going to be like in Glasgow, Scotland over the next x days\"})\n",
                "chat_response = chat_completion_request(\n",
                "    messages, tools=tools\n",
                ")\n",
                "assistant_message = chat_response.choices[0].message\n",
                "messages.append(assistant_message)\n",
                "assistant_message\n"
            ]
        },
        {
            "attachments": {},
            "cell_type": "markdown",
            "id": "6172ddac",
            "metadata": {},
            "source": [
                "Once again, the model is asking us for clarification because it doesn't have enough information yet. In this case it already knows the location for the forecast, but it needs to know how many days are required in the forecast."
            ]
        },
        {
            "cell_type": "code",
            "execution_count": null,
            "id": "c7d8a543",
            "metadata": {
                "ExecuteTime": {
                    "end_time": "2024-05-15T17:45:49.790820Z",
                    "start_time": "2024-05-15T17:45:48.847752Z"
                }
            },
            "outputs": [],
            "source": [
                "messages.append({\"role\": \"user\", \"content\": \"5 days\"})\n",
                "chat_response = chat_completion_request(\n",
                "    messages, tools=tools\n",
                ")\n",
                "chat_response.choices[0]\n"
            ]
        },
        {
            "attachments": {},
            "cell_type": "markdown",
            "id": "4b758a0a",
            "metadata": {},
            "source": [
                "#### Forcing the use of specific functions or no function"
            ]
        },
        {
            "attachments": {},
            "cell_type": "markdown",
            "id": "412f79ba",
            "metadata": {},
            "source": [
                "We can force the model to use a specific function, for example get_n_day_weather_forecast by using the function_call argument. By doing so, we force the model to make assumptions about how to use it."
            ]
        },
        {
            "cell_type": "code",
            "execution_count": null,
            "id": "559371b7",
            "metadata": {
                "ExecuteTime": {
                    "end_time": "2024-05-15T17:45:54.194255Z",
                    "start_time": "2024-05-15T17:45:52.975746Z"
                }
            },
            "outputs": [],
            "source": [
                "# in this cell we force the model to use get_n_day_weather_forecast\n",
                "messages = []\n",
                "messages.append({\"role\": \"system\", \"content\": \"Don't make assumptions about what values to plug into functions. Ask for clarification if a user request is ambiguous.\"})\n",
                "messages.append({\"role\": \"user\", \"content\": \"Give me a weather report for Toronto, Canada.\"})\n",
                "chat_response = chat_completion_request(\n",
                "    messages, tools=tools, tool_choice={\"type\": \"function\", \"function\": {\"name\": \"get_n_day_weather_forecast\"}}\n",
                ")\n",
                "chat_response.choices[0].message"
            ]
        },
        {
            "cell_type": "code",
            "execution_count": null,
            "id": "a7ab0f58",
            "metadata": {
                "ExecuteTime": {
                    "end_time": "2024-05-15T17:45:56.841233Z",
                    "start_time": "2024-05-15T17:45:55.433397Z"
                }
            },
            "outputs": [],
            "source": [
                "# if we don't force the model to use get_n_day_weather_forecast it may not\n",
                "messages = []\n",
                "messages.append({\"role\": \"system\", \"content\": \"Don't make assumptions about what values to plug into functions. Ask for clarification if a user request is ambiguous.\"})\n",
                "messages.append({\"role\": \"user\", \"content\": \"Give me a weather report for Toronto, Canada.\"})\n",
                "chat_response = chat_completion_request(\n",
                "    messages, tools=tools\n",
                ")\n",
                "chat_response.choices[0].message"
            ]
        },
        {
            "attachments": {},
            "cell_type": "markdown",
            "id": "3bd70e48",
            "metadata": {},
            "source": [
                "We can also force the model to not use a function at all. By doing so we prevent it from producing a proper function call."
            ]
        },
        {
            "cell_type": "code",
            "execution_count": null,
            "id": "acfe54e6",
            "metadata": {
                "ExecuteTime": {
                    "end_time": "2024-05-15T17:45:59.800346Z",
                    "start_time": "2024-05-15T17:45:59.289603Z"
                }
            },
            "outputs": [],
            "source": [
                "messages = []\n",
                "messages.append({\"role\": \"system\", \"content\": \"Don't make assumptions about what values to plug into functions. Ask for clarification if a user request is ambiguous.\"})\n",
                "messages.append({\"role\": \"user\", \"content\": \"Give me the current weather (use Celcius) for Toronto, Canada.\"})\n",
                "chat_response = chat_completion_request(\n",
                "    messages, tools=tools, tool_choice=\"none\"\n",
                ")\n",
                "chat_response.choices[0].message\n"
            ]
        },
        {
            "cell_type": "markdown",
            "id": "b616353b",
            "metadata": {},
            "source": [
                "### Parallel Function Calling\n",
                "\n",
                "Newer models such as gpt-4o or gpt-3.5-turbo can call multiple functions in one turn."
            ]
        },
        {
            "cell_type": "code",
            "execution_count": null,
            "id": "380eeb68",
            "metadata": {
                "ExecuteTime": {
                    "end_time": "2024-05-15T17:46:04.048553Z",
                    "start_time": "2024-05-15T17:46:01.273501Z"
                }
            },
            "outputs": [],
            "source": [
                "messages = []\n",
                "messages.append({\"role\": \"system\", \"content\": \"Don't make assumptions about what values to plug into functions. Ask for clarification if a user request is ambiguous.\"})\n",
                "messages.append({\"role\": \"user\", \"content\": \"what is the weather going to be like in San Francisco and Glasgow over the next 4 days\"})\n",
                "chat_response = chat_completion_request(\n",
                "    messages, tools=tools, model=GPT_MODEL\n",
                ")\n",
                "\n",
                "assistant_message = chat_response.choices[0].message.tool_calls\n",
                "assistant_message"
            ]
        },
        {
            "attachments": {},
            "cell_type": "markdown",
            "id": "b4482aee",
            "metadata": {},
            "source": [
                "## How to call functions with model generated arguments\n",
                "\n",
                "In our next example, we'll demonstrate how to execute functions whose inputs are model-generated, and use this to implement an agent that can answer questions for us about a database. For simplicity we'll use the [Chinook sample database](https://www.sqlitetutorial.net/sqlite-sample-database/).\n",
                "\n",
                "*Note:* SQL generation can be high-risk in a production environment since models are not perfectly reliable at generating correct SQL."
            ]
        },
        {
            "attachments": {},
            "cell_type": "markdown",
            "id": "f7654fef",
            "metadata": {},
            "source": [
                "### Specifying a function to execute SQL queries\n",
                "\n",
                "First let's define some helpful utility functions to extract data from a SQLite database."
            ]
        },
        {
            "cell_type": "code",
            "execution_count": null,
            "id": "3230b819",
            "metadata": {},
            "outputs": [],
            "source": [
                "!mkdir data"
            ]
        },
        {
            "cell_type": "code",
            "execution_count": null,
            "id": "30f6b60e",
            "metadata": {
                "ExecuteTime": {
                    "end_time": "2024-05-15T17:46:07.270851Z",
                    "start_time": "2024-05-15T17:46:07.265545Z"
                }
            },
            "outputs": [],
            "source": [
                "import sqlite3\n",
                "\n",
                "conn = sqlite3.connect(\"data/Chinook.db\")\n",
                "print(\"Opened database successfully\")"
            ]
        },
        {
            "cell_type": "code",
            "execution_count": null,
            "id": "abec0214",
            "metadata": {
                "ExecuteTime": {
                    "end_time": "2024-05-15T17:46:09.345308Z",
                    "start_time": "2024-05-15T17:46:09.342998Z"
                }
            },
            "outputs": [],
            "source": [
                "def get_table_names(conn):\n",
                "    \"\"\"Return a list of table names.\"\"\"\n",
                "    table_names = []\n",
                "    tables = conn.execute(\"SELECT name FROM sqlite_master WHERE type='table';\")\n",
                "    for table in tables.fetchall():\n",
                "        table_names.append(table[0])\n",
                "    return table_names\n",
                "\n",
                "\n",
                "def get_column_names(conn, table_name):\n",
                "    \"\"\"Return a list of column names.\"\"\"\n",
                "    column_names = []\n",
                "    columns = conn.execute(f\"PRAGMA table_info('{table_name}');\").fetchall()\n",
                "    for col in columns:\n",
                "        column_names.append(col[1])\n",
                "    return column_names\n",
                "\n",
                "\n",
                "def get_database_info(conn):\n",
                "    \"\"\"Return a list of dicts containing the table name and columns for each table in the database.\"\"\"\n",
                "    table_dicts = []\n",
                "    for table_name in get_table_names(conn):\n",
                "        columns_names = get_column_names(conn, table_name)\n",
                "        table_dicts.append({\"table_name\": table_name, \"column_names\": columns_names})\n",
                "    return table_dicts\n"
            ]
        },
        {
            "attachments": {},
            "cell_type": "markdown",
            "id": "77e6e5ea",
            "metadata": {},
            "source": [
                "Now can use these utility functions to extract a representation of the database schema."
            ]
        },
        {
            "cell_type": "code",
            "execution_count": null,
            "id": "0c0104cd",
            "metadata": {
                "ExecuteTime": {
                    "end_time": "2024-05-15T17:46:11.303746Z",
                    "start_time": "2024-05-15T17:46:11.301210Z"
                }
            },
            "outputs": [],
            "source": [
                "database_schema_dict = get_database_info(conn)\n",
                "database_schema_string = \"\\n\".join(\n",
                "    [\n",
                "        f\"Table: {table['table_name']}\\nColumns: {', '.join(table['column_names'])}\"\n",
                "        for table in database_schema_dict\n",
                "    ]\n",
                ")"
            ]
        },
        {
            "attachments": {},
            "cell_type": "markdown",
            "id": "ae73c9ee",
            "metadata": {},
            "source": [
                "As before, we'll define a function specification for the function we'd like the API to generate arguments for. Notice that we are inserting the database schema into the function specification. This will be important for the model to know about."
            ]
        },
        {
            "cell_type": "code",
            "execution_count": null,
            "id": "0258813a",
            "metadata": {
                "ExecuteTime": {
                    "end_time": "2024-05-15T17:46:16.569530Z",
                    "start_time": "2024-05-15T17:46:16.567801Z"
                }
            },
            "outputs": [],
            "source": [
                "tools = [\n",
                "    {\n",
                "        \"type\": \"function\",\n",
                "        \"function\": {\n",
                "            \"name\": \"ask_database\",\n",
                "            \"description\": \"Use this function to answer user questions about music. Input should be a fully formed SQL query.\",\n",
                "            \"parameters\": {\n",
                "                \"type\": \"object\",\n",
                "                \"properties\": {\n",
                "                    \"query\": {\n",
                "                        \"type\": \"string\",\n",
                "                        \"description\": f\"\"\"\n",
                "                                SQL query extracting info to answer the user's question.\n",
                "                                SQL should be written using this database schema:\n",
                "                                {database_schema_string}\n",
                "                                The query should be returned in plain text, not in JSON.\n",
                "                                \"\"\",\n",
                "                    }\n",
                "                },\n",
                "                \"required\": [\"query\"],\n",
                "            },\n",
                "        }\n",
                "    }\n",
                "]"
            ]
        },
        {
            "attachments": {},
            "cell_type": "markdown",
            "id": "da08c121",
            "metadata": {},
            "source": [
                "### Executing SQL queries\n",
                "\n",
                "Now let's implement the function that will actually excute queries against the database."
            ]
        },
        {
            "cell_type": "code",
            "execution_count": null,
            "id": "65585e74",
            "metadata": {
                "ExecuteTime": {
                    "end_time": "2024-05-15T17:46:19.198723Z",
                    "start_time": "2024-05-15T17:46:19.197043Z"
                }
            },
            "outputs": [],
            "source": [
                "def ask_database(conn, query):\n",
                "    \"\"\"Function to query SQLite database with a provided SQL query.\"\"\"\n",
                "    try:\n",
                "        results = str(conn.execute(query).fetchall())\n",
                "    except Exception as e:\n",
                "        results = f\"query failed with error: {e}\"\n",
                "    return results"
            ]
        },
        {
            "cell_type": "markdown",
            "id": "8f6885e9f0af5c40",
            "metadata": {},
            "source": [
                "##### Steps to invoke a function call using Chat Completions API: \n",
                "\n",
                "**Step 1**: Prompt the model with content that may result in model selecting a tool to use. The description of the tools such as a function names and signature is defined in the 'Tools' list and passed to the model in API call. If selected, the function name and parameters are included in the response.<br>\n",
                "  \n",
                "**Step 2**: Check programmatically if model wanted to call a function. If true, proceed to step 3. <br>  \n",
                "**Step 3**: Extract the function name and parameters from response, call the function with parameters. Append the result to messages. <br>    \n",
                "**Step 4**: Invoke the chat completions API with the message list to get the response. "
            ]
        },
        {
            "cell_type": "code",
            "execution_count": null,
            "id": "e8b7cb9cdc7a7616",
            "metadata": {
                "ExecuteTime": {
                    "end_time": "2024-05-15T17:46:25.725379Z",
                    "start_time": "2024-05-15T17:46:24.255505Z"
                }
            },
            "outputs": [],
            "source": [
                "# Step #1: Prompt with content that may result in function call. In this case the model can identify the information requested by the user is potentially available in the database schema passed to the model in Tools description. \n",
                "messages = [{\n",
                "    \"role\":\"user\", \n",
                "    \"content\": \"What is the name of the album with the most tracks?\"\n",
                "}]\n",
                "\n",
                "response = client.chat.completions.create(\n",
                "    model='gpt-4o', \n",
                "    messages=messages, \n",
                "    tools= tools, \n",
                "    tool_choice=\"auto\"\n",
                ")\n",
                "\n",
                "# Append the message to messages list\n",
                "response_message = response.choices[0].message \n",
                "messages.append(response_message)\n",
                "\n",
                "print(response_message)"
            ]
        },
        {
            "cell_type": "code",
            "execution_count": null,
            "id": "351c39def3417776",
            "metadata": {
                "ExecuteTime": {
                    "end_time": "2024-05-15T17:46:30.346444Z",
                    "start_time": "2024-05-15T17:46:29.699046Z"
                }
            },
            "outputs": [],
            "source": [
                "# Step 2: determine if the response from the model includes a tool call.   \n",
                "tool_calls = response_message.tool_calls\n",
                "if tool_calls:\n",
                "    # If true the model will return the name of the tool / function to call and the argument(s)  \n",
                "    tool_call_id = tool_calls[0].id\n",
                "    tool_function_name = tool_calls[0].function.name\n",
                "    tool_query_string = eval(tool_calls[0].function.arguments)['query']\n",
                "    \n",
                "    # Step 3: Call the function and retrieve results. Append the results to the messages list.      \n",
                "    if tool_function_name == 'ask_database':\n",
                "        results = ask_database(conn, tool_query_string)\n",
                "        \n",
                "        messages.append({\n",
                "            \"role\":\"tool\", \n",
                "            \"tool_call_id\":tool_call_id, \n",
                "            \"name\": tool_function_name, \n",
                "            \"content\":results\n",
                "        })\n",
                "        \n",
                "        # Step 4: Invoke the chat completions API with the function response appended to the messages list\n",
                "        # Note that messages with role 'tool' must be a response to a preceding message with 'tool_calls'\n",
                "        model_response_with_function_call = client.chat.completions.create(\n",
                "            model=\"gpt-4o\",\n",
                "            messages=messages,\n",
                "        )  # get a new response from the model where it can see the function response\n",
                "        print(model_response_with_function_call.choices[0].message.content)\n",
                "    else: \n",
                "        print(f\"Error: function {tool_function_name} does not exist\")\n",
                "else: \n",
                "    # Model did not identify a function to call, result can be returned to the user \n",
                "    print(response_message.content) "
            ]
        },
        {
            "attachments": {},
            "cell_type": "markdown",
            "id": "2d89073c",
            "metadata": {},
            "source": [
                "## Next Steps\n",
                "\n",
                "See our other [notebook](How_to_call_functions_for_knowledge_retrieval.ipynb) that demonstrates how to use the Chat Completions API and functions for knowledge retrieval to interact conversationally with a knowledge base."
            ]
        }
    ],
    "metadata": {
        "kernelspec": {
            "display_name": "Python 3 (ipykernel)",
            "language": "python",
            "name": "python3"
        },
        "language_info": {
            "codemirror_mode": {
                "name": "ipython",
                "version": 3
            },
            "file_extension": ".py",
            "mimetype": "text/x-python",
            "name": "python",
            "nbconvert_exporter": "python",
            "pygments_lexer": "ipython3",
            "version": "3.10.14"
        }
    },
    "nbformat": 4,
    "nbformat_minor": 5
}
