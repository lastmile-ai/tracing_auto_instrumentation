{
    "cells": [
        {
            "attachments": {},
            "cell_type": "markdown",
            "id": "3e67f200",
            "metadata": {},
            "source": [
                "# How to call functions with chat models - Traced With LastMile\n",
                "\n",
                "\n",
                "This Notebook demonstrates how to use the LastMile OpenAI wrapper, a powerful tool that captures, logs, and traces your interactions with the OpenAI API, making it easier to debug and analyze your code.\n",
                "It also covers how to use the Chat Completions API in combination with external functions to extend the capabilities of GPT models.\n",
                "\n",
                "The LastMile OpenAI wrapper is designed to seamlessly integrate with your existing OpenAI code, allowing you to trace and monitor API calls without requiring significant changes to your implementation. By using this wrapper, you can gain valuable insights into how your application interacts with the OpenAI API, helping you identify potential issues and optimize your code.\n",
                "\n",
                "`tools` is an optional parameter in the Chat Completion API which can be used to provide function specifications. The purpose of this is to enable models to generate function arguments which adhere to the provided specifications. Note that the API will not actually execute any function calls. It is up to developers to execute function calls using model outputs.\n",
                "\n",
                "Within the `tools` parameter, if the `functions` parameter is provided then by default the model will decide when it is appropriate to use one of the functions. The API can be forced to use a specific function by setting the `tool_choice` parameter to `{\"type\": \"function\", \"function\": {\"name\": \"my_function\"}}`. The API can also be forced to not use any function by setting the `tool_choice` parameter to `\"none\"`. If a function is used, the output will contain `\"finish_reason\": \"tool_calls\"` in the response, as well as a `tool_calls` object that has the name of the function and the generated function arguments.\n",
                "\n",
                "### Overview\n",
                "\n",
                "This notebook contains the following 2 sections:\n",
                "\n",
                "- **How to generate function arguments:** Specify a set of functions and use the API to generate function arguments.\n",
                "- **How to call functions with model generated arguments:** Close the loop by actually executing functions with model generated arguments."
            ]
        },
        {
            "attachments": {},
            "cell_type": "markdown",
            "id": "64c85e26",
            "metadata": {},
            "source": [
                "## How to generate function arguments"
            ]
        },
        {
            "cell_type": "code",
            "execution_count": 1,
            "id": "80e71f33",
            "metadata": {
                "pycharm": {
                    "is_executing": true
                }
            },
            "outputs": [
                {
                    "name": "stdout",
                    "output_type": "stream",
                    "text": [
                        "Requirement already satisfied: lastmile-eval in /opt/homebrew/Caskroom/miniconda/base/envs/env310/lib/python3.10/site-packages (0.0.41)\n",
                        "Requirement already satisfied: dataclasses in /opt/homebrew/Caskroom/miniconda/base/envs/env310/lib/python3.10/site-packages (from lastmile-eval) (0.6)\n",
                        "Requirement already satisfied: boto3 in /opt/homebrew/Caskroom/miniconda/base/envs/env310/lib/python3.10/site-packages (from lastmile-eval) (1.34.104)\n",
                        "Requirement already satisfied: botocore in /opt/homebrew/Caskroom/miniconda/base/envs/env310/lib/python3.10/site-packages (from lastmile-eval) (1.34.104)\n",
                        "Requirement already satisfied: requests in /opt/homebrew/Caskroom/miniconda/base/envs/env310/lib/python3.10/site-packages (from lastmile-eval) (2.31.0)\n",
                        "Requirement already satisfied: python-dotenv in /opt/homebrew/Caskroom/miniconda/base/envs/env310/lib/python3.10/site-packages (from lastmile-eval) (1.0.0)\n",
                        "Requirement already satisfied: rouge-score in /opt/homebrew/Caskroom/miniconda/base/envs/env310/lib/python3.10/site-packages (from lastmile-eval) (0.1.2)\n",
                        "Requirement already satisfied: nltk in /opt/homebrew/Caskroom/miniconda/base/envs/env310/lib/python3.10/site-packages (from lastmile-eval) (3.8.1)\n",
                        "Requirement already satisfied: openai>=1.0.0 in /opt/homebrew/Caskroom/miniconda/base/envs/env310/lib/python3.10/site-packages (from lastmile-eval) (1.27.0)\n",
                        "Requirement already satisfied: python-aiconfig in /opt/homebrew/Caskroom/miniconda/base/envs/env310/lib/python3.10/site-packages (from lastmile-eval) (1.1.34)\n",
                        "Requirement already satisfied: pydantic>=2.1 in /opt/homebrew/Caskroom/miniconda/base/envs/env310/lib/python3.10/site-packages (from lastmile-eval) (2.6.2)\n",
                        "Requirement already satisfied: anthropic in /opt/homebrew/Caskroom/miniconda/base/envs/env310/lib/python3.10/site-packages (from lastmile-eval) (0.25.6)\n",
                        "Requirement already satisfied: evaluate==0.4.1 in /opt/homebrew/Caskroom/miniconda/base/envs/env310/lib/python3.10/site-packages (from lastmile-eval) (0.4.1)\n",
                        "Requirement already satisfied: arize-phoenix-evals==0.5.0 in /opt/homebrew/Caskroom/miniconda/base/envs/env310/lib/python3.10/site-packages (from lastmile-eval) (0.5.0)\n",
                        "Requirement already satisfied: pandas==2.1.2 in /opt/homebrew/Caskroom/miniconda/base/envs/env310/lib/python3.10/site-packages (from lastmile-eval) (2.1.2)\n",
                        "Requirement already satisfied: instructor in /opt/homebrew/Caskroom/miniconda/base/envs/env310/lib/python3.10/site-packages (from lastmile-eval) (0.6.1)\n",
                        "Requirement already satisfied: opentelemetry-api in /opt/homebrew/Caskroom/miniconda/base/envs/env310/lib/python3.10/site-packages (from lastmile-eval) (1.24.0)\n",
                        "Requirement already satisfied: opentelemetry-sdk in /opt/homebrew/Caskroom/miniconda/base/envs/env310/lib/python3.10/site-packages (from lastmile-eval) (1.24.0)\n",
                        "Requirement already satisfied: opentelemetry-exporter-otlp in /opt/homebrew/Caskroom/miniconda/base/envs/env310/lib/python3.10/site-packages (from lastmile-eval) (1.24.0)\n",
                        "Requirement already satisfied: opentelemetry-semantic-conventions in /opt/homebrew/Caskroom/miniconda/base/envs/env310/lib/python3.10/site-packages (from lastmile-eval) (0.45b0)\n",
                        "Requirement already satisfied: openinference-semantic-conventions in /opt/homebrew/Caskroom/miniconda/base/envs/env310/lib/python3.10/site-packages (from lastmile-eval) (0.1.6)\n",
                        "Requirement already satisfied: fastapi==0.110.1 in /opt/homebrew/Caskroom/miniconda/base/envs/env310/lib/python3.10/site-packages (from lastmile-eval) (0.110.1)\n",
                        "Requirement already satisfied: jinja2 in /opt/homebrew/Caskroom/miniconda/base/envs/env310/lib/python3.10/site-packages (from lastmile-eval) (3.1.4)\n",
                        "Requirement already satisfied: uvicorn in /opt/homebrew/Caskroom/miniconda/base/envs/env310/lib/python3.10/site-packages (from lastmile-eval) (0.29.0)\n",
                        "Requirement already satisfied: result in /opt/homebrew/Caskroom/miniconda/base/envs/env310/lib/python3.10/site-packages (from lastmile-eval) (0.16.0)\n",
                        "Requirement already satisfied: lastmile-utils in /opt/homebrew/Caskroom/miniconda/base/envs/env310/lib/python3.10/site-packages (from lastmile-eval) (0.0.24)\n",
                        "Requirement already satisfied: email-validator==2.1.1 in /opt/homebrew/Caskroom/miniconda/base/envs/env310/lib/python3.10/site-packages (from lastmile-eval) (2.1.1)\n",
                        "Requirement already satisfied: llama-index in /opt/homebrew/Caskroom/miniconda/base/envs/env310/lib/python3.10/site-packages (from lastmile-eval) (0.10.36)\n",
                        "Requirement already satisfied: llama-index-embeddings-openai in /opt/homebrew/Caskroom/miniconda/base/envs/env310/lib/python3.10/site-packages (from lastmile-eval) (0.1.9)\n",
                        "Requirement already satisfied: llama-index-readers-web in /opt/homebrew/Caskroom/miniconda/base/envs/env310/lib/python3.10/site-packages (from lastmile-eval) (0.1.13)\n",
                        "Requirement already satisfied: llama-index-callbacks-openinference in /opt/homebrew/Caskroom/miniconda/base/envs/env310/lib/python3.10/site-packages (from lastmile-eval) (0.1.4)\n",
                        "Requirement already satisfied: html2text in /opt/homebrew/Caskroom/miniconda/base/envs/env310/lib/python3.10/site-packages (from lastmile-eval) (2020.1.16)\n",
                        "Requirement already satisfied: pyarrow in /opt/homebrew/Caskroom/miniconda/base/envs/env310/lib/python3.10/site-packages (from lastmile-eval) (15.0.0)\n",
                        "Requirement already satisfied: tqdm in /opt/homebrew/Caskroom/miniconda/base/envs/env310/lib/python3.10/site-packages (from lastmile-eval) (4.66.2)\n",
                        "Requirement already satisfied: openinference-instrumentation-llama-index in /opt/homebrew/Caskroom/miniconda/base/envs/env310/lib/python3.10/site-packages (from lastmile-eval) (1.3.0)\n",
                        "Requirement already satisfied: openinference-instrumentation-langchain in /opt/homebrew/Caskroom/miniconda/base/envs/env310/lib/python3.10/site-packages (from lastmile-eval) (0.1.15)\n",
                        "Requirement already satisfied: langchain in /opt/homebrew/Caskroom/miniconda/base/envs/env310/lib/python3.10/site-packages (from lastmile-eval) (0.1.19)\n",
                        "Requirement already satisfied: langchain-core in /opt/homebrew/Caskroom/miniconda/base/envs/env310/lib/python3.10/site-packages (from lastmile-eval) (0.1.52)\n",
                        "Requirement already satisfied: langchain-openai in /opt/homebrew/Caskroom/miniconda/base/envs/env310/lib/python3.10/site-packages (from lastmile-eval) (0.1.6)\n",
                        "Requirement already satisfied: typing-extensions<5,>=4.5 in /opt/homebrew/Caskroom/miniconda/base/envs/env310/lib/python3.10/site-packages (from arize-phoenix-evals==0.5.0->lastmile-eval) (4.9.0)\n",
                        "Requirement already satisfied: dnspython>=2.0.0 in /opt/homebrew/Caskroom/miniconda/base/envs/env310/lib/python3.10/site-packages (from email-validator==2.1.1->lastmile-eval) (2.6.1)\n",
                        "Requirement already satisfied: idna>=2.0.0 in /opt/homebrew/Caskroom/miniconda/base/envs/env310/lib/python3.10/site-packages (from email-validator==2.1.1->lastmile-eval) (3.6)\n",
                        "Requirement already satisfied: datasets>=2.0.0 in /opt/homebrew/Caskroom/miniconda/base/envs/env310/lib/python3.10/site-packages (from evaluate==0.4.1->lastmile-eval) (2.18.0)\n",
                        "Requirement already satisfied: numpy>=1.17 in /opt/homebrew/Caskroom/miniconda/base/envs/env310/lib/python3.10/site-packages (from evaluate==0.4.1->lastmile-eval) (1.26.4)\n",
                        "Requirement already satisfied: dill in /opt/homebrew/Caskroom/miniconda/base/envs/env310/lib/python3.10/site-packages (from evaluate==0.4.1->lastmile-eval) (0.3.8)\n",
                        "Requirement already satisfied: xxhash in /opt/homebrew/Caskroom/miniconda/base/envs/env310/lib/python3.10/site-packages (from evaluate==0.4.1->lastmile-eval) (3.4.1)\n",
                        "Requirement already satisfied: multiprocess in /opt/homebrew/Caskroom/miniconda/base/envs/env310/lib/python3.10/site-packages (from evaluate==0.4.1->lastmile-eval) (0.70.16)\n",
                        "Requirement already satisfied: fsspec>=2021.05.0 in /opt/homebrew/Caskroom/miniconda/base/envs/env310/lib/python3.10/site-packages (from fsspec[http]>=2021.05.0->evaluate==0.4.1->lastmile-eval) (2024.2.0)\n",
                        "Requirement already satisfied: huggingface-hub>=0.7.0 in /opt/homebrew/Caskroom/miniconda/base/envs/env310/lib/python3.10/site-packages (from evaluate==0.4.1->lastmile-eval) (0.21.4)\n",
                        "Requirement already satisfied: packaging in /opt/homebrew/Caskroom/miniconda/base/envs/env310/lib/python3.10/site-packages (from evaluate==0.4.1->lastmile-eval) (23.2)\n",
                        "Requirement already satisfied: responses<0.19 in /opt/homebrew/Caskroom/miniconda/base/envs/env310/lib/python3.10/site-packages (from evaluate==0.4.1->lastmile-eval) (0.18.0)\n",
                        "Requirement already satisfied: starlette<0.38.0,>=0.37.2 in /opt/homebrew/Caskroom/miniconda/base/envs/env310/lib/python3.10/site-packages (from fastapi==0.110.1->lastmile-eval) (0.37.2)\n",
                        "Requirement already satisfied: python-dateutil>=2.8.2 in /opt/homebrew/Caskroom/miniconda/base/envs/env310/lib/python3.10/site-packages (from pandas==2.1.2->lastmile-eval) (2.8.2)\n",
                        "Requirement already satisfied: pytz>=2020.1 in /opt/homebrew/Caskroom/miniconda/base/envs/env310/lib/python3.10/site-packages (from pandas==2.1.2->lastmile-eval) (2023.3.post1)\n",
                        "Requirement already satisfied: tzdata>=2022.1 in /opt/homebrew/Caskroom/miniconda/base/envs/env310/lib/python3.10/site-packages (from pandas==2.1.2->lastmile-eval) (2023.3)\n",
                        "Requirement already satisfied: anyio<5,>=3.5.0 in /opt/homebrew/Caskroom/miniconda/base/envs/env310/lib/python3.10/site-packages (from openai>=1.0.0->lastmile-eval) (4.3.0)\n",
                        "Requirement already satisfied: distro<2,>=1.7.0 in /opt/homebrew/Caskroom/miniconda/base/envs/env310/lib/python3.10/site-packages (from openai>=1.0.0->lastmile-eval) (1.9.0)\n",
                        "Requirement already satisfied: httpx<1,>=0.23.0 in /opt/homebrew/Caskroom/miniconda/base/envs/env310/lib/python3.10/site-packages (from openai>=1.0.0->lastmile-eval) (0.27.0)\n",
                        "Requirement already satisfied: sniffio in /opt/homebrew/Caskroom/miniconda/base/envs/env310/lib/python3.10/site-packages (from openai>=1.0.0->lastmile-eval) (1.3.0)\n",
                        "Requirement already satisfied: annotated-types>=0.4.0 in /opt/homebrew/Caskroom/miniconda/base/envs/env310/lib/python3.10/site-packages (from pydantic>=2.1->lastmile-eval) (0.6.0)\n",
                        "Requirement already satisfied: pydantic-core==2.16.3 in /opt/homebrew/Caskroom/miniconda/base/envs/env310/lib/python3.10/site-packages (from pydantic>=2.1->lastmile-eval) (2.16.3)\n",
                        "Requirement already satisfied: charset-normalizer<4,>=2 in /opt/homebrew/Caskroom/miniconda/base/envs/env310/lib/python3.10/site-packages (from requests->lastmile-eval) (3.3.2)\n",
                        "Requirement already satisfied: urllib3<3,>=1.21.1 in /opt/homebrew/Caskroom/miniconda/base/envs/env310/lib/python3.10/site-packages (from requests->lastmile-eval) (2.2.1)\n",
                        "Requirement already satisfied: certifi>=2017.4.17 in /opt/homebrew/Caskroom/miniconda/base/envs/env310/lib/python3.10/site-packages (from requests->lastmile-eval) (2024.2.2)\n",
                        "Requirement already satisfied: tokenizers>=0.13.0 in /opt/homebrew/Caskroom/miniconda/base/envs/env310/lib/python3.10/site-packages (from anthropic->lastmile-eval) (0.19.1)\n",
                        "Requirement already satisfied: jmespath<2.0.0,>=0.7.1 in /opt/homebrew/Caskroom/miniconda/base/envs/env310/lib/python3.10/site-packages (from boto3->lastmile-eval) (1.0.1)\n",
                        "Requirement already satisfied: s3transfer<0.11.0,>=0.10.0 in /opt/homebrew/Caskroom/miniconda/base/envs/env310/lib/python3.10/site-packages (from boto3->lastmile-eval) (0.10.1)\n",
                        "Requirement already satisfied: aiohttp<4.0.0,>=3.9.1 in /opt/homebrew/Caskroom/miniconda/base/envs/env310/lib/python3.10/site-packages (from instructor->lastmile-eval) (3.9.3)\n",
                        "Requirement already satisfied: docstring-parser<0.16,>=0.15 in /opt/homebrew/Caskroom/miniconda/base/envs/env310/lib/python3.10/site-packages (from instructor->lastmile-eval) (0.15)\n",
                        "Requirement already satisfied: rich<14.0.0,>=13.7.0 in /opt/homebrew/Caskroom/miniconda/base/envs/env310/lib/python3.10/site-packages (from instructor->lastmile-eval) (13.7.0)\n",
                        "Requirement already satisfied: tenacity<9.0.0,>=8.2.3 in /opt/homebrew/Caskroom/miniconda/base/envs/env310/lib/python3.10/site-packages (from instructor->lastmile-eval) (8.2.3)\n",
                        "Requirement already satisfied: typer<0.10.0,>=0.9.0 in /opt/homebrew/Caskroom/miniconda/base/envs/env310/lib/python3.10/site-packages (from instructor->lastmile-eval) (0.9.0)\n",
                        "Requirement already satisfied: MarkupSafe>=2.0 in /opt/homebrew/Caskroom/miniconda/base/envs/env310/lib/python3.10/site-packages (from jinja2->lastmile-eval) (2.1.5)\n",
                        "Requirement already satisfied: PyYAML>=5.3 in /opt/homebrew/Caskroom/miniconda/base/envs/env310/lib/python3.10/site-packages (from langchain->lastmile-eval) (6.0.1)\n",
                        "Requirement already satisfied: SQLAlchemy<3,>=1.4 in /opt/homebrew/Caskroom/miniconda/base/envs/env310/lib/python3.10/site-packages (from langchain->lastmile-eval) (2.0.30)\n",
                        "Requirement already satisfied: async-timeout<5.0.0,>=4.0.0 in /opt/homebrew/Caskroom/miniconda/base/envs/env310/lib/python3.10/site-packages (from langchain->lastmile-eval) (4.0.3)\n",
                        "Requirement already satisfied: dataclasses-json<0.7,>=0.5.7 in /opt/homebrew/Caskroom/miniconda/base/envs/env310/lib/python3.10/site-packages (from langchain->lastmile-eval) (0.6.5)\n",
                        "Requirement already satisfied: langchain-community<0.1,>=0.0.38 in /opt/homebrew/Caskroom/miniconda/base/envs/env310/lib/python3.10/site-packages (from langchain->lastmile-eval) (0.0.38)\n",
                        "Requirement already satisfied: langchain-text-splitters<0.1,>=0.0.1 in /opt/homebrew/Caskroom/miniconda/base/envs/env310/lib/python3.10/site-packages (from langchain->lastmile-eval) (0.0.1)\n",
                        "Requirement already satisfied: langsmith<0.2.0,>=0.1.17 in /opt/homebrew/Caskroom/miniconda/base/envs/env310/lib/python3.10/site-packages (from langchain->lastmile-eval) (0.1.56)\n",
                        "Requirement already satisfied: jsonpatch<2.0,>=1.33 in /opt/homebrew/Caskroom/miniconda/base/envs/env310/lib/python3.10/site-packages (from langchain-core->lastmile-eval) (1.33)\n",
                        "Requirement already satisfied: tiktoken<1,>=0.5.2 in /opt/homebrew/Caskroom/miniconda/base/envs/env310/lib/python3.10/site-packages (from langchain-openai->lastmile-eval) (0.6.0)\n",
                        "Requirement already satisfied: black==23.11.0 in /opt/homebrew/Caskroom/miniconda/base/envs/env310/lib/python3.10/site-packages (from lastmile-utils->lastmile-eval) (23.11.0)\n",
                        "Requirement already satisfied: chardet==5.2.0 in /opt/homebrew/Caskroom/miniconda/base/envs/env310/lib/python3.10/site-packages (from lastmile-utils->lastmile-eval) (5.2.0)\n",
                        "Requirement already satisfied: flake8==6.1.0 in /opt/homebrew/Caskroom/miniconda/base/envs/env310/lib/python3.10/site-packages (from lastmile-utils->lastmile-eval) (6.1.0)\n",
                        "Requirement already satisfied: isort==5.12.0 in /opt/homebrew/Caskroom/miniconda/base/envs/env310/lib/python3.10/site-packages (from lastmile-utils->lastmile-eval) (5.12.0)\n",
                        "Requirement already satisfied: pylint==3.0.2 in /opt/homebrew/Caskroom/miniconda/base/envs/env310/lib/python3.10/site-packages (from lastmile-utils->lastmile-eval) (3.0.2)\n",
                        "Requirement already satisfied: pyright==1.1.335 in /opt/homebrew/Caskroom/miniconda/base/envs/env310/lib/python3.10/site-packages (from lastmile-utils->lastmile-eval) (1.1.335)\n",
                        "Requirement already satisfied: pytest==7.4.3 in /opt/homebrew/Caskroom/miniconda/base/envs/env310/lib/python3.10/site-packages (from lastmile-utils->lastmile-eval) (7.4.3)\n",
                        "Requirement already satisfied: autoflake==2.2.1 in /opt/homebrew/Caskroom/miniconda/base/envs/env310/lib/python3.10/site-packages (from lastmile-utils->lastmile-eval) (2.2.1)\n",
                        "Requirement already satisfied: pyflakes>=3.0.0 in /opt/homebrew/Caskroom/miniconda/base/envs/env310/lib/python3.10/site-packages (from autoflake==2.2.1->lastmile-utils->lastmile-eval) (3.1.0)\n",
                        "Requirement already satisfied: tomli>=2.0.1 in /opt/homebrew/Caskroom/miniconda/base/envs/env310/lib/python3.10/site-packages (from autoflake==2.2.1->lastmile-utils->lastmile-eval) (2.0.1)\n",
                        "Requirement already satisfied: click>=8.0.0 in /opt/homebrew/Caskroom/miniconda/base/envs/env310/lib/python3.10/site-packages (from black==23.11.0->lastmile-utils->lastmile-eval) (8.1.7)\n",
                        "Requirement already satisfied: mypy-extensions>=0.4.3 in /opt/homebrew/Caskroom/miniconda/base/envs/env310/lib/python3.10/site-packages (from black==23.11.0->lastmile-utils->lastmile-eval) (1.0.0)\n",
                        "Requirement already satisfied: pathspec>=0.9.0 in /opt/homebrew/Caskroom/miniconda/base/envs/env310/lib/python3.10/site-packages (from black==23.11.0->lastmile-utils->lastmile-eval) (0.12.1)\n",
                        "Requirement already satisfied: platformdirs>=2 in /opt/homebrew/Caskroom/miniconda/base/envs/env310/lib/python3.10/site-packages (from black==23.11.0->lastmile-utils->lastmile-eval) (3.10.0)\n",
                        "Requirement already satisfied: mccabe<0.8.0,>=0.7.0 in /opt/homebrew/Caskroom/miniconda/base/envs/env310/lib/python3.10/site-packages (from flake8==6.1.0->lastmile-utils->lastmile-eval) (0.7.0)\n",
                        "Requirement already satisfied: pycodestyle<2.12.0,>=2.11.0 in /opt/homebrew/Caskroom/miniconda/base/envs/env310/lib/python3.10/site-packages (from flake8==6.1.0->lastmile-utils->lastmile-eval) (2.11.1)\n",
                        "Requirement already satisfied: astroid<=3.1.0-dev0,>=3.0.1 in /opt/homebrew/Caskroom/miniconda/base/envs/env310/lib/python3.10/site-packages (from pylint==3.0.2->lastmile-utils->lastmile-eval) (3.0.3)\n",
                        "Requirement already satisfied: tomlkit>=0.10.1 in /opt/homebrew/Caskroom/miniconda/base/envs/env310/lib/python3.10/site-packages (from pylint==3.0.2->lastmile-utils->lastmile-eval) (0.12.4)\n",
                        "Requirement already satisfied: nodeenv>=1.6.0 in /opt/homebrew/Caskroom/miniconda/base/envs/env310/lib/python3.10/site-packages (from pyright==1.1.335->lastmile-utils->lastmile-eval) (1.8.0)\n",
                        "Requirement already satisfied: iniconfig in /opt/homebrew/Caskroom/miniconda/base/envs/env310/lib/python3.10/site-packages (from pytest==7.4.3->lastmile-utils->lastmile-eval) (2.0.0)\n",
                        "Requirement already satisfied: pluggy<2.0,>=0.12 in /opt/homebrew/Caskroom/miniconda/base/envs/env310/lib/python3.10/site-packages (from pytest==7.4.3->lastmile-utils->lastmile-eval) (1.4.0)\n",
                        "Requirement already satisfied: exceptiongroup>=1.0.0rc8 in /opt/homebrew/Caskroom/miniconda/base/envs/env310/lib/python3.10/site-packages (from pytest==7.4.3->lastmile-utils->lastmile-eval) (1.2.0)\n",
                        "Requirement already satisfied: llama-index-agent-openai<0.3.0,>=0.1.4 in /opt/homebrew/Caskroom/miniconda/base/envs/env310/lib/python3.10/site-packages (from llama-index->lastmile-eval) (0.2.4)\n",
                        "Requirement already satisfied: llama-index-cli<0.2.0,>=0.1.2 in /opt/homebrew/Caskroom/miniconda/base/envs/env310/lib/python3.10/site-packages (from llama-index->lastmile-eval) (0.1.12)\n",
                        "Requirement already satisfied: llama-index-core<0.11.0,>=0.10.35 in /opt/homebrew/Caskroom/miniconda/base/envs/env310/lib/python3.10/site-packages (from llama-index->lastmile-eval) (0.10.36)\n",
                        "Requirement already satisfied: llama-index-indices-managed-llama-cloud<0.2.0,>=0.1.2 in /opt/homebrew/Caskroom/miniconda/base/envs/env310/lib/python3.10/site-packages (from llama-index->lastmile-eval) (0.1.6)\n",
                        "Requirement already satisfied: llama-index-legacy<0.10.0,>=0.9.48 in /opt/homebrew/Caskroom/miniconda/base/envs/env310/lib/python3.10/site-packages (from llama-index->lastmile-eval) (0.9.48)\n",
                        "Requirement already satisfied: llama-index-llms-openai<0.2.0,>=0.1.13 in /opt/homebrew/Caskroom/miniconda/base/envs/env310/lib/python3.10/site-packages (from llama-index->lastmile-eval) (0.1.19)\n",
                        "Requirement already satisfied: llama-index-multi-modal-llms-openai<0.2.0,>=0.1.3 in /opt/homebrew/Caskroom/miniconda/base/envs/env310/lib/python3.10/site-packages (from llama-index->lastmile-eval) (0.1.6)\n",
                        "Requirement already satisfied: llama-index-program-openai<0.2.0,>=0.1.3 in /opt/homebrew/Caskroom/miniconda/base/envs/env310/lib/python3.10/site-packages (from llama-index->lastmile-eval) (0.1.6)\n",
                        "Requirement already satisfied: llama-index-question-gen-openai<0.2.0,>=0.1.2 in /opt/homebrew/Caskroom/miniconda/base/envs/env310/lib/python3.10/site-packages (from llama-index->lastmile-eval) (0.1.3)\n",
                        "Requirement already satisfied: llama-index-readers-file<0.2.0,>=0.1.4 in /opt/homebrew/Caskroom/miniconda/base/envs/env310/lib/python3.10/site-packages (from llama-index->lastmile-eval) (0.1.22)\n",
                        "Requirement already satisfied: llama-index-readers-llama-parse<0.2.0,>=0.1.2 in /opt/homebrew/Caskroom/miniconda/base/envs/env310/lib/python3.10/site-packages (from llama-index->lastmile-eval) (0.1.4)\n",
                        "Requirement already satisfied: beautifulsoup4<5.0.0,>=4.12.3 in /opt/homebrew/Caskroom/miniconda/base/envs/env310/lib/python3.10/site-packages (from llama-index-readers-web->lastmile-eval) (4.12.3)\n",
                        "Requirement already satisfied: chromedriver-autoinstaller<0.7.0,>=0.6.3 in /opt/homebrew/Caskroom/miniconda/base/envs/env310/lib/python3.10/site-packages (from llama-index-readers-web->lastmile-eval) (0.6.4)\n",
                        "Requirement already satisfied: newspaper3k<0.3.0,>=0.2.8 in /opt/homebrew/Caskroom/miniconda/base/envs/env310/lib/python3.10/site-packages (from llama-index-readers-web->lastmile-eval) (0.2.8)\n",
                        "Requirement already satisfied: playwright<2.0,>=1.30 in /opt/homebrew/Caskroom/miniconda/base/envs/env310/lib/python3.10/site-packages (from llama-index-readers-web->lastmile-eval) (1.43.0)\n",
                        "Requirement already satisfied: selenium<5.0.0,>=4.17.2 in /opt/homebrew/Caskroom/miniconda/base/envs/env310/lib/python3.10/site-packages (from llama-index-readers-web->lastmile-eval) (4.20.0)\n",
                        "Requirement already satisfied: spider-client<0.0.12,>=0.0.11 in /opt/homebrew/Caskroom/miniconda/base/envs/env310/lib/python3.10/site-packages (from llama-index-readers-web->lastmile-eval) (0.0.11)\n",
                        "Requirement already satisfied: joblib in /opt/homebrew/Caskroom/miniconda/base/envs/env310/lib/python3.10/site-packages (from nltk->lastmile-eval) (1.3.2)\n",
                        "Requirement already satisfied: regex>=2021.8.3 in /opt/homebrew/Caskroom/miniconda/base/envs/env310/lib/python3.10/site-packages (from nltk->lastmile-eval) (2023.12.25)\n",
                        "Requirement already satisfied: openinference-instrumentation>=0.1.5 in /opt/homebrew/Caskroom/miniconda/base/envs/env310/lib/python3.10/site-packages (from openinference-instrumentation-langchain->lastmile-eval) (0.1.6)\n",
                        "Requirement already satisfied: opentelemetry-instrumentation in /opt/homebrew/Caskroom/miniconda/base/envs/env310/lib/python3.10/site-packages (from openinference-instrumentation-langchain->lastmile-eval) (0.45b0)\n",
                        "Requirement already satisfied: wrapt in /opt/homebrew/Caskroom/miniconda/base/envs/env310/lib/python3.10/site-packages (from openinference-instrumentation-langchain->lastmile-eval) (1.16.0)\n",
                        "Requirement already satisfied: deprecated>=1.2.6 in /opt/homebrew/Caskroom/miniconda/base/envs/env310/lib/python3.10/site-packages (from opentelemetry-api->lastmile-eval) (1.2.14)\n",
                        "Requirement already satisfied: importlib-metadata<=7.0,>=6.0 in /opt/homebrew/Caskroom/miniconda/base/envs/env310/lib/python3.10/site-packages (from opentelemetry-api->lastmile-eval) (7.0.0)\n",
                        "Requirement already satisfied: opentelemetry-exporter-otlp-proto-grpc==1.24.0 in /opt/homebrew/Caskroom/miniconda/base/envs/env310/lib/python3.10/site-packages (from opentelemetry-exporter-otlp->lastmile-eval) (1.24.0)\n",
                        "Requirement already satisfied: opentelemetry-exporter-otlp-proto-http==1.24.0 in /opt/homebrew/Caskroom/miniconda/base/envs/env310/lib/python3.10/site-packages (from opentelemetry-exporter-otlp->lastmile-eval) (1.24.0)\n",
                        "Requirement already satisfied: googleapis-common-protos~=1.52 in /opt/homebrew/Caskroom/miniconda/base/envs/env310/lib/python3.10/site-packages (from opentelemetry-exporter-otlp-proto-grpc==1.24.0->opentelemetry-exporter-otlp->lastmile-eval) (1.63.0)\n",
                        "Requirement already satisfied: grpcio<2.0.0,>=1.0.0 in /opt/homebrew/Caskroom/miniconda/base/envs/env310/lib/python3.10/site-packages (from opentelemetry-exporter-otlp-proto-grpc==1.24.0->opentelemetry-exporter-otlp->lastmile-eval) (1.62.2)\n",
                        "Requirement already satisfied: opentelemetry-exporter-otlp-proto-common==1.24.0 in /opt/homebrew/Caskroom/miniconda/base/envs/env310/lib/python3.10/site-packages (from opentelemetry-exporter-otlp-proto-grpc==1.24.0->opentelemetry-exporter-otlp->lastmile-eval) (1.24.0)\n",
                        "Requirement already satisfied: opentelemetry-proto==1.24.0 in /opt/homebrew/Caskroom/miniconda/base/envs/env310/lib/python3.10/site-packages (from opentelemetry-exporter-otlp-proto-grpc==1.24.0->opentelemetry-exporter-otlp->lastmile-eval) (1.24.0)\n",
                        "Requirement already satisfied: protobuf<5.0,>=3.19 in /opt/homebrew/Caskroom/miniconda/base/envs/env310/lib/python3.10/site-packages (from opentelemetry-proto==1.24.0->opentelemetry-exporter-otlp-proto-grpc==1.24.0->opentelemetry-exporter-otlp->lastmile-eval) (4.25.3)\n",
                        "Requirement already satisfied: anthropic-bedrock in /opt/homebrew/Caskroom/miniconda/base/envs/env310/lib/python3.10/site-packages (from python-aiconfig->lastmile-eval) (0.8.0)\n",
                        "Requirement already satisfied: flask-cors in /opt/homebrew/Caskroom/miniconda/base/envs/env310/lib/python3.10/site-packages (from python-aiconfig->lastmile-eval) (4.0.1)\n",
                        "Requirement already satisfied: flask[async] in /opt/homebrew/Caskroom/miniconda/base/envs/env310/lib/python3.10/site-packages (from python-aiconfig->lastmile-eval) (3.0.3)\n",
                        "Requirement already satisfied: frozendict in /opt/homebrew/Caskroom/miniconda/base/envs/env310/lib/python3.10/site-packages (from python-aiconfig->lastmile-eval) (2.4.4)\n",
                        "Requirement already satisfied: google-generativeai>=0.3.1 in /opt/homebrew/Caskroom/miniconda/base/envs/env310/lib/python3.10/site-packages (from python-aiconfig->lastmile-eval) (0.5.3)\n",
                        "Requirement already satisfied: hypothesis==6.91.0 in /opt/homebrew/Caskroom/miniconda/base/envs/env310/lib/python3.10/site-packages (from python-aiconfig->lastmile-eval) (6.91.0)\n",
                        "Requirement already satisfied: nest-asyncio in /opt/homebrew/Caskroom/miniconda/base/envs/env310/lib/python3.10/site-packages (from python-aiconfig->lastmile-eval) (1.6.0)\n",
                        "Requirement already satisfied: prompt-toolkit in /opt/homebrew/Caskroom/miniconda/base/envs/env310/lib/python3.10/site-packages (from python-aiconfig->lastmile-eval) (3.0.43)\n",
                        "Requirement already satisfied: pybars3 in /opt/homebrew/Caskroom/miniconda/base/envs/env310/lib/python3.10/site-packages (from python-aiconfig->lastmile-eval) (0.9.7)\n",
                        "Requirement already satisfied: ruamel.yaml in /opt/homebrew/Caskroom/miniconda/base/envs/env310/lib/python3.10/site-packages (from python-aiconfig->lastmile-eval) (0.18.6)\n",
                        "Requirement already satisfied: attrs>=19.2.0 in /opt/homebrew/Caskroom/miniconda/base/envs/env310/lib/python3.10/site-packages (from hypothesis==6.91.0->python-aiconfig->lastmile-eval) (23.2.0)\n",
                        "Requirement already satisfied: sortedcontainers<3.0.0,>=2.1.0 in /opt/homebrew/Caskroom/miniconda/base/envs/env310/lib/python3.10/site-packages (from hypothesis==6.91.0->python-aiconfig->lastmile-eval) (2.4.0)\n",
                        "Requirement already satisfied: absl-py in /opt/homebrew/Caskroom/miniconda/base/envs/env310/lib/python3.10/site-packages (from rouge-score->lastmile-eval) (2.1.0)\n",
                        "Requirement already satisfied: six>=1.14.0 in /opt/homebrew/Caskroom/miniconda/base/envs/env310/lib/python3.10/site-packages (from rouge-score->lastmile-eval) (1.16.0)\n",
                        "Requirement already satisfied: h11>=0.8 in /opt/homebrew/Caskroom/miniconda/base/envs/env310/lib/python3.10/site-packages (from uvicorn->lastmile-eval) (0.14.0)\n",
                        "Requirement already satisfied: aiosignal>=1.1.2 in /opt/homebrew/Caskroom/miniconda/base/envs/env310/lib/python3.10/site-packages (from aiohttp<4.0.0,>=3.9.1->instructor->lastmile-eval) (1.3.1)\n",
                        "Requirement already satisfied: frozenlist>=1.1.1 in /opt/homebrew/Caskroom/miniconda/base/envs/env310/lib/python3.10/site-packages (from aiohttp<4.0.0,>=3.9.1->instructor->lastmile-eval) (1.4.1)\n",
                        "Requirement already satisfied: multidict<7.0,>=4.5 in /opt/homebrew/Caskroom/miniconda/base/envs/env310/lib/python3.10/site-packages (from aiohttp<4.0.0,>=3.9.1->instructor->lastmile-eval) (6.0.5)\n",
                        "Requirement already satisfied: yarl<2.0,>=1.0 in /opt/homebrew/Caskroom/miniconda/base/envs/env310/lib/python3.10/site-packages (from aiohttp<4.0.0,>=3.9.1->instructor->lastmile-eval) (1.9.4)\n",
                        "Requirement already satisfied: soupsieve>1.2 in /opt/homebrew/Caskroom/miniconda/base/envs/env310/lib/python3.10/site-packages (from beautifulsoup4<5.0.0,>=4.12.3->llama-index-readers-web->lastmile-eval) (2.5)\n",
                        "Requirement already satisfied: marshmallow<4.0.0,>=3.18.0 in /opt/homebrew/Caskroom/miniconda/base/envs/env310/lib/python3.10/site-packages (from dataclasses-json<0.7,>=0.5.7->langchain->lastmile-eval) (3.21.2)\n",
                        "Requirement already satisfied: typing-inspect<1,>=0.4.0 in /opt/homebrew/Caskroom/miniconda/base/envs/env310/lib/python3.10/site-packages (from dataclasses-json<0.7,>=0.5.7->langchain->lastmile-eval) (0.9.0)\n",
                        "Requirement already satisfied: filelock in /opt/homebrew/Caskroom/miniconda/base/envs/env310/lib/python3.10/site-packages (from datasets>=2.0.0->evaluate==0.4.1->lastmile-eval) (3.13.3)\n",
                        "Requirement already satisfied: pyarrow-hotfix in /opt/homebrew/Caskroom/miniconda/base/envs/env310/lib/python3.10/site-packages (from datasets>=2.0.0->evaluate==0.4.1->lastmile-eval) (0.6)\n",
                        "Requirement already satisfied: google-ai-generativelanguage==0.6.3 in /opt/homebrew/Caskroom/miniconda/base/envs/env310/lib/python3.10/site-packages (from google-generativeai>=0.3.1->python-aiconfig->lastmile-eval) (0.6.3)\n",
                        "Requirement already satisfied: google-api-core in /opt/homebrew/Caskroom/miniconda/base/envs/env310/lib/python3.10/site-packages (from google-generativeai>=0.3.1->python-aiconfig->lastmile-eval) (2.19.0)\n",
                        "Requirement already satisfied: google-api-python-client in /opt/homebrew/Caskroom/miniconda/base/envs/env310/lib/python3.10/site-packages (from google-generativeai>=0.3.1->python-aiconfig->lastmile-eval) (2.129.0)\n",
                        "Requirement already satisfied: google-auth>=2.15.0 in /opt/homebrew/Caskroom/miniconda/base/envs/env310/lib/python3.10/site-packages (from google-generativeai>=0.3.1->python-aiconfig->lastmile-eval) (2.29.0)\n",
                        "Requirement already satisfied: proto-plus<2.0.0dev,>=1.22.3 in /opt/homebrew/Caskroom/miniconda/base/envs/env310/lib/python3.10/site-packages (from google-ai-generativelanguage==0.6.3->google-generativeai>=0.3.1->python-aiconfig->lastmile-eval) (1.23.0)\n",
                        "Requirement already satisfied: httpcore==1.* in /opt/homebrew/Caskroom/miniconda/base/envs/env310/lib/python3.10/site-packages (from httpx<1,>=0.23.0->openai>=1.0.0->lastmile-eval) (1.0.4)\n",
                        "Requirement already satisfied: zipp>=0.5 in /opt/homebrew/Caskroom/miniconda/base/envs/env310/lib/python3.10/site-packages (from importlib-metadata<=7.0,>=6.0->opentelemetry-api->lastmile-eval) (3.18.0)\n",
                        "Requirement already satisfied: jsonpointer>=1.9 in /opt/homebrew/Caskroom/miniconda/base/envs/env310/lib/python3.10/site-packages (from jsonpatch<2.0,>=1.33->langchain-core->lastmile-eval) (2.4)\n",
                        "Requirement already satisfied: orjson<4.0.0,>=3.9.14 in /opt/homebrew/Caskroom/miniconda/base/envs/env310/lib/python3.10/site-packages (from langsmith<0.2.0,>=0.1.17->langchain->lastmile-eval) (3.10.3)\n",
                        "Requirement already satisfied: dirtyjson<2.0.0,>=1.0.8 in /opt/homebrew/Caskroom/miniconda/base/envs/env310/lib/python3.10/site-packages (from llama-index-core<0.11.0,>=0.10.35->llama-index->lastmile-eval) (1.0.8)\n",
                        "Requirement already satisfied: llamaindex-py-client<0.2.0,>=0.1.18 in /opt/homebrew/Caskroom/miniconda/base/envs/env310/lib/python3.10/site-packages (from llama-index-core<0.11.0,>=0.10.35->llama-index->lastmile-eval) (0.1.19)\n",
                        "Requirement already satisfied: networkx>=3.0 in /opt/homebrew/Caskroom/miniconda/base/envs/env310/lib/python3.10/site-packages (from llama-index-core<0.11.0,>=0.10.35->llama-index->lastmile-eval) (3.3)\n",
                        "Requirement already satisfied: pillow>=9.0.0 in /opt/homebrew/Caskroom/miniconda/base/envs/env310/lib/python3.10/site-packages (from llama-index-core<0.11.0,>=0.10.35->llama-index->lastmile-eval) (10.3.0)\n",
                        "Requirement already satisfied: pypdf<5.0.0,>=4.0.1 in /opt/homebrew/Caskroom/miniconda/base/envs/env310/lib/python3.10/site-packages (from llama-index-readers-file<0.2.0,>=0.1.4->llama-index->lastmile-eval) (4.2.0)\n",
                        "Requirement already satisfied: striprtf<0.0.27,>=0.0.26 in /opt/homebrew/Caskroom/miniconda/base/envs/env310/lib/python3.10/site-packages (from llama-index-readers-file<0.2.0,>=0.1.4->llama-index->lastmile-eval) (0.0.26)\n",
                        "Requirement already satisfied: llama-parse<0.5.0,>=0.4.0 in /opt/homebrew/Caskroom/miniconda/base/envs/env310/lib/python3.10/site-packages (from llama-index-readers-llama-parse<0.2.0,>=0.1.2->llama-index->lastmile-eval) (0.4.2)\n",
                        "Requirement already satisfied: cssselect>=0.9.2 in /opt/homebrew/Caskroom/miniconda/base/envs/env310/lib/python3.10/site-packages (from newspaper3k<0.3.0,>=0.2.8->llama-index-readers-web->lastmile-eval) (1.2.0)\n",
                        "Requirement already satisfied: lxml>=3.6.0 in /opt/homebrew/Caskroom/miniconda/base/envs/env310/lib/python3.10/site-packages (from newspaper3k<0.3.0,>=0.2.8->llama-index-readers-web->lastmile-eval) (5.2.1)\n",
                        "Requirement already satisfied: feedparser>=5.2.1 in /opt/homebrew/Caskroom/miniconda/base/envs/env310/lib/python3.10/site-packages (from newspaper3k<0.3.0,>=0.2.8->llama-index-readers-web->lastmile-eval) (6.0.11)\n",
                        "Requirement already satisfied: tldextract>=2.0.1 in /opt/homebrew/Caskroom/miniconda/base/envs/env310/lib/python3.10/site-packages (from newspaper3k<0.3.0,>=0.2.8->llama-index-readers-web->lastmile-eval) (5.1.2)\n",
                        "Requirement already satisfied: feedfinder2>=0.0.4 in /opt/homebrew/Caskroom/miniconda/base/envs/env310/lib/python3.10/site-packages (from newspaper3k<0.3.0,>=0.2.8->llama-index-readers-web->lastmile-eval) (0.0.4)\n",
                        "Requirement already satisfied: jieba3k>=0.35.1 in /opt/homebrew/Caskroom/miniconda/base/envs/env310/lib/python3.10/site-packages (from newspaper3k<0.3.0,>=0.2.8->llama-index-readers-web->lastmile-eval) (0.35.1)\n",
                        "Requirement already satisfied: tinysegmenter==0.3 in /opt/homebrew/Caskroom/miniconda/base/envs/env310/lib/python3.10/site-packages (from newspaper3k<0.3.0,>=0.2.8->llama-index-readers-web->lastmile-eval) (0.3)\n",
                        "Requirement already satisfied: greenlet==3.0.3 in /opt/homebrew/Caskroom/miniconda/base/envs/env310/lib/python3.10/site-packages (from playwright<2.0,>=1.30->llama-index-readers-web->lastmile-eval) (3.0.3)\n",
                        "Requirement already satisfied: pyee==11.1.0 in /opt/homebrew/Caskroom/miniconda/base/envs/env310/lib/python3.10/site-packages (from playwright<2.0,>=1.30->llama-index-readers-web->lastmile-eval) (11.1.0)\n",
                        "Requirement already satisfied: markdown-it-py>=2.2.0 in /opt/homebrew/Caskroom/miniconda/base/envs/env310/lib/python3.10/site-packages (from rich<14.0.0,>=13.7.0->instructor->lastmile-eval) (3.0.0)\n",
                        "Requirement already satisfied: pygments<3.0.0,>=2.13.0 in /opt/homebrew/Caskroom/miniconda/base/envs/env310/lib/python3.10/site-packages (from rich<14.0.0,>=13.7.0->instructor->lastmile-eval) (2.15.1)\n",
                        "Requirement already satisfied: trio~=0.17 in /opt/homebrew/Caskroom/miniconda/base/envs/env310/lib/python3.10/site-packages (from selenium<5.0.0,>=4.17.2->llama-index-readers-web->lastmile-eval) (0.25.0)\n",
                        "Requirement already satisfied: trio-websocket~=0.9 in /opt/homebrew/Caskroom/miniconda/base/envs/env310/lib/python3.10/site-packages (from selenium<5.0.0,>=4.17.2->llama-index-readers-web->lastmile-eval) (0.11.1)\n",
                        "Requirement already satisfied: Werkzeug>=3.0.0 in /opt/homebrew/Caskroom/miniconda/base/envs/env310/lib/python3.10/site-packages (from flask[async]->python-aiconfig->lastmile-eval) (3.0.3)\n",
                        "Requirement already satisfied: itsdangerous>=2.1.2 in /opt/homebrew/Caskroom/miniconda/base/envs/env310/lib/python3.10/site-packages (from flask[async]->python-aiconfig->lastmile-eval) (2.2.0)\n",
                        "Requirement already satisfied: blinker>=1.6.2 in /opt/homebrew/Caskroom/miniconda/base/envs/env310/lib/python3.10/site-packages (from flask[async]->python-aiconfig->lastmile-eval) (1.8.2)\n",
                        "Requirement already satisfied: asgiref>=3.2 in /opt/homebrew/Caskroom/miniconda/base/envs/env310/lib/python3.10/site-packages (from flask[async]->python-aiconfig->lastmile-eval) (3.8.1)\n",
                        "Requirement already satisfied: setuptools>=16.0 in /opt/homebrew/Caskroom/miniconda/base/envs/env310/lib/python3.10/site-packages (from opentelemetry-instrumentation->openinference-instrumentation-langchain->lastmile-eval) (68.2.2)\n",
                        "Requirement already satisfied: wcwidth in /opt/homebrew/Caskroom/miniconda/base/envs/env310/lib/python3.10/site-packages (from prompt-toolkit->python-aiconfig->lastmile-eval) (0.2.5)\n",
                        "Requirement already satisfied: PyMeta3>=0.5.1 in /opt/homebrew/Caskroom/miniconda/base/envs/env310/lib/python3.10/site-packages (from pybars3->python-aiconfig->lastmile-eval) (0.5.1)\n",
                        "Requirement already satisfied: ruamel.yaml.clib>=0.2.7 in /opt/homebrew/Caskroom/miniconda/base/envs/env310/lib/python3.10/site-packages (from ruamel.yaml->python-aiconfig->lastmile-eval) (0.2.8)\n",
                        "Requirement already satisfied: sgmllib3k in /opt/homebrew/Caskroom/miniconda/base/envs/env310/lib/python3.10/site-packages (from feedparser>=5.2.1->newspaper3k<0.3.0,>=0.2.8->llama-index-readers-web->lastmile-eval) (1.0.0)\n",
                        "Requirement already satisfied: cachetools<6.0,>=2.0.0 in /opt/homebrew/Caskroom/miniconda/base/envs/env310/lib/python3.10/site-packages (from google-auth>=2.15.0->google-generativeai>=0.3.1->python-aiconfig->lastmile-eval) (5.3.3)\n",
                        "Requirement already satisfied: pyasn1-modules>=0.2.1 in /opt/homebrew/Caskroom/miniconda/base/envs/env310/lib/python3.10/site-packages (from google-auth>=2.15.0->google-generativeai>=0.3.1->python-aiconfig->lastmile-eval) (0.4.0)\n",
                        "Requirement already satisfied: rsa<5,>=3.1.4 in /opt/homebrew/Caskroom/miniconda/base/envs/env310/lib/python3.10/site-packages (from google-auth>=2.15.0->google-generativeai>=0.3.1->python-aiconfig->lastmile-eval) (4.9)\n",
                        "Requirement already satisfied: mdurl~=0.1 in /opt/homebrew/Caskroom/miniconda/base/envs/env310/lib/python3.10/site-packages (from markdown-it-py>=2.2.0->rich<14.0.0,>=13.7.0->instructor->lastmile-eval) (0.1.2)\n",
                        "Requirement already satisfied: requests-file>=1.4 in /opt/homebrew/Caskroom/miniconda/base/envs/env310/lib/python3.10/site-packages (from tldextract>=2.0.1->newspaper3k<0.3.0,>=0.2.8->llama-index-readers-web->lastmile-eval) (2.0.0)\n",
                        "Requirement already satisfied: outcome in /opt/homebrew/Caskroom/miniconda/base/envs/env310/lib/python3.10/site-packages (from trio~=0.17->selenium<5.0.0,>=4.17.2->llama-index-readers-web->lastmile-eval) (1.3.0.post0)\n",
                        "Requirement already satisfied: wsproto>=0.14 in /opt/homebrew/Caskroom/miniconda/base/envs/env310/lib/python3.10/site-packages (from trio-websocket~=0.9->selenium<5.0.0,>=4.17.2->llama-index-readers-web->lastmile-eval) (1.2.0)\n",
                        "Requirement already satisfied: pysocks!=1.5.7,<2.0,>=1.5.6 in /opt/homebrew/Caskroom/miniconda/base/envs/env310/lib/python3.10/site-packages (from urllib3[socks]<3,>=1.26->selenium<5.0.0,>=4.17.2->llama-index-readers-web->lastmile-eval) (1.7.1)\n",
                        "Requirement already satisfied: httplib2<1.dev0,>=0.19.0 in /opt/homebrew/Caskroom/miniconda/base/envs/env310/lib/python3.10/site-packages (from google-api-python-client->google-generativeai>=0.3.1->python-aiconfig->lastmile-eval) (0.22.0)\n",
                        "Requirement already satisfied: google-auth-httplib2<1.0.0,>=0.2.0 in /opt/homebrew/Caskroom/miniconda/base/envs/env310/lib/python3.10/site-packages (from google-api-python-client->google-generativeai>=0.3.1->python-aiconfig->lastmile-eval) (0.2.0)\n",
                        "Requirement already satisfied: uritemplate<5,>=3.0.1 in /opt/homebrew/Caskroom/miniconda/base/envs/env310/lib/python3.10/site-packages (from google-api-python-client->google-generativeai>=0.3.1->python-aiconfig->lastmile-eval) (4.1.1)\n",
                        "Requirement already satisfied: grpcio-status<2.0.dev0,>=1.33.2 in /opt/homebrew/Caskroom/miniconda/base/envs/env310/lib/python3.10/site-packages (from google-api-core[grpc]!=2.0.*,!=2.1.*,!=2.10.*,!=2.2.*,!=2.3.*,!=2.4.*,!=2.5.*,!=2.6.*,!=2.7.*,!=2.8.*,!=2.9.*,<3.0.0dev,>=1.34.1->google-ai-generativelanguage==0.6.3->google-generativeai>=0.3.1->python-aiconfig->lastmile-eval) (1.62.2)\n",
                        "Requirement already satisfied: pyparsing!=3.0.0,!=3.0.1,!=3.0.2,!=3.0.3,<4,>=2.4.2 in /opt/homebrew/Caskroom/miniconda/base/envs/env310/lib/python3.10/site-packages (from httplib2<1.dev0,>=0.19.0->google-api-python-client->google-generativeai>=0.3.1->python-aiconfig->lastmile-eval) (3.1.2)\n",
                        "Requirement already satisfied: pyasn1<0.7.0,>=0.4.6 in /opt/homebrew/Caskroom/miniconda/base/envs/env310/lib/python3.10/site-packages (from pyasn1-modules>=0.2.1->google-auth>=2.15.0->google-generativeai>=0.3.1->python-aiconfig->lastmile-eval) (0.6.0)\n"
                    ]
                }
            ],
            "source": [
                "!pip install scipy --quiet\n",
                "!pip install tenacity --quiet\n",
                "!pip install tiktoken --quiet\n",
                "!pip install termcolor --quiet\n",
                "!pip install openai --quiet\n",
                "!pip install lastmile-eval"
            ]
        },
        {
            "cell_type": "markdown",
            "id": "3108b91b",
            "metadata": {},
            "source": [
                "Setting up the OpenAI Wrapper is as easy as the following 5 lines."
            ]
        },
        {
            "cell_type": "code",
            "execution_count": 4,
            "id": "dab872c5",
            "metadata": {
                "ExecuteTime": {
                    "end_time": "2024-05-15T17:45:23.563149Z",
                    "start_time": "2024-05-15T17:45:22.925978Z"
                }
            },
            "outputs": [
                {
                    "ename": "NameError",
                    "evalue": "name 'openai' is not defined",
                    "output_type": "error",
                    "traceback": [
                        "\u001b[0;31m---------------------------------------------------------------------------\u001b[0m",
                        "\u001b[0;31mNameError\u001b[0m                                 Traceback (most recent call last)",
                        "Cell \u001b[0;32mIn[4], line 9\u001b[0m\n\u001b[1;32m      3\u001b[0m \u001b[38;5;28;01mfrom\u001b[39;00m \u001b[38;5;21;01mlastmile_eval\u001b[39;00m\u001b[38;5;21;01m.\u001b[39;00m\u001b[38;5;21;01mrag\u001b[39;00m\u001b[38;5;21;01m.\u001b[39;00m\u001b[38;5;21;01mdebugger\u001b[39;00m\u001b[38;5;21;01m.\u001b[39;00m\u001b[38;5;21;01mtracing\u001b[39;00m\u001b[38;5;21;01m.\u001b[39;00m\u001b[38;5;21;01msdk\u001b[39;00m \u001b[38;5;28;01mimport\u001b[39;00m get_lastmile_tracer\n\u001b[1;32m      5\u001b[0m \u001b[38;5;66;03m# tracer: LastMileTracer = get_lastmile_tracer(\u001b[39;00m\n\u001b[1;32m      6\u001b[0m \u001b[38;5;66;03m#     tracer_name=\"OpenAI Function Calling\",\u001b[39;00m\n\u001b[1;32m      7\u001b[0m \n\u001b[1;32m      8\u001b[0m \u001b[38;5;66;03m# )\u001b[39;00m\n\u001b[0;32m----> 9\u001b[0m client \u001b[38;5;241m=\u001b[39m openai_tracing\u001b[38;5;241m.\u001b[39mwrap(\u001b[43mopenai\u001b[49m\u001b[38;5;241m.\u001b[39mOpenAI(), tracer)\n",
                        "\u001b[0;31mNameError\u001b[0m: name 'openai' is not defined"
                    ]
                }
            ],
            "source": [
                "\n",
                "from lastmile_eval.rag.debugger.api.tracing import LastMileTracer\n",
                "from lastmile_eval.rag.debugger.tracing import openai as openai_tracing\n",
                "from lastmile_eval.rag.debugger.tracing.sdk import get_lastmile_tracer\n",
                "\n",
                "tracer: LastMileTracer = get_lastmile_tracer(\n",
                "    tracer_name=\"OpenAI Function Calling\",\n",
                "\n",
                ")\n",
                "client = openai_tracing.wrap(openai.OpenAI(), tracer)\n"
            ]
        },
        {
            "cell_type": "code",
            "execution_count": null,
            "id": "1251594d",
            "metadata": {},
            "outputs": [],
            "source": [
                "# OpenAI Setup\n",
                "from tenacity import retry, stop_after_attempt, wait_random_exponential\n",
                "from termcolor import colored\n",
                "import json\n",
                "\n",
                "import openai\n",
                "\n",
                "GPT_MODEL = \"gpt-4o\""
            ]
        },
        {
            "attachments": {},
            "cell_type": "markdown",
            "id": "69ee6a93",
            "metadata": {},
            "source": [
                "### Utilities\n",
                "\n",
                "First let's define a few utilities for making calls to the Chat Completions API and for maintaining and keeping track of the conversation state."
            ]
        },
        {
            "cell_type": "code",
            "execution_count": null,
            "id": "745ceec5",
            "metadata": {
                "ExecuteTime": {
                    "end_time": "2024-05-15T17:45:28.816345Z",
                    "start_time": "2024-05-15T17:45:28.814155Z"
                }
            },
            "outputs": [],
            "source": [
                "@retry(wait=wait_random_exponential(multiplier=1, max=40), stop=stop_after_attempt(3))\n",
                "def chat_completion_request(messages, tools=None, tool_choice=None, model=GPT_MODEL):\n",
                "    try:\n",
                "        response = client.chat.completions.create(\n",
                "            model=model,\n",
                "            messages=messages,\n",
                "            tools=tools,\n",
                "            tool_choice=tool_choice,\n",
                "        )\n",
                "        return response\n",
                "    except Exception as e:\n",
                "        print(\"Unable to generate ChatCompletion response\")\n",
                "        print(f\"Exception: {e}\")\n",
                "        return e\n"
            ]
        },
        {
            "cell_type": "code",
            "execution_count": null,
            "id": "c4d1c99f",
            "metadata": {
                "ExecuteTime": {
                    "end_time": "2024-05-15T17:45:30.003910Z",
                    "start_time": "2024-05-15T17:45:30.001259Z"
                }
            },
            "outputs": [],
            "source": [
                "def pretty_print_conversation(messages):\n",
                "    role_to_color = {\n",
                "        \"system\": \"red\",\n",
                "        \"user\": \"green\",\n",
                "        \"assistant\": \"blue\",\n",
                "        \"function\": \"magenta\",\n",
                "    }\n",
                "    \n",
                "    for message in messages:\n",
                "        if message[\"role\"] == \"system\":\n",
                "            print(colored(f\"system: {message['content']}\\n\", role_to_color[message[\"role\"]]))\n",
                "        elif message[\"role\"] == \"user\":\n",
                "            print(colored(f\"user: {message['content']}\\n\", role_to_color[message[\"role\"]]))\n",
                "        elif message[\"role\"] == \"assistant\" and message.get(\"function_call\"):\n",
                "            print(colored(f\"assistant: {message['function_call']}\\n\", role_to_color[message[\"role\"]]))\n",
                "        elif message[\"role\"] == \"assistant\" and not message.get(\"function_call\"):\n",
                "            print(colored(f\"assistant: {message['content']}\\n\", role_to_color[message[\"role\"]]))\n",
                "        elif message[\"role\"] == \"function\":\n",
                "            print(colored(f\"function ({message['name']}): {message['content']}\\n\", role_to_color[message[\"role\"]]))\n"
            ]
        },
        {
            "attachments": {},
            "cell_type": "markdown",
            "id": "29d4e02b",
            "metadata": {},
            "source": [
                "### Basic concepts\n",
                "\n",
                "Let's create some function specifications to interface with a hypothetical weather API. We'll pass these function specification to the Chat Completions API in order to generate function arguments that adhere to the specification."
            ]
        },
        {
            "cell_type": "code",
            "execution_count": null,
            "id": "d2e25069",
            "metadata": {
                "ExecuteTime": {
                    "end_time": "2024-05-15T17:45:31.794879Z",
                    "start_time": "2024-05-15T17:45:31.792617Z"
                }
            },
            "outputs": [],
            "source": [
                "tools = [\n",
                "    {\n",
                "        \"type\": \"function\",\n",
                "        \"function\": {\n",
                "            \"name\": \"get_current_weather\",\n",
                "            \"description\": \"Get the current weather\",\n",
                "            \"parameters\": {\n",
                "                \"type\": \"object\",\n",
                "                \"properties\": {\n",
                "                    \"location\": {\n",
                "                        \"type\": \"string\",\n",
                "                        \"description\": \"The city and state, e.g. San Francisco, CA\",\n",
                "                    },\n",
                "                    \"format\": {\n",
                "                        \"type\": \"string\",\n",
                "                        \"enum\": [\"celsius\", \"fahrenheit\"],\n",
                "                        \"description\": \"The temperature unit to use. Infer this from the users location.\",\n",
                "                    },\n",
                "                },\n",
                "                \"required\": [\"location\", \"format\"],\n",
                "            },\n",
                "        }\n",
                "    },\n",
                "    {\n",
                "        \"type\": \"function\",\n",
                "        \"function\": {\n",
                "            \"name\": \"get_n_day_weather_forecast\",\n",
                "            \"description\": \"Get an N-day weather forecast\",\n",
                "            \"parameters\": {\n",
                "                \"type\": \"object\",\n",
                "                \"properties\": {\n",
                "                    \"location\": {\n",
                "                        \"type\": \"string\",\n",
                "                        \"description\": \"The city and state, e.g. San Francisco, CA\",\n",
                "                    },\n",
                "                    \"format\": {\n",
                "                        \"type\": \"string\",\n",
                "                        \"enum\": [\"celsius\", \"fahrenheit\"],\n",
                "                        \"description\": \"The temperature unit to use. Infer this from the users location.\",\n",
                "                    },\n",
                "                    \"num_days\": {\n",
                "                        \"type\": \"integer\",\n",
                "                        \"description\": \"The number of days to forecast\",\n",
                "                    }\n",
                "                },\n",
                "                \"required\": [\"location\", \"format\", \"num_days\"]\n",
                "            },\n",
                "        }\n",
                "    },\n",
                "]"
            ]
        },
        {
            "attachments": {},
            "cell_type": "markdown",
            "id": "bfc39899",
            "metadata": {},
            "source": [
                "If we prompt the model about the current weather, it will respond with some clarifying questions."
            ]
        },
        {
            "cell_type": "code",
            "execution_count": null,
            "id": "518d6827",
            "metadata": {
                "ExecuteTime": {
                    "end_time": "2024-05-15T17:45:35.282310Z",
                    "start_time": "2024-05-15T17:45:33.861496Z"
                }
            },
            "outputs": [
                {
                    "data": {
                        "text/plain": [
                            "ChatCompletionMessage(content=\"I need to know your location to provide you with the current weather. Could you please specify the city and state (or country) you're in?\", role='assistant', function_call=None, tool_calls=None)"
                        ]
                    },
                    "execution_count": 6,
                    "metadata": {},
                    "output_type": "execute_result"
                }
            ],
            "source": [
                "messages = []\n",
                "messages.append({\"role\": \"system\", \"content\": \"Don't make assumptions about what values to plug into functions. Ask for clarification if a user request is ambiguous.\"})\n",
                "messages.append({\"role\": \"user\", \"content\": \"What's the weather like today\"})\n",
                "chat_response = chat_completion_request(\n",
                "    messages, tools=tools\n",
                ")\n",
                "assistant_message = chat_response.choices[0].message\n",
                "messages.append(assistant_message)\n",
                "assistant_message\n"
            ]
        },
        {
            "attachments": {},
            "cell_type": "markdown",
            "id": "4c999375",
            "metadata": {},
            "source": [
                "Once we provide the missing information, it will generate the appropriate function arguments for us."
            ]
        },
        {
            "cell_type": "code",
            "execution_count": null,
            "id": "23c42a6e",
            "metadata": {
                "ExecuteTime": {
                    "end_time": "2024-05-15T17:45:43.553403Z",
                    "start_time": "2024-05-15T17:45:42.205590Z"
                }
            },
            "outputs": [
                {
                    "data": {
                        "text/plain": [
                            "ChatCompletionMessage(content=None, role='assistant', function_call=None, tool_calls=[ChatCompletionMessageToolCall(id='call_Dn2RJJSxzDm49vlVTehseJ0k', function=Function(arguments='{\"location\":\"Glasgow, Scotland\",\"format\":\"celsius\"}', name='get_current_weather'), type='function')])"
                        ]
                    },
                    "execution_count": 7,
                    "metadata": {},
                    "output_type": "execute_result"
                }
            ],
            "source": [
                "messages.append({\"role\": \"user\", \"content\": \"I'm in Glasgow, Scotland.\"})\n",
                "chat_response = chat_completion_request(\n",
                "    messages, tools=tools\n",
                ")\n",
                "assistant_message = chat_response.choices[0].message\n",
                "messages.append(assistant_message)\n",
                "assistant_message\n"
            ]
        },
        {
            "attachments": {},
            "cell_type": "markdown",
            "id": "c14d4762",
            "metadata": {},
            "source": [
                "By prompting it differently, we can get it to target the other function we've told it about."
            ]
        },
        {
            "cell_type": "code",
            "execution_count": null,
            "id": "fa232e54",
            "metadata": {
                "ExecuteTime": {
                    "end_time": "2024-05-15T17:45:47.090638Z",
                    "start_time": "2024-05-15T17:45:46.302475Z"
                }
            },
            "outputs": [
                {
                    "data": {
                        "text/plain": [
                            "ChatCompletionMessage(content='Please specify the number of days (x) for which you want the weather forecast for Glasgow, Scotland.', role='assistant', function_call=None, tool_calls=None)"
                        ]
                    },
                    "execution_count": 8,
                    "metadata": {},
                    "output_type": "execute_result"
                }
            ],
            "source": [
                "messages = []\n",
                "messages.append({\"role\": \"system\", \"content\": \"Don't make assumptions about what values to plug into functions. Ask for clarification if a user request is ambiguous.\"})\n",
                "messages.append({\"role\": \"user\", \"content\": \"what is the weather going to be like in Glasgow, Scotland over the next x days\"})\n",
                "chat_response = chat_completion_request(\n",
                "    messages, tools=tools\n",
                ")\n",
                "assistant_message = chat_response.choices[0].message\n",
                "messages.append(assistant_message)\n",
                "assistant_message\n"
            ]
        },
        {
            "attachments": {},
            "cell_type": "markdown",
            "id": "6172ddac",
            "metadata": {},
            "source": [
                "Once again, the model is asking us for clarification because it doesn't have enough information yet. In this case it already knows the location for the forecast, but it needs to know how many days are required in the forecast."
            ]
        },
        {
            "cell_type": "code",
            "execution_count": null,
            "id": "c7d8a543",
            "metadata": {
                "ExecuteTime": {
                    "end_time": "2024-05-15T17:45:49.790820Z",
                    "start_time": "2024-05-15T17:45:48.847752Z"
                }
            },
            "outputs": [
                {
                    "data": {
                        "text/plain": [
                            "Choice(finish_reason='tool_calls', index=0, logprobs=None, message=ChatCompletionMessage(content=None, role='assistant', function_call=None, tool_calls=[ChatCompletionMessageToolCall(id='call_Yg5ydH9lHhLjjYQyXbNvh004', function=Function(arguments='{\"location\":\"Glasgow, Scotland\",\"format\":\"celsius\",\"num_days\":5}', name='get_n_day_weather_forecast'), type='function')]))"
                        ]
                    },
                    "execution_count": 9,
                    "metadata": {},
                    "output_type": "execute_result"
                }
            ],
            "source": [
                "messages.append({\"role\": \"user\", \"content\": \"5 days\"})\n",
                "chat_response = chat_completion_request(\n",
                "    messages, tools=tools\n",
                ")\n",
                "chat_response.choices[0]\n"
            ]
        },
        {
            "attachments": {},
            "cell_type": "markdown",
            "id": "4b758a0a",
            "metadata": {},
            "source": [
                "#### Forcing the use of specific functions or no function"
            ]
        },
        {
            "attachments": {},
            "cell_type": "markdown",
            "id": "412f79ba",
            "metadata": {},
            "source": [
                "We can force the model to use a specific function, for example get_n_day_weather_forecast by using the function_call argument. By doing so, we force the model to make assumptions about how to use it."
            ]
        },
        {
            "cell_type": "code",
            "execution_count": null,
            "id": "559371b7",
            "metadata": {
                "ExecuteTime": {
                    "end_time": "2024-05-15T17:45:54.194255Z",
                    "start_time": "2024-05-15T17:45:52.975746Z"
                }
            },
            "outputs": [
                {
                    "data": {
                        "text/plain": [
                            "ChatCompletionMessage(content=None, role='assistant', function_call=None, tool_calls=[ChatCompletionMessageToolCall(id='call_aP8ZEtGcyseL0btTMYxTCKbk', function=Function(arguments='{\"location\":\"Toronto, Canada\",\"format\":\"celsius\",\"num_days\":1}', name='get_n_day_weather_forecast'), type='function')])"
                        ]
                    },
                    "execution_count": 10,
                    "metadata": {},
                    "output_type": "execute_result"
                }
            ],
            "source": [
                "# in this cell we force the model to use get_n_day_weather_forecast\n",
                "messages = []\n",
                "messages.append({\"role\": \"system\", \"content\": \"Don't make assumptions about what values to plug into functions. Ask for clarification if a user request is ambiguous.\"})\n",
                "messages.append({\"role\": \"user\", \"content\": \"Give me a weather report for Toronto, Canada.\"})\n",
                "chat_response = chat_completion_request(\n",
                "    messages, tools=tools, tool_choice={\"type\": \"function\", \"function\": {\"name\": \"get_n_day_weather_forecast\"}}\n",
                ")\n",
                "chat_response.choices[0].message"
            ]
        },
        {
            "cell_type": "code",
            "execution_count": null,
            "id": "a7ab0f58",
            "metadata": {
                "ExecuteTime": {
                    "end_time": "2024-05-15T17:45:56.841233Z",
                    "start_time": "2024-05-15T17:45:55.433397Z"
                }
            },
            "outputs": [
                {
                    "data": {
                        "text/plain": [
                            "ChatCompletionMessage(content=None, role='assistant', function_call=None, tool_calls=[ChatCompletionMessageToolCall(id='call_5HqCVRaAoBuU0uTlO3MUwaWX', function=Function(arguments='{\"location\": \"Toronto, Canada\", \"format\": \"celsius\"}', name='get_current_weather'), type='function'), ChatCompletionMessageToolCall(id='call_C9kCha28xHEsxYl4PxZ1l5LI', function=Function(arguments='{\"location\": \"Toronto, Canada\", \"format\": \"celsius\", \"num_days\": 3}', name='get_n_day_weather_forecast'), type='function')])"
                        ]
                    },
                    "execution_count": 11,
                    "metadata": {},
                    "output_type": "execute_result"
                }
            ],
            "source": [
                "# if we don't force the model to use get_n_day_weather_forecast it may not\n",
                "messages = []\n",
                "messages.append({\"role\": \"system\", \"content\": \"Don't make assumptions about what values to plug into functions. Ask for clarification if a user request is ambiguous.\"})\n",
                "messages.append({\"role\": \"user\", \"content\": \"Give me a weather report for Toronto, Canada.\"})\n",
                "chat_response = chat_completion_request(\n",
                "    messages, tools=tools\n",
                ")\n",
                "chat_response.choices[0].message"
            ]
        },
        {
            "attachments": {},
            "cell_type": "markdown",
            "id": "3bd70e48",
            "metadata": {},
            "source": [
                "We can also force the model to not use a function at all. By doing so we prevent it from producing a proper function call."
            ]
        },
        {
            "cell_type": "code",
            "execution_count": null,
            "id": "acfe54e6",
            "metadata": {
                "ExecuteTime": {
                    "end_time": "2024-05-15T17:45:59.800346Z",
                    "start_time": "2024-05-15T17:45:59.289603Z"
                }
            },
            "outputs": [
                {
                    "data": {
                        "text/plain": [
                            "ChatCompletionMessage(content=\"I'll get the current weather for Toronto, Canada in Celsius.\", role='assistant', function_call=None, tool_calls=None)"
                        ]
                    },
                    "execution_count": 12,
                    "metadata": {},
                    "output_type": "execute_result"
                }
            ],
            "source": [
                "messages = []\n",
                "messages.append({\"role\": \"system\", \"content\": \"Don't make assumptions about what values to plug into functions. Ask for clarification if a user request is ambiguous.\"})\n",
                "messages.append({\"role\": \"user\", \"content\": \"Give me the current weather (use Celcius) for Toronto, Canada.\"})\n",
                "chat_response = chat_completion_request(\n",
                "    messages, tools=tools, tool_choice=\"none\"\n",
                ")\n",
                "chat_response.choices[0].message\n"
            ]
        },
        {
            "cell_type": "markdown",
            "id": "b616353b",
            "metadata": {},
            "source": [
                "### Parallel Function Calling\n",
                "\n",
                "Newer models such as gpt-4o or gpt-3.5-turbo can call multiple functions in one turn."
            ]
        },
        {
            "cell_type": "code",
            "execution_count": null,
            "id": "380eeb68",
            "metadata": {
                "ExecuteTime": {
                    "end_time": "2024-05-15T17:46:04.048553Z",
                    "start_time": "2024-05-15T17:46:01.273501Z"
                }
            },
            "outputs": [
                {
                    "data": {
                        "text/plain": [
                            "[ChatCompletionMessageToolCall(id='call_pFdKcCu5taDTtOOfX14vEDRp', function=Function(arguments='{\"location\": \"San Francisco, CA\", \"format\": \"fahrenheit\", \"num_days\": 4}', name='get_n_day_weather_forecast'), type='function'),\n",
                            " ChatCompletionMessageToolCall(id='call_Veeyp2hYJOKp0wT7ODxmTjaS', function=Function(arguments='{\"location\": \"Glasgow, UK\", \"format\": \"celsius\", \"num_days\": 4}', name='get_n_day_weather_forecast'), type='function')]"
                        ]
                    },
                    "execution_count": 13,
                    "metadata": {},
                    "output_type": "execute_result"
                }
            ],
            "source": [
                "messages = []\n",
                "messages.append({\"role\": \"system\", \"content\": \"Don't make assumptions about what values to plug into functions. Ask for clarification if a user request is ambiguous.\"})\n",
                "messages.append({\"role\": \"user\", \"content\": \"what is the weather going to be like in San Francisco and Glasgow over the next 4 days\"})\n",
                "chat_response = chat_completion_request(\n",
                "    messages, tools=tools, model=GPT_MODEL\n",
                ")\n",
                "\n",
                "assistant_message = chat_response.choices[0].message.tool_calls\n",
                "assistant_message"
            ]
        },
        {
            "attachments": {},
            "cell_type": "markdown",
            "id": "b4482aee",
            "metadata": {},
            "source": [
                "## How to call functions with model generated arguments\n",
                "\n",
                "In our next example, we'll demonstrate how to execute functions whose inputs are model-generated, and use this to implement an agent that can answer questions for us about a database. For simplicity we'll use the [Chinook sample database](https://www.sqlitetutorial.net/sqlite-sample-database/).\n",
                "\n",
                "*Note:* SQL generation can be high-risk in a production environment since models are not perfectly reliable at generating correct SQL."
            ]
        },
        {
            "attachments": {},
            "cell_type": "markdown",
            "id": "f7654fef",
            "metadata": {},
            "source": [
                "### Specifying a function to execute SQL queries\n",
                "\n",
                "First let's define some helpful utility functions to extract data from a SQLite database."
            ]
        },
        {
            "cell_type": "code",
            "execution_count": null,
            "id": "30f6b60e",
            "metadata": {
                "ExecuteTime": {
                    "end_time": "2024-05-15T17:46:07.270851Z",
                    "start_time": "2024-05-15T17:46:07.265545Z"
                }
            },
            "outputs": [
                {
                    "name": "stdout",
                    "output_type": "stream",
                    "text": [
                        "Opened database successfully\n"
                    ]
                }
            ],
            "source": [
                "import sqlite3\n",
                "\n",
                "conn = sqlite3.connect(\"data/Chinook.db\")\n",
                "print(\"Opened database successfully\")"
            ]
        },
        {
            "cell_type": "code",
            "execution_count": null,
            "id": "abec0214",
            "metadata": {
                "ExecuteTime": {
                    "end_time": "2024-05-15T17:46:09.345308Z",
                    "start_time": "2024-05-15T17:46:09.342998Z"
                }
            },
            "outputs": [],
            "source": [
                "def get_table_names(conn):\n",
                "    \"\"\"Return a list of table names.\"\"\"\n",
                "    table_names = []\n",
                "    tables = conn.execute(\"SELECT name FROM sqlite_master WHERE type='table';\")\n",
                "    for table in tables.fetchall():\n",
                "        table_names.append(table[0])\n",
                "    return table_names\n",
                "\n",
                "\n",
                "def get_column_names(conn, table_name):\n",
                "    \"\"\"Return a list of column names.\"\"\"\n",
                "    column_names = []\n",
                "    columns = conn.execute(f\"PRAGMA table_info('{table_name}');\").fetchall()\n",
                "    for col in columns:\n",
                "        column_names.append(col[1])\n",
                "    return column_names\n",
                "\n",
                "\n",
                "def get_database_info(conn):\n",
                "    \"\"\"Return a list of dicts containing the table name and columns for each table in the database.\"\"\"\n",
                "    table_dicts = []\n",
                "    for table_name in get_table_names(conn):\n",
                "        columns_names = get_column_names(conn, table_name)\n",
                "        table_dicts.append({\"table_name\": table_name, \"column_names\": columns_names})\n",
                "    return table_dicts\n"
            ]
        },
        {
            "attachments": {},
            "cell_type": "markdown",
            "id": "77e6e5ea",
            "metadata": {},
            "source": [
                "Now can use these utility functions to extract a representation of the database schema."
            ]
        },
        {
            "cell_type": "code",
            "execution_count": null,
            "id": "0c0104cd",
            "metadata": {
                "ExecuteTime": {
                    "end_time": "2024-05-15T17:46:11.303746Z",
                    "start_time": "2024-05-15T17:46:11.301210Z"
                }
            },
            "outputs": [],
            "source": [
                "database_schema_dict = get_database_info(conn)\n",
                "database_schema_string = \"\\n\".join(\n",
                "    [\n",
                "        f\"Table: {table['table_name']}\\nColumns: {', '.join(table['column_names'])}\"\n",
                "        for table in database_schema_dict\n",
                "    ]\n",
                ")"
            ]
        },
        {
            "attachments": {},
            "cell_type": "markdown",
            "id": "ae73c9ee",
            "metadata": {},
            "source": [
                "As before, we'll define a function specification for the function we'd like the API to generate arguments for. Notice that we are inserting the database schema into the function specification. This will be important for the model to know about."
            ]
        },
        {
            "cell_type": "code",
            "execution_count": null,
            "id": "0258813a",
            "metadata": {
                "ExecuteTime": {
                    "end_time": "2024-05-15T17:46:16.569530Z",
                    "start_time": "2024-05-15T17:46:16.567801Z"
                }
            },
            "outputs": [],
            "source": [
                "tools = [\n",
                "    {\n",
                "        \"type\": \"function\",\n",
                "        \"function\": {\n",
                "            \"name\": \"ask_database\",\n",
                "            \"description\": \"Use this function to answer user questions about music. Input should be a fully formed SQL query.\",\n",
                "            \"parameters\": {\n",
                "                \"type\": \"object\",\n",
                "                \"properties\": {\n",
                "                    \"query\": {\n",
                "                        \"type\": \"string\",\n",
                "                        \"description\": f\"\"\"\n",
                "                                SQL query extracting info to answer the user's question.\n",
                "                                SQL should be written using this database schema:\n",
                "                                {database_schema_string}\n",
                "                                The query should be returned in plain text, not in JSON.\n",
                "                                \"\"\",\n",
                "                    }\n",
                "                },\n",
                "                \"required\": [\"query\"],\n",
                "            },\n",
                "        }\n",
                "    }\n",
                "]"
            ]
        },
        {
            "attachments": {},
            "cell_type": "markdown",
            "id": "da08c121",
            "metadata": {},
            "source": [
                "### Executing SQL queries\n",
                "\n",
                "Now let's implement the function that will actually excute queries against the database."
            ]
        },
        {
            "cell_type": "code",
            "execution_count": null,
            "id": "65585e74",
            "metadata": {
                "ExecuteTime": {
                    "end_time": "2024-05-15T17:46:19.198723Z",
                    "start_time": "2024-05-15T17:46:19.197043Z"
                }
            },
            "outputs": [],
            "source": [
                "def ask_database(conn, query):\n",
                "    \"\"\"Function to query SQLite database with a provided SQL query.\"\"\"\n",
                "    try:\n",
                "        results = str(conn.execute(query).fetchall())\n",
                "    except Exception as e:\n",
                "        results = f\"query failed with error: {e}\"\n",
                "    return results"
            ]
        },
        {
            "cell_type": "markdown",
            "id": "8f6885e9f0af5c40",
            "metadata": {},
            "source": [
                "##### Steps to invoke a function call using Chat Completions API: \n",
                "\n",
                "**Step 1**: Prompt the model with content that may result in model selecting a tool to use. The description of the tools such as a function names and signature is defined in the 'Tools' list and passed to the model in API call. If selected, the function name and parameters are included in the response.<br>\n",
                "  \n",
                "**Step 2**: Check programmatically if model wanted to call a function. If true, proceed to step 3. <br>  \n",
                "**Step 3**: Extract the function name and parameters from response, call the function with parameters. Append the result to messages. <br>    \n",
                "**Step 4**: Invoke the chat completions API with the message list to get the response. "
            ]
        },
        {
            "cell_type": "code",
            "execution_count": null,
            "id": "e8b7cb9cdc7a7616",
            "metadata": {
                "ExecuteTime": {
                    "end_time": "2024-05-15T17:46:25.725379Z",
                    "start_time": "2024-05-15T17:46:24.255505Z"
                }
            },
            "outputs": [
                {
                    "name": "stdout",
                    "output_type": "stream",
                    "text": [
                        "ChatCompletionMessage(content=None, role='assistant', function_call=None, tool_calls=[ChatCompletionMessageToolCall(id='call_bXMf903yO78sdsMZble4yu90', function=Function(arguments='{\"query\":\"SELECT A.Title, COUNT(T.TrackId) AS TrackCount FROM Album A JOIN Track T ON A.AlbumId = T.AlbumId GROUP BY A.Title ORDER BY TrackCount DESC LIMIT 1;\"}', name='ask_database'), type='function')])\n"
                    ]
                }
            ],
            "source": [
                "# Step #1: Prompt with content that may result in function call. In this case the model can identify the information requested by the user is potentially available in the database schema passed to the model in Tools description. \n",
                "messages = [{\n",
                "    \"role\":\"user\", \n",
                "    \"content\": \"What is the name of the album with the most tracks?\"\n",
                "}]\n",
                "\n",
                "response = client.chat.completions.create(\n",
                "    model='gpt-4o', \n",
                "    messages=messages, \n",
                "    tools= tools, \n",
                "    tool_choice=\"auto\"\n",
                ")\n",
                "\n",
                "# Append the message to messages list\n",
                "response_message = response.choices[0].message \n",
                "messages.append(response_message)\n",
                "\n",
                "print(response_message)"
            ]
        },
        {
            "cell_type": "code",
            "execution_count": null,
            "id": "351c39def3417776",
            "metadata": {
                "ExecuteTime": {
                    "end_time": "2024-05-15T17:46:30.346444Z",
                    "start_time": "2024-05-15T17:46:29.699046Z"
                }
            },
            "outputs": [
                {
                    "name": "stdout",
                    "output_type": "stream",
                    "text": [
                        "The album with the most tracks is titled \"Greatest Hits,\" and it contains 57 tracks.\n"
                    ]
                }
            ],
            "source": [
                "# Step 2: determine if the response from the model includes a tool call.   \n",
                "tool_calls = response_message.tool_calls\n",
                "if tool_calls:\n",
                "    # If true the model will return the name of the tool / function to call and the argument(s)  \n",
                "    tool_call_id = tool_calls[0].id\n",
                "    tool_function_name = tool_calls[0].function.name\n",
                "    tool_query_string = eval(tool_calls[0].function.arguments)['query']\n",
                "    \n",
                "    # Step 3: Call the function and retrieve results. Append the results to the messages list.      \n",
                "    if tool_function_name == 'ask_database':\n",
                "        results = ask_database(conn, tool_query_string)\n",
                "        \n",
                "        messages.append({\n",
                "            \"role\":\"tool\", \n",
                "            \"tool_call_id\":tool_call_id, \n",
                "            \"name\": tool_function_name, \n",
                "            \"content\":results\n",
                "        })\n",
                "        \n",
                "        # Step 4: Invoke the chat completions API with the function response appended to the messages list\n",
                "        # Note that messages with role 'tool' must be a response to a preceding message with 'tool_calls'\n",
                "        model_response_with_function_call = client.chat.completions.create(\n",
                "            model=\"gpt-4o\",\n",
                "            messages=messages,\n",
                "        )  # get a new response from the model where it can see the function response\n",
                "        print(model_response_with_function_call.choices[0].message.content)\n",
                "    else: \n",
                "        print(f\"Error: function {tool_function_name} does not exist\")\n",
                "else: \n",
                "    # Model did not identify a function to call, result can be returned to the user \n",
                "    print(response_message.content) "
            ]
        },
        {
            "attachments": {},
            "cell_type": "markdown",
            "id": "2d89073c",
            "metadata": {},
            "source": [
                "## Next Steps\n",
                "\n",
                "See our other [notebook](How_to_call_functions_for_knowledge_retrieval.ipynb) that demonstrates how to use the Chat Completions API and functions for knowledge retrieval to interact conversationally with a knowledge base."
            ]
        }
    ],
    "metadata": {
        "kernelspec": {
            "display_name": "Python 3 (ipykernel)",
            "language": "python",
            "name": "python3"
        },
        "language_info": {
            "codemirror_mode": {
                "name": "ipython",
                "version": 3
            },
            "file_extension": ".py",
            "mimetype": "text/x-python",
            "name": "python",
            "nbconvert_exporter": "python",
            "pygments_lexer": "ipython3",
            "version": "3.10.13"
        }
    },
    "nbformat": 4,
    "nbformat_minor": 5
}
